{
 "cells": [
  {
   "cell_type": "code",
   "execution_count": 1,
   "outputs": [],
   "source": [
    "import numpy as np\n",
    "import pandas as pd\n",
    "from IPython.display import display\n",
    "df = pd.read_csv(\"HIV_AIDS_Diagnoses_by_Neighborhood__Sex__and_Race_Ethnicity.csv\", encoding='utf-8')\n",
    "# Load the dataset from the CSV Library"
   ],
   "metadata": {
    "collapsed": false
   }
  },
  {
   "cell_type": "code",
   "execution_count": 2,
   "outputs": [],
   "source": [
    "#Check t verify the datatypes of the variables in the dataset\n",
    "def getDatatypes():\n",
    "    try:\n",
    "        return df.dtypes\n",
    "    except BaseException as error:\n",
    "        print(error)"
   ],
   "metadata": {
    "collapsed": false
   }
  },
  {
   "cell_type": "code",
   "execution_count": 3,
   "outputs": [
    {
     "data": {
      "text/plain": "YEAR                                                                    int64\nBorough                                                                object\nNeighborhood (U.H.F)                                                   object\nSEX                                                                    object\nRACE/ETHNICITY                                                         object\nTOTAL NUMBER OF HIV DIAGNOSES                                          object\nHIV DIAGNOSES PER 100,000 POPULATION                                   object\nTOTAL NUMBER OF CONCURRENT HIV/AIDS DIAGNOSES                          object\nPROPORTION OF CONCURRENT HIV/AIDS DIAGNOSES AMONG ALL HIV DIAGNOSES    object\nTOTAL NUMBER OF AIDS DIAGNOSES                                         object\nAIDS DIAGNOSES PER 100,000 POPULATION                                  object\ndtype: object"
     },
     "execution_count": 3,
     "metadata": {},
     "output_type": "execute_result"
    }
   ],
   "source": [
    "getDatatypes()"
   ],
   "metadata": {
    "collapsed": false
   }
  },
  {
   "cell_type": "code",
   "execution_count": 4,
   "outputs": [
    {
     "data": {
      "text/plain": "YEAR                                                                    0.000000\nBorough                                                                32.620321\nNeighborhood (U.H.F)                                                    0.000000\nSEX                                                                     0.000000\nRACE/ETHNICITY                                                          0.000000\nTOTAL NUMBER OF HIV DIAGNOSES                                           0.066845\nHIV DIAGNOSES PER 100,000 POPULATION                                    0.824421\nTOTAL NUMBER OF CONCURRENT HIV/AIDS DIAGNOSES                           0.022282\nPROPORTION OF CONCURRENT HIV/AIDS DIAGNOSES AMONG ALL HIV DIAGNOSES    21.089572\nTOTAL NUMBER OF AIDS DIAGNOSES                                          0.033422\nAIDS DIAGNOSES PER 100,000 POPULATION                                   0.790998\ndtype: float64"
     },
     "execution_count": 4,
     "metadata": {},
     "output_type": "execute_result"
    }
   ],
   "source": [
    "df.isna().sum()  / df.shape[0] * 100"
   ],
   "metadata": {
    "collapsed": false
   }
  },
  {
   "cell_type": "markdown",
   "source": [],
   "metadata": {
    "collapsed": false
   }
  },
  {
   "cell_type": "code",
   "execution_count": 5,
   "outputs": [],
   "source": [
    "# Get the List of numeric columns\n",
    "numeric_columns = ['TOTAL NUMBER OF HIV DIAGNOSES','HIV DIAGNOSES PER 100,000 POPULATION','TOTAL NUMBER OF CONCURRENT HIV/AIDS DIAGNOSES','PROPORTION OF CONCURRENT HIV/AIDS DIAGNOSES AMONG ALL HIV DIAGNOSES','TOTAL NUMBER OF AIDS DIAGNOSES']"
   ],
   "metadata": {
    "collapsed": false
   }
  },
  {
   "cell_type": "code",
   "execution_count": 6,
   "outputs": [],
   "source": [
    "#convert the columns in number to numeric and reassign to the data frame\n",
    "def convertNumericColumns():\n",
    "    try:\n",
    "        for items in numeric_columns:\n",
    "            df[items] = pd.to_numeric(df[items], errors = 'coerce')\n",
    "        #DataCleaning Processing\n",
    "        # 1. Remove the \\n character from the datasets\n",
    "        df['Neighborhood (U.H.F)'] = df['Neighborhood (U.H.F)'].str.replace('\\n','')\n",
    "        df['RACE/ETHNICITY'] = df['RACE/ETHNICITY'].str.replace('\\n', '')\n",
    "        df['Borough'] = df['Borough'].str.replace('\\n','')\n",
    "    except BaseException as error:\n",
    "        print(error)\n",
    "convertNumericColumns()"
   ],
   "metadata": {
    "collapsed": false
   }
  },
  {
   "cell_type": "code",
   "execution_count": 7,
   "outputs": [],
   "source": [
    "#Remove all white spaces and also\n",
    "def consolidateNeigborhoodNames():\n",
    "    try:\n",
    "        df['Neighborhood (U.H.F)'] = df['Neighborhood (U.H.F)'].str.replace(' -','-').str.replace('- ','-').str.replace(' ','')\n",
    "        df['Neighborhood (U.H.F)'] = [names.lower() for names in df['Neighborhood (U.H.F)']]\n",
    "    except BaseException as error:\n",
    "        print(error)\n",
    "consolidateNeigborhoodNames()"
   ],
   "metadata": {
    "collapsed": false
   }
  },
  {
   "cell_type": "code",
   "execution_count": 8,
   "outputs": [
    {
     "data": {
      "text/plain": "{'all',\n 'bayside-littleneck',\n 'bedfordstuyvesant-crownheights',\n 'bensonhurst-bayridge',\n 'boroughpark',\n 'canarsie-flatlands',\n 'centralharlem-morningsideheights',\n 'chelsea-clinton',\n 'coneyisland-sheepsheadbay',\n 'crotona-tremont',\n 'downtown-heights-parkslope',\n 'eastflatbush-flatbush',\n 'eastharlem',\n 'eastnewyork',\n 'flushing-clearview',\n 'fordham-bronxpark',\n 'freshmeadows',\n 'gramercypark-murrayhill',\n 'greenpoint',\n 'greenwichvillage-soho',\n 'highbridge-morrisania',\n 'huntspoint-motthaven',\n 'jamaica',\n 'kingsbridge-riverdale',\n 'longislandcity-astoria',\n 'lowermanhattan',\n 'northeastbronx',\n 'pelham-throgsneck',\n 'portrichmond',\n 'ridgewood-foresthills',\n 'rockaway',\n 'southbeach-tottenville',\n 'southeastqueens',\n 'southwestqueens',\n 'stapleton-st.george',\n 'sunsetpark',\n 'unionsquare-lowereastside',\n 'unknown',\n 'uppereastside',\n 'upperwestside',\n 'washingtonheights-inwood',\n 'westqueens',\n 'williamsburg-bushwick',\n 'willowbrook'}"
     },
     "execution_count": 8,
     "metadata": {},
     "output_type": "execute_result"
    }
   ],
   "source": [
    "set(df['Neighborhood (U.H.F)'])"
   ],
   "metadata": {
    "collapsed": false
   }
  },
  {
   "cell_type": "code",
   "execution_count": 9,
   "outputs": [],
   "source": [
    "def preProcesstheGenderColumn():\n",
    "    try:\n",
    "        df['SEX']\n",
    "    except BaseException as error:\n",
    "        print(error)"
   ],
   "metadata": {
    "collapsed": false
   }
  },
  {
   "cell_type": "code",
   "execution_count": 10,
   "outputs": [
    {
     "data": {
      "text/plain": "{'All', 'Female', 'Male'}"
     },
     "execution_count": 10,
     "metadata": {},
     "output_type": "execute_result"
    }
   ],
   "source": [
    "set(df['SEX'])"
   ],
   "metadata": {
    "collapsed": false
   }
  },
  {
   "cell_type": "code",
   "execution_count": 11,
   "outputs": [
    {
     "data": {
      "text/plain": "{'All',\n 'Asian/Pacific Islander',\n 'Asian/PacificIslander',\n 'Black',\n 'Hispanic',\n 'Latino/Hispanic',\n 'Multiracial',\n 'Native American',\n 'Other/Unknown',\n 'Unknown',\n 'White'}"
     },
     "execution_count": 11,
     "metadata": {},
     "output_type": "execute_result"
    }
   ],
   "source": [
    "set(df['RACE/ETHNICITY'])"
   ],
   "metadata": {
    "collapsed": false
   }
  },
  {
   "cell_type": "code",
   "execution_count": 12,
   "outputs": [],
   "source": [
    "def cleanRaceEth():\n",
    "    try:\n",
    "        df['RACE/ETHNICITY'] = df['RACE/ETHNICITY'].str.replace(' ','').str.replace('Latino/Hispanic','Hispanic').str.replace('Other/Unknown','Unknown')\n",
    "        df['RACE/ETHNICITY'] = [names.lower() for names in df['RACE/ETHNICITY']]\n",
    "    except BaseException as error:\n",
    "        print(error)\n",
    "cleanRaceEth()"
   ],
   "metadata": {
    "collapsed": false
   }
  },
  {
   "cell_type": "code",
   "execution_count": 261,
   "outputs": [
    {
     "data": {
      "text/plain": "{'all',\n 'asian/pacificislander',\n 'black',\n 'hispanic',\n 'multiracial',\n 'nativeamerican',\n 'unknown',\n 'white'}"
     },
     "execution_count": 261,
     "metadata": {},
     "output_type": "execute_result"
    }
   ],
   "source": [
    "set(df['RACE/ETHNICITY'])"
   ],
   "metadata": {
    "collapsed": false
   }
  },
  {
   "cell_type": "code",
   "execution_count": 262,
   "outputs": [
    {
     "data": {
      "text/plain": "   YEAR Borough   Neighborhood (U.H.F)     SEX  RACE/ETHNICITY  \\\n0  2010     NaN             greenpoint    Male           black   \n1  2011     NaN    stapleton-st.george  Female  nativeamerican   \n2  2010     NaN        southeastqueens    Male             all   \n3  2012     NaN          upperwestside  Female         unknown   \n4  2013     NaN            willowbrook    Male         unknown   \n5  2013     NaN  eastflatbush-flatbush    Male           black   \n6  2013     NaN  eastflatbush-flatbush  Female  nativeamerican   \n7  2013     NaN        southwestqueens  Female         unknown   \n8  2012     NaN      fordham-bronxpark    Male         unknown   \n9  2010     NaN     flushing-clearview     All             all   \n\n   TOTAL NUMBER OF HIV DIAGNOSES  HIV DIAGNOSES PER 100,000 POPULATION  \\\n0                            6.0                                 330.4   \n1                            0.0                                   0.0   \n2                           23.0                                  25.4   \n3                            0.0                                   0.0   \n4                            0.0                                   0.0   \n5                           54.0                                  56.5   \n6                            0.0                                   0.0   \n7                            0.0                                   0.0   \n8                            0.0                                   0.0   \n9                           14.0                                   5.4   \n\n   TOTAL NUMBER OF CONCURRENT HIV/AIDS DIAGNOSES  \\\n0                                            0.0   \n1                                            0.0   \n2                                            5.0   \n3                                            0.0   \n4                                            0.0   \n5                                            8.0   \n6                                            0.0   \n7                                            0.0   \n8                                            0.0   \n9                                            5.0   \n\n   PROPORTION OF CONCURRENT HIV/AIDS DIAGNOSES AMONG ALL HIV DIAGNOSES  \\\n0                                                0.0                     \n1                                                0.0                     \n2                                               21.7                     \n3                                                0.0                     \n4                                                0.0                     \n5                                               14.8                     \n6                                                0.0                     \n7                                                0.0                     \n8                                                0.0                     \n9                                               35.7                     \n\n   TOTAL NUMBER OF AIDS DIAGNOSES AIDS DIAGNOSES PER 100,000 POPULATION  \n0                             5.0                                 275.3  \n1                             0.0                                     0  \n2                            14.0                                  15.4  \n3                             0.0                                     0  \n4                             0.0                                     0  \n5                            33.0                                  34.5  \n6                             0.0                                     0  \n7                             0.0                                     0  \n8                             0.0                                     0  \n9                            12.0                                   4.6  ",
      "text/html": "<div>\n<style scoped>\n    .dataframe tbody tr th:only-of-type {\n        vertical-align: middle;\n    }\n\n    .dataframe tbody tr th {\n        vertical-align: top;\n    }\n\n    .dataframe thead th {\n        text-align: right;\n    }\n</style>\n<table border=\"1\" class=\"dataframe\">\n  <thead>\n    <tr style=\"text-align: right;\">\n      <th></th>\n      <th>YEAR</th>\n      <th>Borough</th>\n      <th>Neighborhood (U.H.F)</th>\n      <th>SEX</th>\n      <th>RACE/ETHNICITY</th>\n      <th>TOTAL NUMBER OF HIV DIAGNOSES</th>\n      <th>HIV DIAGNOSES PER 100,000 POPULATION</th>\n      <th>TOTAL NUMBER OF CONCURRENT HIV/AIDS DIAGNOSES</th>\n      <th>PROPORTION OF CONCURRENT HIV/AIDS DIAGNOSES AMONG ALL HIV DIAGNOSES</th>\n      <th>TOTAL NUMBER OF AIDS DIAGNOSES</th>\n      <th>AIDS DIAGNOSES PER 100,000 POPULATION</th>\n    </tr>\n  </thead>\n  <tbody>\n    <tr>\n      <th>0</th>\n      <td>2010</td>\n      <td>NaN</td>\n      <td>greenpoint</td>\n      <td>Male</td>\n      <td>black</td>\n      <td>6.0</td>\n      <td>330.4</td>\n      <td>0.0</td>\n      <td>0.0</td>\n      <td>5.0</td>\n      <td>275.3</td>\n    </tr>\n    <tr>\n      <th>1</th>\n      <td>2011</td>\n      <td>NaN</td>\n      <td>stapleton-st.george</td>\n      <td>Female</td>\n      <td>nativeamerican</td>\n      <td>0.0</td>\n      <td>0.0</td>\n      <td>0.0</td>\n      <td>0.0</td>\n      <td>0.0</td>\n      <td>0</td>\n    </tr>\n    <tr>\n      <th>2</th>\n      <td>2010</td>\n      <td>NaN</td>\n      <td>southeastqueens</td>\n      <td>Male</td>\n      <td>all</td>\n      <td>23.0</td>\n      <td>25.4</td>\n      <td>5.0</td>\n      <td>21.7</td>\n      <td>14.0</td>\n      <td>15.4</td>\n    </tr>\n    <tr>\n      <th>3</th>\n      <td>2012</td>\n      <td>NaN</td>\n      <td>upperwestside</td>\n      <td>Female</td>\n      <td>unknown</td>\n      <td>0.0</td>\n      <td>0.0</td>\n      <td>0.0</td>\n      <td>0.0</td>\n      <td>0.0</td>\n      <td>0</td>\n    </tr>\n    <tr>\n      <th>4</th>\n      <td>2013</td>\n      <td>NaN</td>\n      <td>willowbrook</td>\n      <td>Male</td>\n      <td>unknown</td>\n      <td>0.0</td>\n      <td>0.0</td>\n      <td>0.0</td>\n      <td>0.0</td>\n      <td>0.0</td>\n      <td>0</td>\n    </tr>\n    <tr>\n      <th>5</th>\n      <td>2013</td>\n      <td>NaN</td>\n      <td>eastflatbush-flatbush</td>\n      <td>Male</td>\n      <td>black</td>\n      <td>54.0</td>\n      <td>56.5</td>\n      <td>8.0</td>\n      <td>14.8</td>\n      <td>33.0</td>\n      <td>34.5</td>\n    </tr>\n    <tr>\n      <th>6</th>\n      <td>2013</td>\n      <td>NaN</td>\n      <td>eastflatbush-flatbush</td>\n      <td>Female</td>\n      <td>nativeamerican</td>\n      <td>0.0</td>\n      <td>0.0</td>\n      <td>0.0</td>\n      <td>0.0</td>\n      <td>0.0</td>\n      <td>0</td>\n    </tr>\n    <tr>\n      <th>7</th>\n      <td>2013</td>\n      <td>NaN</td>\n      <td>southwestqueens</td>\n      <td>Female</td>\n      <td>unknown</td>\n      <td>0.0</td>\n      <td>0.0</td>\n      <td>0.0</td>\n      <td>0.0</td>\n      <td>0.0</td>\n      <td>0</td>\n    </tr>\n    <tr>\n      <th>8</th>\n      <td>2012</td>\n      <td>NaN</td>\n      <td>fordham-bronxpark</td>\n      <td>Male</td>\n      <td>unknown</td>\n      <td>0.0</td>\n      <td>0.0</td>\n      <td>0.0</td>\n      <td>0.0</td>\n      <td>0.0</td>\n      <td>0</td>\n    </tr>\n    <tr>\n      <th>9</th>\n      <td>2010</td>\n      <td>NaN</td>\n      <td>flushing-clearview</td>\n      <td>All</td>\n      <td>all</td>\n      <td>14.0</td>\n      <td>5.4</td>\n      <td>5.0</td>\n      <td>35.7</td>\n      <td>12.0</td>\n      <td>4.6</td>\n    </tr>\n  </tbody>\n</table>\n</div>"
     },
     "execution_count": 262,
     "metadata": {},
     "output_type": "execute_result"
    }
   ],
   "source": [
    "df.head(10)"
   ],
   "metadata": {
    "collapsed": false
   }
  },
  {
   "cell_type": "code",
   "execution_count": 269,
   "outputs": [
    {
     "data": {
      "text/plain": "{'all',\n 'bayside-littleneck',\n 'bedfordstuyvesant-crownheights',\n 'bensonhurst-bayridge',\n 'boroughpark',\n 'canarsie-flatlands',\n 'centralharlem-morningsideheights',\n 'chelsea-clinton',\n 'coneyisland-sheepsheadbay',\n 'crotona-tremont',\n 'downtown-heights-parkslope',\n 'eastflatbush-flatbush',\n 'eastharlem',\n 'eastnewyork',\n 'flushing-clearview',\n 'fordham-bronxpark',\n 'freshmeadows',\n 'gramercypark-murrayhill',\n 'greenpoint',\n 'greenwichvillage-soho',\n 'highbridge-morrisania',\n 'huntspoint-motthaven',\n 'jamaica',\n 'kingsbridge-riverdale',\n 'longislandcity-astoria',\n 'lowermanhattan',\n 'northeastbronx',\n 'pelham-throgsneck',\n 'portrichmond',\n 'ridgewood-foresthills',\n 'rockaway',\n 'southbeach-tottenville',\n 'southeastqueens',\n 'southwestqueens',\n 'stapleton-st.george',\n 'sunsetpark',\n 'unionsquare-lowereastside',\n 'unknown',\n 'uppereastside',\n 'upperwestside',\n 'washingtonheights-inwood',\n 'westqueens',\n 'williamsburg-bushwick',\n 'willowbrook'}"
     },
     "execution_count": 269,
     "metadata": {},
     "output_type": "execute_result"
    }
   ],
   "source": [
    "missing_borough = df[df['Borough'].isna()]\n",
    "set(missing_borough['Neighborhood (U.H.F)']) # note from the output below, we will deal with missing values by matching similar neighborhood with borough already captured in our dataset.\n",
    "#All indicates i.e if SEX = All, it represents male and female, same thing applies for RACE/ETHINICITY"
   ],
   "metadata": {
    "collapsed": false
   }
  },
  {
   "cell_type": "code",
   "execution_count": 216,
   "outputs": [
    {
     "data": {
      "text/plain": "      YEAR Borough Neighborhood (U.H.F)   SEX         RACE/ETHNICITY  \\\n2928  2016     All                  All   All                    All   \n2929  2016     All                  All   All  Asian/PacificIslander   \n2930  2016     All                  All   All                  Black   \n2931  2016     All                  All   All        Latino/Hispanic   \n2932  2016     All                  All   All          Other/Unknown   \n...    ...     ...                  ...   ...                    ...   \n8125  2021     All                  All  Male  Asian/PacificIslander   \n8126  2021     All                  All  Male                  Black   \n8127  2021     All                  All  Male        Latino/Hispanic   \n8128  2021     All                  All  Male          Other/Unknown   \n8129  2021     All                  All  Male                  White   \n\n      TOTAL NUMBER OF HIV DIAGNOSES  HIV DIAGNOSES PER 100,000 POPULATION  \\\n2928                         2235.0                                  31.2   \n2929                          145.0                                  13.8   \n2930                          933.0                                  58.4   \n2931                          792.0                                  39.6   \n2932                           27.0                                  22.9   \n...                             ...                                   ...   \n8125                           82.0                                  15.7   \n8126                          533.0                                  74.7   \n8127                          509.0                                  52.2   \n8128                           15.0                                  24.8   \n8129                          167.0                                  14.6   \n\n      TOTAL NUMBER OF CONCURRENT HIV/AIDS DIAGNOSES  \\\n2928                                          367.0   \n2929                                           32.0   \n2930                                          171.0   \n2931                                          115.0   \n2932                                            6.0   \n...                                             ...   \n8125                                           23.0   \n8126                                           92.0   \n8127                                          102.0   \n8128                                            4.0   \n8129                                           24.0   \n\n      PROPORTION OF CONCURRENT HIV/AIDS DIAGNOSES AMONG ALL HIV DIAGNOSES  \\\n2928                                               16.4                     \n2929                                               22.1                     \n2930                                               18.3                     \n2931                                               14.5                     \n2932                                               22.2                     \n...                                                 ...                     \n8125                                               28.0                     \n8126                                               17.3                     \n8127                                               20.0                     \n8128                                               26.7                     \n8129                                               14.4                     \n\n      TOTAL NUMBER OF AIDS DIAGNOSES AIDS DIAGNOSES PER 100,000 POPULATION  \n2928                          1390.0                                  19.4  \n2929                            52.0                                     5  \n2930                           668.0                                  41.8  \n2931                           474.0                                  23.7  \n2932                            13.0                                    11  \n...                              ...                                   ...  \n8125                            37.0                                   7.1  \n8126                           342.0                                    48  \n8127                           302.0                                    31  \n8128                            11.0                                  18.2  \n8129                           101.0                                   8.9  \n\n[126 rows x 11 columns]",
      "text/html": "<div>\n<style scoped>\n    .dataframe tbody tr th:only-of-type {\n        vertical-align: middle;\n    }\n\n    .dataframe tbody tr th {\n        vertical-align: top;\n    }\n\n    .dataframe thead th {\n        text-align: right;\n    }\n</style>\n<table border=\"1\" class=\"dataframe\">\n  <thead>\n    <tr style=\"text-align: right;\">\n      <th></th>\n      <th>YEAR</th>\n      <th>Borough</th>\n      <th>Neighborhood (U.H.F)</th>\n      <th>SEX</th>\n      <th>RACE/ETHNICITY</th>\n      <th>TOTAL NUMBER OF HIV DIAGNOSES</th>\n      <th>HIV DIAGNOSES PER 100,000 POPULATION</th>\n      <th>TOTAL NUMBER OF CONCURRENT HIV/AIDS DIAGNOSES</th>\n      <th>PROPORTION OF CONCURRENT HIV/AIDS DIAGNOSES AMONG ALL HIV DIAGNOSES</th>\n      <th>TOTAL NUMBER OF AIDS DIAGNOSES</th>\n      <th>AIDS DIAGNOSES PER 100,000 POPULATION</th>\n    </tr>\n  </thead>\n  <tbody>\n    <tr>\n      <th>2928</th>\n      <td>2016</td>\n      <td>All</td>\n      <td>All</td>\n      <td>All</td>\n      <td>All</td>\n      <td>2235.0</td>\n      <td>31.2</td>\n      <td>367.0</td>\n      <td>16.4</td>\n      <td>1390.0</td>\n      <td>19.4</td>\n    </tr>\n    <tr>\n      <th>2929</th>\n      <td>2016</td>\n      <td>All</td>\n      <td>All</td>\n      <td>All</td>\n      <td>Asian/PacificIslander</td>\n      <td>145.0</td>\n      <td>13.8</td>\n      <td>32.0</td>\n      <td>22.1</td>\n      <td>52.0</td>\n      <td>5</td>\n    </tr>\n    <tr>\n      <th>2930</th>\n      <td>2016</td>\n      <td>All</td>\n      <td>All</td>\n      <td>All</td>\n      <td>Black</td>\n      <td>933.0</td>\n      <td>58.4</td>\n      <td>171.0</td>\n      <td>18.3</td>\n      <td>668.0</td>\n      <td>41.8</td>\n    </tr>\n    <tr>\n      <th>2931</th>\n      <td>2016</td>\n      <td>All</td>\n      <td>All</td>\n      <td>All</td>\n      <td>Latino/Hispanic</td>\n      <td>792.0</td>\n      <td>39.6</td>\n      <td>115.0</td>\n      <td>14.5</td>\n      <td>474.0</td>\n      <td>23.7</td>\n    </tr>\n    <tr>\n      <th>2932</th>\n      <td>2016</td>\n      <td>All</td>\n      <td>All</td>\n      <td>All</td>\n      <td>Other/Unknown</td>\n      <td>27.0</td>\n      <td>22.9</td>\n      <td>6.0</td>\n      <td>22.2</td>\n      <td>13.0</td>\n      <td>11</td>\n    </tr>\n    <tr>\n      <th>...</th>\n      <td>...</td>\n      <td>...</td>\n      <td>...</td>\n      <td>...</td>\n      <td>...</td>\n      <td>...</td>\n      <td>...</td>\n      <td>...</td>\n      <td>...</td>\n      <td>...</td>\n      <td>...</td>\n    </tr>\n    <tr>\n      <th>8125</th>\n      <td>2021</td>\n      <td>All</td>\n      <td>All</td>\n      <td>Male</td>\n      <td>Asian/PacificIslander</td>\n      <td>82.0</td>\n      <td>15.7</td>\n      <td>23.0</td>\n      <td>28.0</td>\n      <td>37.0</td>\n      <td>7.1</td>\n    </tr>\n    <tr>\n      <th>8126</th>\n      <td>2021</td>\n      <td>All</td>\n      <td>All</td>\n      <td>Male</td>\n      <td>Black</td>\n      <td>533.0</td>\n      <td>74.7</td>\n      <td>92.0</td>\n      <td>17.3</td>\n      <td>342.0</td>\n      <td>48</td>\n    </tr>\n    <tr>\n      <th>8127</th>\n      <td>2021</td>\n      <td>All</td>\n      <td>All</td>\n      <td>Male</td>\n      <td>Latino/Hispanic</td>\n      <td>509.0</td>\n      <td>52.2</td>\n      <td>102.0</td>\n      <td>20.0</td>\n      <td>302.0</td>\n      <td>31</td>\n    </tr>\n    <tr>\n      <th>8128</th>\n      <td>2021</td>\n      <td>All</td>\n      <td>All</td>\n      <td>Male</td>\n      <td>Other/Unknown</td>\n      <td>15.0</td>\n      <td>24.8</td>\n      <td>4.0</td>\n      <td>26.7</td>\n      <td>11.0</td>\n      <td>18.2</td>\n    </tr>\n    <tr>\n      <th>8129</th>\n      <td>2021</td>\n      <td>All</td>\n      <td>All</td>\n      <td>Male</td>\n      <td>White</td>\n      <td>167.0</td>\n      <td>14.6</td>\n      <td>24.0</td>\n      <td>14.4</td>\n      <td>101.0</td>\n      <td>8.9</td>\n    </tr>\n  </tbody>\n</table>\n<p>126 rows × 11 columns</p>\n</div>"
     },
     "execution_count": 216,
     "metadata": {},
     "output_type": "execute_result"
    }
   ],
   "source": [
    "df[df['Borough'] == 'All']"
   ],
   "metadata": {
    "collapsed": false
   }
  },
  {
   "cell_type": "code",
   "execution_count": 217,
   "outputs": [
    {
     "data": {
      "text/plain": "      YEAR       Borough Neighborhood (U.H.F)   SEX         RACE/ETHNICITY  \\\n8112  2021           All                  All   All                    All   \n8113  2021           All                  All   All  Asian/PacificIslander   \n8114  2021           All                  All   All                  Black   \n8115  2021           All                  All   All        Latino/Hispanic   \n8116  2021           All                  All   All          Other/Unknown   \n...    ...           ...                  ...   ...                    ...   \n8971  2021  StatenIsland          Willowbrook  Male  Asian/PacificIslander   \n8972  2021  StatenIsland          Willowbrook  Male                  Black   \n8973  2021  StatenIsland          Willowbrook  Male        Latino/Hispanic   \n8974  2021  StatenIsland          Willowbrook  Male          Other/Unknown   \n8975  2021  StatenIsland          Willowbrook  Male                  White   \n\n      TOTAL NUMBER OF HIV DIAGNOSES  HIV DIAGNOSES PER 100,000 POPULATION  \\\n8112                         1592.0                                  22.1   \n8113                           91.0                                   8.2   \n8114                          702.0                                  44.3   \n8115                          593.0                                  29.2   \n8116                           19.0                                  14.6   \n...                             ...                                   ...   \n8971                            2.0                                  24.2   \n8972                            0.0                                   0.0   \n8973                            1.0                                  18.2   \n8974                            0.0                                   0.0   \n8975                            0.0                                   0.0   \n\n      TOTAL NUMBER OF CONCURRENT HIV/AIDS DIAGNOSES  \\\n8112                                          306.0   \n8113                                           27.0   \n8114                                          129.0   \n8115                                          117.0   \n8116                                            5.0   \n...                                             ...   \n8971                                            0.0   \n8972                                            0.0   \n8973                                            0.0   \n8974                                            0.0   \n8975                                            0.0   \n\n      PROPORTION OF CONCURRENT HIV/AIDS DIAGNOSES AMONG ALL HIV DIAGNOSES  \\\n8112                                               19.2                     \n8113                                               29.7                     \n8114                                               18.4                     \n8115                                               19.7                     \n8116                                               26.3                     \n...                                                 ...                     \n8971                                                0.0                     \n8972                                                NaN                     \n8973                                                0.0                     \n8974                                                NaN                     \n8975                                                NaN                     \n\n      TOTAL NUMBER OF AIDS DIAGNOSES AIDS DIAGNOSES PER 100,000 POPULATION  \n8112                          1053.0                                  14.6  \n8113                            44.0                                     4  \n8114                           511.0                                  32.3  \n8115                           369.0                                  18.2  \n8116                            15.0                                  11.5  \n...                              ...                                   ...  \n8971                             0.0                                     0  \n8972                             0.0                                     0  \n8973                             0.0                                     0  \n8974                             1.0                                   153  \n8975                             3.0                                  12.8  \n\n[864 rows x 11 columns]",
      "text/html": "<div>\n<style scoped>\n    .dataframe tbody tr th:only-of-type {\n        vertical-align: middle;\n    }\n\n    .dataframe tbody tr th {\n        vertical-align: top;\n    }\n\n    .dataframe thead th {\n        text-align: right;\n    }\n</style>\n<table border=\"1\" class=\"dataframe\">\n  <thead>\n    <tr style=\"text-align: right;\">\n      <th></th>\n      <th>YEAR</th>\n      <th>Borough</th>\n      <th>Neighborhood (U.H.F)</th>\n      <th>SEX</th>\n      <th>RACE/ETHNICITY</th>\n      <th>TOTAL NUMBER OF HIV DIAGNOSES</th>\n      <th>HIV DIAGNOSES PER 100,000 POPULATION</th>\n      <th>TOTAL NUMBER OF CONCURRENT HIV/AIDS DIAGNOSES</th>\n      <th>PROPORTION OF CONCURRENT HIV/AIDS DIAGNOSES AMONG ALL HIV DIAGNOSES</th>\n      <th>TOTAL NUMBER OF AIDS DIAGNOSES</th>\n      <th>AIDS DIAGNOSES PER 100,000 POPULATION</th>\n    </tr>\n  </thead>\n  <tbody>\n    <tr>\n      <th>8112</th>\n      <td>2021</td>\n      <td>All</td>\n      <td>All</td>\n      <td>All</td>\n      <td>All</td>\n      <td>1592.0</td>\n      <td>22.1</td>\n      <td>306.0</td>\n      <td>19.2</td>\n      <td>1053.0</td>\n      <td>14.6</td>\n    </tr>\n    <tr>\n      <th>8113</th>\n      <td>2021</td>\n      <td>All</td>\n      <td>All</td>\n      <td>All</td>\n      <td>Asian/PacificIslander</td>\n      <td>91.0</td>\n      <td>8.2</td>\n      <td>27.0</td>\n      <td>29.7</td>\n      <td>44.0</td>\n      <td>4</td>\n    </tr>\n    <tr>\n      <th>8114</th>\n      <td>2021</td>\n      <td>All</td>\n      <td>All</td>\n      <td>All</td>\n      <td>Black</td>\n      <td>702.0</td>\n      <td>44.3</td>\n      <td>129.0</td>\n      <td>18.4</td>\n      <td>511.0</td>\n      <td>32.3</td>\n    </tr>\n    <tr>\n      <th>8115</th>\n      <td>2021</td>\n      <td>All</td>\n      <td>All</td>\n      <td>All</td>\n      <td>Latino/Hispanic</td>\n      <td>593.0</td>\n      <td>29.2</td>\n      <td>117.0</td>\n      <td>19.7</td>\n      <td>369.0</td>\n      <td>18.2</td>\n    </tr>\n    <tr>\n      <th>8116</th>\n      <td>2021</td>\n      <td>All</td>\n      <td>All</td>\n      <td>All</td>\n      <td>Other/Unknown</td>\n      <td>19.0</td>\n      <td>14.6</td>\n      <td>5.0</td>\n      <td>26.3</td>\n      <td>15.0</td>\n      <td>11.5</td>\n    </tr>\n    <tr>\n      <th>...</th>\n      <td>...</td>\n      <td>...</td>\n      <td>...</td>\n      <td>...</td>\n      <td>...</td>\n      <td>...</td>\n      <td>...</td>\n      <td>...</td>\n      <td>...</td>\n      <td>...</td>\n      <td>...</td>\n    </tr>\n    <tr>\n      <th>8971</th>\n      <td>2021</td>\n      <td>StatenIsland</td>\n      <td>Willowbrook</td>\n      <td>Male</td>\n      <td>Asian/PacificIslander</td>\n      <td>2.0</td>\n      <td>24.2</td>\n      <td>0.0</td>\n      <td>0.0</td>\n      <td>0.0</td>\n      <td>0</td>\n    </tr>\n    <tr>\n      <th>8972</th>\n      <td>2021</td>\n      <td>StatenIsland</td>\n      <td>Willowbrook</td>\n      <td>Male</td>\n      <td>Black</td>\n      <td>0.0</td>\n      <td>0.0</td>\n      <td>0.0</td>\n      <td>NaN</td>\n      <td>0.0</td>\n      <td>0</td>\n    </tr>\n    <tr>\n      <th>8973</th>\n      <td>2021</td>\n      <td>StatenIsland</td>\n      <td>Willowbrook</td>\n      <td>Male</td>\n      <td>Latino/Hispanic</td>\n      <td>1.0</td>\n      <td>18.2</td>\n      <td>0.0</td>\n      <td>0.0</td>\n      <td>0.0</td>\n      <td>0</td>\n    </tr>\n    <tr>\n      <th>8974</th>\n      <td>2021</td>\n      <td>StatenIsland</td>\n      <td>Willowbrook</td>\n      <td>Male</td>\n      <td>Other/Unknown</td>\n      <td>0.0</td>\n      <td>0.0</td>\n      <td>0.0</td>\n      <td>NaN</td>\n      <td>1.0</td>\n      <td>153</td>\n    </tr>\n    <tr>\n      <th>8975</th>\n      <td>2021</td>\n      <td>StatenIsland</td>\n      <td>Willowbrook</td>\n      <td>Male</td>\n      <td>White</td>\n      <td>0.0</td>\n      <td>0.0</td>\n      <td>0.0</td>\n      <td>NaN</td>\n      <td>3.0</td>\n      <td>12.8</td>\n    </tr>\n  </tbody>\n</table>\n<p>864 rows × 11 columns</p>\n</div>"
     },
     "execution_count": 217,
     "metadata": {},
     "output_type": "execute_result"
    }
   ],
   "source": [
    "df[df['YEAR'] == 2021]"
   ],
   "metadata": {
    "collapsed": false
   }
  },
  {
   "cell_type": "code",
   "execution_count": 218,
   "outputs": [
    {
     "data": {
      "text/plain": "YEAR                                                                     int64\nBorough                                                                 object\nNeighborhood (U.H.F)                                                    object\nSEX                                                                     object\nRACE/ETHNICITY                                                          object\nTOTAL NUMBER OF HIV DIAGNOSES                                          float64\nHIV DIAGNOSES PER 100,000 POPULATION                                   float64\nTOTAL NUMBER OF CONCURRENT HIV/AIDS DIAGNOSES                          float64\nPROPORTION OF CONCURRENT HIV/AIDS DIAGNOSES AMONG ALL HIV DIAGNOSES    float64\nTOTAL NUMBER OF AIDS DIAGNOSES                                         float64\nAIDS DIAGNOSES PER 100,000 POPULATION                                   object\ndtype: object"
     },
     "execution_count": 218,
     "metadata": {},
     "output_type": "execute_result"
    }
   ],
   "source": [
    "df.dtypes"
   ],
   "metadata": {
    "collapsed": false
   }
  },
  {
   "cell_type": "code",
   "execution_count": 219,
   "outputs": [
    {
     "data": {
      "text/plain": "{'All',\n 'Bayside- Little Neck',\n 'Bedford Stuyvesant- Crown Heights',\n 'Bedford Stuyvesant-Crown Heights',\n 'Bensonhurst- Bay Ridge',\n 'Bensonhurst- BayRidge',\n 'Borough Park',\n 'Canarsie- Flatlands',\n 'Central Harlem- Morningside Heights',\n 'Central Harlem-Morningside Heights',\n 'Chelsea- Clinton',\n 'Coney Island- Sheepshead Bay',\n 'Coney Island-Sheepshead Bay',\n 'Crotona- Tremont',\n 'Downtown- Heights- Park Slope',\n 'Downtown- Heights-Park Slope',\n 'East Flatbush- Flatbush',\n 'East Flatbush-Flatbush',\n 'East Harlem',\n 'East New York',\n 'Flushing- Clearview',\n 'Fordham- Bronx Park',\n 'Fordham- BronxPark',\n 'Fresh Meadows',\n 'Gramercy Park- Murray Hill',\n 'Gramercy Park-Murray Hill',\n 'Greenpoint',\n 'Greenwich Village- SoHo',\n 'Greenwich Village-Soho',\n 'High Bridge- Morrisania',\n 'High Bridge-Morrisania',\n 'Hunts Point- Mott Haven',\n 'Hunts Point- MottHaven',\n 'Jamaica',\n 'Kingsbridge- Riverdale',\n 'Kingsbridge-Riverdale',\n 'Long Island City- Astoria',\n 'Long Island City-Astoria',\n 'Lower Manhattan',\n 'Northeast Bronx',\n 'Pelham- Throgs Neck',\n 'Pelham- ThrogsNeck',\n 'Port Richmond',\n 'Ridgewood- Forest Hills',\n 'Ridgewood- ForestHills',\n 'Rockaway',\n 'South Beach- Tottenville',\n 'South Beach-Tottenville',\n 'Southeast Queens',\n 'Southwest Queens',\n 'Stapleton- St. George',\n 'Stapleton- St.George',\n 'Sunset Park',\n 'Union Square- Lower Eastside',\n 'Union Square-Lower East Side',\n 'Unknown',\n 'Upper East Side',\n 'Upper Eastside',\n 'Upper West Side',\n 'Upper Westside',\n 'Washington Heights- Inwood',\n 'Washington Heights-Inwood',\n 'West Queens',\n 'Williamsburg- Bushwick',\n 'Williamsburg-Bushwick',\n 'Willowbrook'}"
     },
     "execution_count": 219,
     "metadata": {},
     "output_type": "execute_result"
    }
   ],
   "source": [
    "set(df['Neighborhood (U.H.F)'])"
   ],
   "metadata": {
    "collapsed": false
   }
  },
  {
   "cell_type": "code",
   "execution_count": 186,
   "outputs": [
    {
     "data": {
      "text/plain": "      YEAR Borough       Neighborhood (U.H.F)     SEX          RACE/ETHNICITY  \\\n23    2011     NaN  South Beach - Tottenville     All                     All   \n39    2010     NaN  South Beach - Tottenville  Female                 Unknown   \n196   2013     NaN  South Beach - Tottenville  Female                   Black   \n234   2013     NaN  South Beach - Tottenville    Male  Asian/Pacific Islander   \n270   2013     NaN  South Beach - Tottenville  Female                   White   \n...    ...     ...                        ...     ...                     ...   \n2721  2011     NaN  South Beach - Tottenville    Male                   Black   \n2777  2012     NaN  South Beach - Tottenville    Male                Hispanic   \n2781  2011     NaN  South Beach - Tottenville    Male  Asian/Pacific Islander   \n2845  2011     NaN  South Beach - Tottenville  Female                   Black   \n2881  2012     NaN  South Beach - Tottenville  Female                 Unknown   \n\n      TOTAL NUMBER OF HIV DIAGNOSES  HIV DIAGNOSES PER 100,000 POPULATION  \\\n23                              4.0                                   2.1   \n39                              0.0                                   0.0   \n196                             0.0                                   0.0   \n234                             0.0                                   0.0   \n270                             2.0                                   2.5   \n...                             ...                                   ...   \n2721                            0.0                                   0.0   \n2777                            0.0                                   0.0   \n2781                            0.0                                   0.0   \n2845                            0.0                                   0.0   \n2881                            0.0                                   0.0   \n\n      TOTAL NUMBER OF CONCURRENT HIV/AIDS DIAGNOSES  \\\n23                                              2.0   \n39                                              0.0   \n196                                             0.0   \n234                                             0.0   \n270                                             1.0   \n...                                             ...   \n2721                                            0.0   \n2777                                            0.0   \n2781                                            0.0   \n2845                                            0.0   \n2881                                            0.0   \n\n      PROPORTION OF CONCURRENT HIV/AIDS DIAGNOSES AMONG ALL HIV DIAGNOSES  \\\n23                                                 50.0                     \n39                                                  0.0                     \n196                                                 0.0                     \n234                                                 0.0                     \n270                                                50.0                     \n...                                                 ...                     \n2721                                                0.0                     \n2777                                                0.0                     \n2781                                                0.0                     \n2845                                                0.0                     \n2881                                                0.0                     \n\n      TOTAL NUMBER OF AIDS DIAGNOSES AIDS DIAGNOSES PER 100,000 POPULATION  \n23                               4.0                                   2.1  \n39                               0.0                                     0  \n196                              0.0                                     0  \n234                              0.0                                     0  \n270                              2.0                                   2.5  \n...                              ...                                   ...  \n2721                             0.0                                     0  \n2777                             0.0                                     0  \n2781                             0.0                                     0  \n2845                             0.0                                     0  \n2881                             0.0                                     0  \n\n[68 rows x 11 columns]",
      "text/html": "<div>\n<style scoped>\n    .dataframe tbody tr th:only-of-type {\n        vertical-align: middle;\n    }\n\n    .dataframe tbody tr th {\n        vertical-align: top;\n    }\n\n    .dataframe thead th {\n        text-align: right;\n    }\n</style>\n<table border=\"1\" class=\"dataframe\">\n  <thead>\n    <tr style=\"text-align: right;\">\n      <th></th>\n      <th>YEAR</th>\n      <th>Borough</th>\n      <th>Neighborhood (U.H.F)</th>\n      <th>SEX</th>\n      <th>RACE/ETHNICITY</th>\n      <th>TOTAL NUMBER OF HIV DIAGNOSES</th>\n      <th>HIV DIAGNOSES PER 100,000 POPULATION</th>\n      <th>TOTAL NUMBER OF CONCURRENT HIV/AIDS DIAGNOSES</th>\n      <th>PROPORTION OF CONCURRENT HIV/AIDS DIAGNOSES AMONG ALL HIV DIAGNOSES</th>\n      <th>TOTAL NUMBER OF AIDS DIAGNOSES</th>\n      <th>AIDS DIAGNOSES PER 100,000 POPULATION</th>\n    </tr>\n  </thead>\n  <tbody>\n    <tr>\n      <th>23</th>\n      <td>2011</td>\n      <td>NaN</td>\n      <td>South Beach - Tottenville</td>\n      <td>All</td>\n      <td>All</td>\n      <td>4.0</td>\n      <td>2.1</td>\n      <td>2.0</td>\n      <td>50.0</td>\n      <td>4.0</td>\n      <td>2.1</td>\n    </tr>\n    <tr>\n      <th>39</th>\n      <td>2010</td>\n      <td>NaN</td>\n      <td>South Beach - Tottenville</td>\n      <td>Female</td>\n      <td>Unknown</td>\n      <td>0.0</td>\n      <td>0.0</td>\n      <td>0.0</td>\n      <td>0.0</td>\n      <td>0.0</td>\n      <td>0</td>\n    </tr>\n    <tr>\n      <th>196</th>\n      <td>2013</td>\n      <td>NaN</td>\n      <td>South Beach - Tottenville</td>\n      <td>Female</td>\n      <td>Black</td>\n      <td>0.0</td>\n      <td>0.0</td>\n      <td>0.0</td>\n      <td>0.0</td>\n      <td>0.0</td>\n      <td>0</td>\n    </tr>\n    <tr>\n      <th>234</th>\n      <td>2013</td>\n      <td>NaN</td>\n      <td>South Beach - Tottenville</td>\n      <td>Male</td>\n      <td>Asian/Pacific Islander</td>\n      <td>0.0</td>\n      <td>0.0</td>\n      <td>0.0</td>\n      <td>0.0</td>\n      <td>0.0</td>\n      <td>0</td>\n    </tr>\n    <tr>\n      <th>270</th>\n      <td>2013</td>\n      <td>NaN</td>\n      <td>South Beach - Tottenville</td>\n      <td>Female</td>\n      <td>White</td>\n      <td>2.0</td>\n      <td>2.5</td>\n      <td>1.0</td>\n      <td>50.0</td>\n      <td>2.0</td>\n      <td>2.5</td>\n    </tr>\n    <tr>\n      <th>...</th>\n      <td>...</td>\n      <td>...</td>\n      <td>...</td>\n      <td>...</td>\n      <td>...</td>\n      <td>...</td>\n      <td>...</td>\n      <td>...</td>\n      <td>...</td>\n      <td>...</td>\n      <td>...</td>\n    </tr>\n    <tr>\n      <th>2721</th>\n      <td>2011</td>\n      <td>NaN</td>\n      <td>South Beach - Tottenville</td>\n      <td>Male</td>\n      <td>Black</td>\n      <td>0.0</td>\n      <td>0.0</td>\n      <td>0.0</td>\n      <td>0.0</td>\n      <td>0.0</td>\n      <td>0</td>\n    </tr>\n    <tr>\n      <th>2777</th>\n      <td>2012</td>\n      <td>NaN</td>\n      <td>South Beach - Tottenville</td>\n      <td>Male</td>\n      <td>Hispanic</td>\n      <td>0.0</td>\n      <td>0.0</td>\n      <td>0.0</td>\n      <td>0.0</td>\n      <td>0.0</td>\n      <td>0</td>\n    </tr>\n    <tr>\n      <th>2781</th>\n      <td>2011</td>\n      <td>NaN</td>\n      <td>South Beach - Tottenville</td>\n      <td>Male</td>\n      <td>Asian/Pacific Islander</td>\n      <td>0.0</td>\n      <td>0.0</td>\n      <td>0.0</td>\n      <td>0.0</td>\n      <td>0.0</td>\n      <td>0</td>\n    </tr>\n    <tr>\n      <th>2845</th>\n      <td>2011</td>\n      <td>NaN</td>\n      <td>South Beach - Tottenville</td>\n      <td>Female</td>\n      <td>Black</td>\n      <td>0.0</td>\n      <td>0.0</td>\n      <td>0.0</td>\n      <td>0.0</td>\n      <td>0.0</td>\n      <td>0</td>\n    </tr>\n    <tr>\n      <th>2881</th>\n      <td>2012</td>\n      <td>NaN</td>\n      <td>South Beach - Tottenville</td>\n      <td>Female</td>\n      <td>Unknown</td>\n      <td>0.0</td>\n      <td>0.0</td>\n      <td>0.0</td>\n      <td>0.0</td>\n      <td>0.0</td>\n      <td>0</td>\n    </tr>\n  </tbody>\n</table>\n<p>68 rows × 11 columns</p>\n</div>"
     },
     "execution_count": 186,
     "metadata": {},
     "output_type": "execute_result"
    }
   ],
   "source": [
    "#We have to merge datasets together - Some data sets have similar names, this mnust have been errors in the process of entering the data - we will have to merge these data to have a unique names for the Neighbour variables in our data sets.\n",
    "df[df['Neighborhood (U.H.F)'] == 'South Beach - Tottenville']"
   ],
   "metadata": {
    "collapsed": false
   }
  },
  {
   "cell_type": "code",
   "execution_count": 187,
   "outputs": [
    {
     "data": {
      "text/plain": "      YEAR       Borough      Neighborhood (U.H.F)   SEX  \\\n3738  2016  StatenIsland  South Beach -Tottenville   All   \n3739  2016  StatenIsland  South Beach -Tottenville   All   \n3740  2016  StatenIsland  South Beach -Tottenville   All   \n3741  2016  StatenIsland  South Beach -Tottenville   All   \n3742  2016  StatenIsland  South Beach -Tottenville   All   \n...    ...           ...                       ...   ...   \n8935  2021  StatenIsland  South Beach -Tottenville  Male   \n8936  2021  StatenIsland  South Beach -Tottenville  Male   \n8937  2021  StatenIsland  South Beach -Tottenville  Male   \n8938  2021  StatenIsland  South Beach -Tottenville  Male   \n8939  2021  StatenIsland  South Beach -Tottenville  Male   \n\n             RACE/ETHNICITY  TOTAL NUMBER OF HIV DIAGNOSES  \\\n3738                    All                           24.0   \n3739  Asian/PacificIslander                            0.0   \n3740                  Black                            6.0   \n3741        Latino/Hispanic                           10.0   \n3742          Other/Unknown                            1.0   \n...                     ...                            ...   \n8935  Asian/PacificIslander                            0.0   \n8936                  Black                            0.0   \n8937        Latino/Hispanic                            2.0   \n8938          Other/Unknown                            0.0   \n8939                  White                            4.0   \n\n      HIV DIAGNOSES PER 100,000 POPULATION  \\\n3738                                  14.5   \n3739                                   0.0   \n3740                                 253.6   \n3741                                  56.3   \n3742                                  64.2   \n...                                    ...   \n8935                                   0.0   \n8936                                   0.0   \n8937                                  20.3   \n8938                                   0.0   \n8939                                   6.3   \n\n      TOTAL NUMBER OF CONCURRENT HIV/AIDS DIAGNOSES  \\\n3738                                            3.0   \n3739                                            0.0   \n3740                                            1.0   \n3741                                            1.0   \n3742                                            0.0   \n...                                             ...   \n8935                                            0.0   \n8936                                            0.0   \n8937                                            1.0   \n8938                                            0.0   \n8939                                            1.0   \n\n      PROPORTION OF CONCURRENT HIV/AIDS DIAGNOSES AMONG ALL HIV DIAGNOSES  \\\n3738                                               12.5                     \n3739                                                NaN                     \n3740                                               16.7                     \n3741                                               10.0                     \n3742                                                0.0                     \n...                                                 ...                     \n8935                                                NaN                     \n8936                                                NaN                     \n8937                                               50.0                     \n8938                                                NaN                     \n8939                                               25.0                     \n\n      TOTAL NUMBER OF AIDS DIAGNOSES AIDS DIAGNOSES PER 100,000 POPULATION  \n3738                             4.0                                   2.4  \n3739                             0.0                                     0  \n3740                             0.0                                     0  \n3741                             3.0                                  16.9  \n3742                             0.0                                     0  \n...                              ...                                   ...  \n8935                             0.0                                     0  \n8936                             0.0                                     0  \n8937                             2.0                                  20.3  \n8938                             0.0                                     0  \n8939                             1.0                                   1.6  \n\n[126 rows x 11 columns]",
      "text/html": "<div>\n<style scoped>\n    .dataframe tbody tr th:only-of-type {\n        vertical-align: middle;\n    }\n\n    .dataframe tbody tr th {\n        vertical-align: top;\n    }\n\n    .dataframe thead th {\n        text-align: right;\n    }\n</style>\n<table border=\"1\" class=\"dataframe\">\n  <thead>\n    <tr style=\"text-align: right;\">\n      <th></th>\n      <th>YEAR</th>\n      <th>Borough</th>\n      <th>Neighborhood (U.H.F)</th>\n      <th>SEX</th>\n      <th>RACE/ETHNICITY</th>\n      <th>TOTAL NUMBER OF HIV DIAGNOSES</th>\n      <th>HIV DIAGNOSES PER 100,000 POPULATION</th>\n      <th>TOTAL NUMBER OF CONCURRENT HIV/AIDS DIAGNOSES</th>\n      <th>PROPORTION OF CONCURRENT HIV/AIDS DIAGNOSES AMONG ALL HIV DIAGNOSES</th>\n      <th>TOTAL NUMBER OF AIDS DIAGNOSES</th>\n      <th>AIDS DIAGNOSES PER 100,000 POPULATION</th>\n    </tr>\n  </thead>\n  <tbody>\n    <tr>\n      <th>3738</th>\n      <td>2016</td>\n      <td>StatenIsland</td>\n      <td>South Beach -Tottenville</td>\n      <td>All</td>\n      <td>All</td>\n      <td>24.0</td>\n      <td>14.5</td>\n      <td>3.0</td>\n      <td>12.5</td>\n      <td>4.0</td>\n      <td>2.4</td>\n    </tr>\n    <tr>\n      <th>3739</th>\n      <td>2016</td>\n      <td>StatenIsland</td>\n      <td>South Beach -Tottenville</td>\n      <td>All</td>\n      <td>Asian/PacificIslander</td>\n      <td>0.0</td>\n      <td>0.0</td>\n      <td>0.0</td>\n      <td>NaN</td>\n      <td>0.0</td>\n      <td>0</td>\n    </tr>\n    <tr>\n      <th>3740</th>\n      <td>2016</td>\n      <td>StatenIsland</td>\n      <td>South Beach -Tottenville</td>\n      <td>All</td>\n      <td>Black</td>\n      <td>6.0</td>\n      <td>253.6</td>\n      <td>1.0</td>\n      <td>16.7</td>\n      <td>0.0</td>\n      <td>0</td>\n    </tr>\n    <tr>\n      <th>3741</th>\n      <td>2016</td>\n      <td>StatenIsland</td>\n      <td>South Beach -Tottenville</td>\n      <td>All</td>\n      <td>Latino/Hispanic</td>\n      <td>10.0</td>\n      <td>56.3</td>\n      <td>1.0</td>\n      <td>10.0</td>\n      <td>3.0</td>\n      <td>16.9</td>\n    </tr>\n    <tr>\n      <th>3742</th>\n      <td>2016</td>\n      <td>StatenIsland</td>\n      <td>South Beach -Tottenville</td>\n      <td>All</td>\n      <td>Other/Unknown</td>\n      <td>1.0</td>\n      <td>64.2</td>\n      <td>0.0</td>\n      <td>0.0</td>\n      <td>0.0</td>\n      <td>0</td>\n    </tr>\n    <tr>\n      <th>...</th>\n      <td>...</td>\n      <td>...</td>\n      <td>...</td>\n      <td>...</td>\n      <td>...</td>\n      <td>...</td>\n      <td>...</td>\n      <td>...</td>\n      <td>...</td>\n      <td>...</td>\n      <td>...</td>\n    </tr>\n    <tr>\n      <th>8935</th>\n      <td>2021</td>\n      <td>StatenIsland</td>\n      <td>South Beach -Tottenville</td>\n      <td>Male</td>\n      <td>Asian/PacificIslander</td>\n      <td>0.0</td>\n      <td>0.0</td>\n      <td>0.0</td>\n      <td>NaN</td>\n      <td>0.0</td>\n      <td>0</td>\n    </tr>\n    <tr>\n      <th>8936</th>\n      <td>2021</td>\n      <td>StatenIsland</td>\n      <td>South Beach -Tottenville</td>\n      <td>Male</td>\n      <td>Black</td>\n      <td>0.0</td>\n      <td>0.0</td>\n      <td>0.0</td>\n      <td>NaN</td>\n      <td>0.0</td>\n      <td>0</td>\n    </tr>\n    <tr>\n      <th>8937</th>\n      <td>2021</td>\n      <td>StatenIsland</td>\n      <td>South Beach -Tottenville</td>\n      <td>Male</td>\n      <td>Latino/Hispanic</td>\n      <td>2.0</td>\n      <td>20.3</td>\n      <td>1.0</td>\n      <td>50.0</td>\n      <td>2.0</td>\n      <td>20.3</td>\n    </tr>\n    <tr>\n      <th>8938</th>\n      <td>2021</td>\n      <td>StatenIsland</td>\n      <td>South Beach -Tottenville</td>\n      <td>Male</td>\n      <td>Other/Unknown</td>\n      <td>0.0</td>\n      <td>0.0</td>\n      <td>0.0</td>\n      <td>NaN</td>\n      <td>0.0</td>\n      <td>0</td>\n    </tr>\n    <tr>\n      <th>8939</th>\n      <td>2021</td>\n      <td>StatenIsland</td>\n      <td>South Beach -Tottenville</td>\n      <td>Male</td>\n      <td>White</td>\n      <td>4.0</td>\n      <td>6.3</td>\n      <td>1.0</td>\n      <td>25.0</td>\n      <td>1.0</td>\n      <td>1.6</td>\n    </tr>\n  </tbody>\n</table>\n<p>126 rows × 11 columns</p>\n</div>"
     },
     "execution_count": 187,
     "metadata": {},
     "output_type": "execute_result"
    }
   ],
   "source": [
    "df[df['Neighborhood (U.H.F)'] == 'South Beach -Tottenville']"
   ],
   "metadata": {
    "collapsed": false
   }
  },
  {
   "cell_type": "code",
   "execution_count": 103,
   "outputs": [],
   "source": [
    "# Dealing with Missing Data in our data set. on Observation, we can  link a  neighbour to a Borough\n",
    "# will compare both variables and use it as a medium to replace missing data for th\n",
    "def getAllNeighborhood():\n",
    "    try:\n",
    "        neighbourhood = list(set(df['Neighborhood (U.H.F)']))\n",
    "        return neighbourhood\n",
    "    except BaseException as error:\n",
    "        print(error)"
   ],
   "metadata": {
    "collapsed": false
   }
  },
  {
   "cell_type": "code",
   "execution_count": 127,
   "outputs": [
    {
     "data": {
      "text/plain": "['Kingsbridge - Riverdale',\n 'Central Harlem - Morningside Heights',\n 'Chelsea - Clinton',\n 'Bayside - Little Neck',\n 'All',\n 'High Bridge -\\nMorrisania',\n 'Jamaica',\n 'Southwest Queens',\n 'Canarsie - Flatlands',\n 'East Harlem',\n 'Ridgewood - Forest Hills',\n 'Fordham - Bronx\\nPark',\n 'South Beach -\\nTottenville',\n 'Washington Heights - Inwood',\n 'Ridgewood - Forest\\nHills',\n 'East Flatbush - Flatbush',\n 'Pelham - Throgs\\nNeck',\n 'Union Square - Lower Eastside',\n 'South Beach - Tottenville',\n 'Long Island City -\\nAstoria',\n 'Fresh Meadows',\n 'Northeast Bronx',\n 'Crotona - Tremont',\n 'Lower Manhattan',\n 'Downtown - Heights -\\nPark Slope',\n 'Union Square -\\nLower East Side',\n 'Upper East Side',\n 'Hunts Point - Mott Haven',\n 'East Flatbush -\\nFlatbush',\n 'Coney Island - Sheepshead Bay',\n 'Fordham - Bronx Park',\n 'Long Island City - Astoria',\n 'Williamsburg -\\nBushwick',\n 'Upper Westside',\n 'Gramercy Park - Murray Hill',\n 'Greenpoint',\n 'Washington Heights -\\nInwood',\n 'Greenwich Village - SoHo',\n 'Sunset Park',\n 'Central Harlem -\\nMorningside Heights',\n 'Greenwich Village -\\nSoho',\n 'Gramercy Park -\\nMurray Hill',\n 'Southeast Queens',\n 'Bensonhurst - Bay Ridge',\n 'Unknown',\n 'Borough Park',\n 'Willowbrook',\n 'West Queens',\n 'Stapleton - St. George',\n 'High Bridge - Morrisania',\n 'Upper Eastside',\n 'Rockaway',\n 'Bensonhurst - Bay\\nRidge',\n 'Port Richmond',\n 'East New York',\n 'Williamsburg - Bushwick',\n 'Flushing - Clearview',\n 'Stapleton - St.\\nGeorge',\n 'Pelham - Throgs Neck',\n 'Coney Island -\\nSheepshead Bay',\n 'Upper West Side',\n 'Hunts Point - Mott\\nHaven',\n 'Downtown - Heights - Park Slope',\n 'Bedford Stuyvesant - Crown Heights',\n 'Bedford Stuyvesant -\\nCrown Heights',\n 'Kingsbridge -\\nRiverdale']"
     },
     "execution_count": 127,
     "metadata": {},
     "output_type": "execute_result"
    }
   ],
   "source": [
    "getAllNeighborhood()"
   ],
   "metadata": {
    "collapsed": false
   }
  },
  {
   "cell_type": "code",
   "execution_count": null,
   "outputs": [],
   "source": [],
   "metadata": {
    "collapsed": false
   }
  },
  {
   "cell_type": "code",
   "execution_count": 131,
   "outputs": [
    {
     "name": "stdout",
     "output_type": "stream",
     "text": [
      "Kingsbridge - Riverdale\n",
      "Central Harlem - Morningside Heights\n",
      "Chelsea - Clinton\n",
      "Bayside - Little Neck\n",
      "All\n",
      "High Bridge -\n",
      "Morrisania\n",
      "Jamaica\n",
      "Southwest Queens\n",
      "Canarsie - Flatlands\n",
      "East Harlem\n",
      "Ridgewood - Forest Hills\n",
      "Fordham - Bronx\n",
      "Park\n",
      "South Beach -\n",
      "Tottenville\n",
      "Washington Heights - Inwood\n",
      "Ridgewood - Forest\n",
      "Hills\n",
      "East Flatbush - Flatbush\n",
      "Pelham - Throgs\n",
      "Neck\n",
      "Union Square - Lower Eastside\n",
      "South Beach - Tottenville\n",
      "Long Island City -\n",
      "Astoria\n",
      "Fresh Meadows\n",
      "Northeast Bronx\n",
      "Crotona - Tremont\n",
      "Lower Manhattan\n",
      "Downtown - Heights -\n",
      "Park Slope\n",
      "Union Square -\n",
      "Lower East Side\n",
      "Upper East Side\n",
      "Hunts Point - Mott Haven\n",
      "East Flatbush -\n",
      "Flatbush\n",
      "Coney Island - Sheepshead Bay\n",
      "Fordham - Bronx Park\n",
      "Long Island City - Astoria\n",
      "Williamsburg -\n",
      "Bushwick\n",
      "Upper Westside\n",
      "Gramercy Park - Murray Hill\n",
      "Greenpoint\n",
      "Washington Heights -\n",
      "Inwood\n",
      "Greenwich Village - SoHo\n",
      "Sunset Park\n",
      "Central Harlem -\n",
      "Morningside Heights\n",
      "Greenwich Village -\n",
      "Soho\n",
      "Gramercy Park -\n",
      "Murray Hill\n",
      "Southeast Queens\n",
      "Bensonhurst - Bay Ridge\n",
      "Unknown\n",
      "Borough Park\n",
      "Willowbrook\n",
      "West Queens\n",
      "Stapleton - St. George\n",
      "High Bridge - Morrisania\n",
      "Upper Eastside\n",
      "Rockaway\n",
      "Bensonhurst - Bay\n",
      "Ridge\n",
      "Port Richmond\n",
      "East New York\n",
      "Williamsburg - Bushwick\n",
      "Flushing - Clearview\n",
      "Stapleton - St.\n",
      "George\n",
      "Pelham - Throgs Neck\n",
      "Coney Island -\n",
      "Sheepshead Bay\n",
      "Upper West Side\n",
      "Hunts Point - Mott\n",
      "Haven\n",
      "Downtown - Heights - Park Slope\n",
      "Bedford Stuyvesant - Crown Heights\n",
      "Bedford Stuyvesant -\n",
      "Crown Heights\n",
      "Kingsbridge -\n",
      "Riverdale\n"
     ]
    }
   ],
   "source": [
    "count = 0\n",
    "number_count  = []\n",
    "while count < len(getAllNeighborhood()):\n",
    "    print(getAllNeighborhood()[count])\n",
    "    number_count.append(getAllNeighborhood()[count])\n",
    "    count +=1"
   ],
   "metadata": {
    "collapsed": false
   }
  },
  {
   "cell_type": "code",
   "execution_count": 133,
   "outputs": [
    {
     "data": {
      "text/plain": "66"
     },
     "execution_count": 133,
     "metadata": {},
     "output_type": "execute_result"
    }
   ],
   "source": [
    "len(number_count)"
   ],
   "metadata": {
    "collapsed": false
   }
  },
  {
   "cell_type": "code",
   "execution_count": 114,
   "outputs": [
    {
     "data": {
      "text/plain": "{nan}"
     },
     "execution_count": 114,
     "metadata": {},
     "output_type": "execute_result"
    }
   ],
   "source": [
    "set(df[df['Neighborhood (U.H.F)'] == 'Kingsbridge - Riverdale']['Borough'])"
   ],
   "metadata": {
    "collapsed": false
   }
  },
  {
   "cell_type": "code",
   "execution_count": 119,
   "outputs": [
    {
     "data": {
      "text/plain": "Empty DataFrame\nColumns: [YEAR, Borough, Neighborhood (U.H.F), SEX, RACE/ETHNICITY, TOTAL NUMBER OF HIV DIAGNOSES, HIV DIAGNOSES PER 100,000 POPULATION, TOTAL NUMBER OF CONCURRENT HIV/AIDS DIAGNOSES, PROPORTION OF CONCURRENT HIV/AIDS DIAGNOSES AMONG ALL HIV DIAGNOSES, TOTAL NUMBER OF AIDS DIAGNOSES, AIDS DIAGNOSES PER 100,000 POPULATION]\nIndex: []",
      "text/html": "<div>\n<style scoped>\n    .dataframe tbody tr th:only-of-type {\n        vertical-align: middle;\n    }\n\n    .dataframe tbody tr th {\n        vertical-align: top;\n    }\n\n    .dataframe thead th {\n        text-align: right;\n    }\n</style>\n<table border=\"1\" class=\"dataframe\">\n  <thead>\n    <tr style=\"text-align: right;\">\n      <th></th>\n      <th>YEAR</th>\n      <th>Borough</th>\n      <th>Neighborhood (U.H.F)</th>\n      <th>SEX</th>\n      <th>RACE/ETHNICITY</th>\n      <th>TOTAL NUMBER OF HIV DIAGNOSES</th>\n      <th>HIV DIAGNOSES PER 100,000 POPULATION</th>\n      <th>TOTAL NUMBER OF CONCURRENT HIV/AIDS DIAGNOSES</th>\n      <th>PROPORTION OF CONCURRENT HIV/AIDS DIAGNOSES AMONG ALL HIV DIAGNOSES</th>\n      <th>TOTAL NUMBER OF AIDS DIAGNOSES</th>\n      <th>AIDS DIAGNOSES PER 100,000 POPULATION</th>\n    </tr>\n  </thead>\n  <tbody>\n  </tbody>\n</table>\n</div>"
     },
     "execution_count": 119,
     "metadata": {},
     "output_type": "execute_result"
    }
   ],
   "source": [
    "df[df['Neighborhood (U.H.F)'] == 'Fordham - Bronx']"
   ],
   "metadata": {
    "collapsed": false
   }
  },
  {
   "cell_type": "code",
   "execution_count": 121,
   "outputs": [
    {
     "data": {
      "text/plain": "0                   Greenpoint\n1       Stapleton - St. George\n2             Southeast Queens\n3               Upper Westside\n4                  Willowbrook\n                 ...          \n8971               Willowbrook\n8972               Willowbrook\n8973               Willowbrook\n8974               Willowbrook\n8975               Willowbrook\nName: Neighborhood (U.H.F), Length: 8976, dtype: object"
     },
     "execution_count": 121,
     "metadata": {},
     "output_type": "execute_result"
    }
   ],
   "source": [
    "df['Neighborhood (U.H.F)']"
   ],
   "metadata": {
    "collapsed": false
   }
  },
  {
   "cell_type": "code",
   "execution_count": 125,
   "outputs": [
    {
     "data": {
      "text/plain": "    YEAR Borough     Neighborhood (U.H.F)     SEX RACE/ETHNICITY  \\\n79  2013     NaN  Kingsbridge - Riverdale  Female          White   \n\n   TOTAL NUMBER OF HIV DIAGNOSES HIV DIAGNOSES PER 100,000 POPULATION  \\\n79                             1                                  4.9   \n\n   TOTAL NUMBER OF CONCURRENT HIV/AIDS DIAGNOSES  \\\n79                                             1   \n\n   PROPORTION OF CONCURRENT HIV/AIDS DIAGNOSES AMONG ALL HIV DIAGNOSES  \\\n79                                                100                    \n\n   TOTAL NUMBER OF AIDS DIAGNOSES AIDS DIAGNOSES PER 100,000 POPULATION  \n79                              1                                   4.9  ",
      "text/html": "<div>\n<style scoped>\n    .dataframe tbody tr th:only-of-type {\n        vertical-align: middle;\n    }\n\n    .dataframe tbody tr th {\n        vertical-align: top;\n    }\n\n    .dataframe thead th {\n        text-align: right;\n    }\n</style>\n<table border=\"1\" class=\"dataframe\">\n  <thead>\n    <tr style=\"text-align: right;\">\n      <th></th>\n      <th>YEAR</th>\n      <th>Borough</th>\n      <th>Neighborhood (U.H.F)</th>\n      <th>SEX</th>\n      <th>RACE/ETHNICITY</th>\n      <th>TOTAL NUMBER OF HIV DIAGNOSES</th>\n      <th>HIV DIAGNOSES PER 100,000 POPULATION</th>\n      <th>TOTAL NUMBER OF CONCURRENT HIV/AIDS DIAGNOSES</th>\n      <th>PROPORTION OF CONCURRENT HIV/AIDS DIAGNOSES AMONG ALL HIV DIAGNOSES</th>\n      <th>TOTAL NUMBER OF AIDS DIAGNOSES</th>\n      <th>AIDS DIAGNOSES PER 100,000 POPULATION</th>\n    </tr>\n  </thead>\n  <tbody>\n    <tr>\n      <th>79</th>\n      <td>2013</td>\n      <td>NaN</td>\n      <td>Kingsbridge - Riverdale</td>\n      <td>Female</td>\n      <td>White</td>\n      <td>1</td>\n      <td>4.9</td>\n      <td>1</td>\n      <td>100</td>\n      <td>1</td>\n      <td>4.9</td>\n    </tr>\n  </tbody>\n</table>\n</div>"
     },
     "metadata": {},
     "output_type": "display_data"
    },
    {
     "data": {
      "text/plain": "    YEAR Borough                  Neighborhood (U.H.F)     SEX RACE/ETHNICITY  \\\n40  2013     NaN  Central Harlem - Morningside Heights  Female          Black   \n\n   TOTAL NUMBER OF HIV DIAGNOSES HIV DIAGNOSES PER 100,000 POPULATION  \\\n40                            17                                 34.8   \n\n   TOTAL NUMBER OF CONCURRENT HIV/AIDS DIAGNOSES  \\\n40                                             8   \n\n   PROPORTION OF CONCURRENT HIV/AIDS DIAGNOSES AMONG ALL HIV DIAGNOSES  \\\n40                                               47.1                    \n\n   TOTAL NUMBER OF AIDS DIAGNOSES AIDS DIAGNOSES PER 100,000 POPULATION  \n40                             20                                    41  ",
      "text/html": "<div>\n<style scoped>\n    .dataframe tbody tr th:only-of-type {\n        vertical-align: middle;\n    }\n\n    .dataframe tbody tr th {\n        vertical-align: top;\n    }\n\n    .dataframe thead th {\n        text-align: right;\n    }\n</style>\n<table border=\"1\" class=\"dataframe\">\n  <thead>\n    <tr style=\"text-align: right;\">\n      <th></th>\n      <th>YEAR</th>\n      <th>Borough</th>\n      <th>Neighborhood (U.H.F)</th>\n      <th>SEX</th>\n      <th>RACE/ETHNICITY</th>\n      <th>TOTAL NUMBER OF HIV DIAGNOSES</th>\n      <th>HIV DIAGNOSES PER 100,000 POPULATION</th>\n      <th>TOTAL NUMBER OF CONCURRENT HIV/AIDS DIAGNOSES</th>\n      <th>PROPORTION OF CONCURRENT HIV/AIDS DIAGNOSES AMONG ALL HIV DIAGNOSES</th>\n      <th>TOTAL NUMBER OF AIDS DIAGNOSES</th>\n      <th>AIDS DIAGNOSES PER 100,000 POPULATION</th>\n    </tr>\n  </thead>\n  <tbody>\n    <tr>\n      <th>40</th>\n      <td>2013</td>\n      <td>NaN</td>\n      <td>Central Harlem - Morningside Heights</td>\n      <td>Female</td>\n      <td>Black</td>\n      <td>17</td>\n      <td>34.8</td>\n      <td>8</td>\n      <td>47.1</td>\n      <td>20</td>\n      <td>41</td>\n    </tr>\n  </tbody>\n</table>\n</div>"
     },
     "metadata": {},
     "output_type": "display_data"
    },
    {
     "data": {
      "text/plain": "    YEAR Borough Neighborhood (U.H.F)     SEX   RACE/ETHNICITY  \\\n11  2012     NaN    Chelsea - Clinton  Female  Native American   \n\n   TOTAL NUMBER OF HIV DIAGNOSES HIV DIAGNOSES PER 100,000 POPULATION  \\\n11                             0                                    0   \n\n   TOTAL NUMBER OF CONCURRENT HIV/AIDS DIAGNOSES  \\\n11                                             0   \n\n   PROPORTION OF CONCURRENT HIV/AIDS DIAGNOSES AMONG ALL HIV DIAGNOSES  \\\n11                                                  0                    \n\n   TOTAL NUMBER OF AIDS DIAGNOSES AIDS DIAGNOSES PER 100,000 POPULATION  \n11                              *                                     *  ",
      "text/html": "<div>\n<style scoped>\n    .dataframe tbody tr th:only-of-type {\n        vertical-align: middle;\n    }\n\n    .dataframe tbody tr th {\n        vertical-align: top;\n    }\n\n    .dataframe thead th {\n        text-align: right;\n    }\n</style>\n<table border=\"1\" class=\"dataframe\">\n  <thead>\n    <tr style=\"text-align: right;\">\n      <th></th>\n      <th>YEAR</th>\n      <th>Borough</th>\n      <th>Neighborhood (U.H.F)</th>\n      <th>SEX</th>\n      <th>RACE/ETHNICITY</th>\n      <th>TOTAL NUMBER OF HIV DIAGNOSES</th>\n      <th>HIV DIAGNOSES PER 100,000 POPULATION</th>\n      <th>TOTAL NUMBER OF CONCURRENT HIV/AIDS DIAGNOSES</th>\n      <th>PROPORTION OF CONCURRENT HIV/AIDS DIAGNOSES AMONG ALL HIV DIAGNOSES</th>\n      <th>TOTAL NUMBER OF AIDS DIAGNOSES</th>\n      <th>AIDS DIAGNOSES PER 100,000 POPULATION</th>\n    </tr>\n  </thead>\n  <tbody>\n    <tr>\n      <th>11</th>\n      <td>2012</td>\n      <td>NaN</td>\n      <td>Chelsea - Clinton</td>\n      <td>Female</td>\n      <td>Native American</td>\n      <td>0</td>\n      <td>0</td>\n      <td>0</td>\n      <td>0</td>\n      <td>*</td>\n      <td>*</td>\n    </tr>\n  </tbody>\n</table>\n</div>"
     },
     "metadata": {},
     "output_type": "display_data"
    },
    {
     "data": {
      "text/plain": "    YEAR Borough   Neighborhood (U.H.F)   SEX RACE/ETHNICITY  \\\n54  2013     NaN  Bayside - Little Neck  Male    Multiracial   \n\n   TOTAL NUMBER OF HIV DIAGNOSES HIV DIAGNOSES PER 100,000 POPULATION  \\\n54                             0                                    0   \n\n   TOTAL NUMBER OF CONCURRENT HIV/AIDS DIAGNOSES  \\\n54                                             0   \n\n   PROPORTION OF CONCURRENT HIV/AIDS DIAGNOSES AMONG ALL HIV DIAGNOSES  \\\n54                                                  0                    \n\n   TOTAL NUMBER OF AIDS DIAGNOSES AIDS DIAGNOSES PER 100,000 POPULATION  \n54                              0                                     0  ",
      "text/html": "<div>\n<style scoped>\n    .dataframe tbody tr th:only-of-type {\n        vertical-align: middle;\n    }\n\n    .dataframe tbody tr th {\n        vertical-align: top;\n    }\n\n    .dataframe thead th {\n        text-align: right;\n    }\n</style>\n<table border=\"1\" class=\"dataframe\">\n  <thead>\n    <tr style=\"text-align: right;\">\n      <th></th>\n      <th>YEAR</th>\n      <th>Borough</th>\n      <th>Neighborhood (U.H.F)</th>\n      <th>SEX</th>\n      <th>RACE/ETHNICITY</th>\n      <th>TOTAL NUMBER OF HIV DIAGNOSES</th>\n      <th>HIV DIAGNOSES PER 100,000 POPULATION</th>\n      <th>TOTAL NUMBER OF CONCURRENT HIV/AIDS DIAGNOSES</th>\n      <th>PROPORTION OF CONCURRENT HIV/AIDS DIAGNOSES AMONG ALL HIV DIAGNOSES</th>\n      <th>TOTAL NUMBER OF AIDS DIAGNOSES</th>\n      <th>AIDS DIAGNOSES PER 100,000 POPULATION</th>\n    </tr>\n  </thead>\n  <tbody>\n    <tr>\n      <th>54</th>\n      <td>2013</td>\n      <td>NaN</td>\n      <td>Bayside - Little Neck</td>\n      <td>Male</td>\n      <td>Multiracial</td>\n      <td>0</td>\n      <td>0</td>\n      <td>0</td>\n      <td>0</td>\n      <td>0</td>\n      <td>0</td>\n    </tr>\n  </tbody>\n</table>\n</div>"
     },
     "metadata": {},
     "output_type": "display_data"
    },
    {
     "data": {
      "text/plain": "     YEAR Borough Neighborhood (U.H.F)  SEX RACE/ETHNICITY  \\\n181  2013     NaN                  All  All            All   \n\n    TOTAL NUMBER OF HIV DIAGNOSES HIV DIAGNOSES PER 100,000 POPULATION  \\\n181                          2832                                 33.7   \n\n    TOTAL NUMBER OF CONCURRENT HIV/AIDS DIAGNOSES  \\\n181                                           574   \n\n    PROPORTION OF CONCURRENT HIV/AIDS DIAGNOSES AMONG ALL HIV DIAGNOSES  \\\n181                                               20.3                    \n\n    TOTAL NUMBER OF AIDS DIAGNOSES AIDS DIAGNOSES PER 100,000 POPULATION  \n181                           1784                                  21.2  ",
      "text/html": "<div>\n<style scoped>\n    .dataframe tbody tr th:only-of-type {\n        vertical-align: middle;\n    }\n\n    .dataframe tbody tr th {\n        vertical-align: top;\n    }\n\n    .dataframe thead th {\n        text-align: right;\n    }\n</style>\n<table border=\"1\" class=\"dataframe\">\n  <thead>\n    <tr style=\"text-align: right;\">\n      <th></th>\n      <th>YEAR</th>\n      <th>Borough</th>\n      <th>Neighborhood (U.H.F)</th>\n      <th>SEX</th>\n      <th>RACE/ETHNICITY</th>\n      <th>TOTAL NUMBER OF HIV DIAGNOSES</th>\n      <th>HIV DIAGNOSES PER 100,000 POPULATION</th>\n      <th>TOTAL NUMBER OF CONCURRENT HIV/AIDS DIAGNOSES</th>\n      <th>PROPORTION OF CONCURRENT HIV/AIDS DIAGNOSES AMONG ALL HIV DIAGNOSES</th>\n      <th>TOTAL NUMBER OF AIDS DIAGNOSES</th>\n      <th>AIDS DIAGNOSES PER 100,000 POPULATION</th>\n    </tr>\n  </thead>\n  <tbody>\n    <tr>\n      <th>181</th>\n      <td>2013</td>\n      <td>NaN</td>\n      <td>All</td>\n      <td>All</td>\n      <td>All</td>\n      <td>2832</td>\n      <td>33.7</td>\n      <td>574</td>\n      <td>20.3</td>\n      <td>1784</td>\n      <td>21.2</td>\n    </tr>\n  </tbody>\n</table>\n</div>"
     },
     "metadata": {},
     "output_type": "display_data"
    },
    {
     "data": {
      "text/plain": "      YEAR Borough       Neighborhood (U.H.F)  SEX RACE/ETHNICITY  \\\n3000  2016   Bronx  High Bridge -\\nMorrisania  All            All   \n\n     TOTAL NUMBER OF HIV DIAGNOSES HIV DIAGNOSES PER 100,000 POPULATION  \\\n3000                            94                                 54.2   \n\n     TOTAL NUMBER OF CONCURRENT HIV/AIDS DIAGNOSES  \\\n3000                                            21   \n\n     PROPORTION OF CONCURRENT HIV/AIDS DIAGNOSES AMONG ALL HIV DIAGNOSES  \\\n3000                                               22.3                    \n\n     TOTAL NUMBER OF AIDS DIAGNOSES AIDS DIAGNOSES PER 100,000 POPULATION  \n3000                             80                                  46.1  ",
      "text/html": "<div>\n<style scoped>\n    .dataframe tbody tr th:only-of-type {\n        vertical-align: middle;\n    }\n\n    .dataframe tbody tr th {\n        vertical-align: top;\n    }\n\n    .dataframe thead th {\n        text-align: right;\n    }\n</style>\n<table border=\"1\" class=\"dataframe\">\n  <thead>\n    <tr style=\"text-align: right;\">\n      <th></th>\n      <th>YEAR</th>\n      <th>Borough</th>\n      <th>Neighborhood (U.H.F)</th>\n      <th>SEX</th>\n      <th>RACE/ETHNICITY</th>\n      <th>TOTAL NUMBER OF HIV DIAGNOSES</th>\n      <th>HIV DIAGNOSES PER 100,000 POPULATION</th>\n      <th>TOTAL NUMBER OF CONCURRENT HIV/AIDS DIAGNOSES</th>\n      <th>PROPORTION OF CONCURRENT HIV/AIDS DIAGNOSES AMONG ALL HIV DIAGNOSES</th>\n      <th>TOTAL NUMBER OF AIDS DIAGNOSES</th>\n      <th>AIDS DIAGNOSES PER 100,000 POPULATION</th>\n    </tr>\n  </thead>\n  <tbody>\n    <tr>\n      <th>3000</th>\n      <td>2016</td>\n      <td>Bronx</td>\n      <td>High Bridge -\\nMorrisania</td>\n      <td>All</td>\n      <td>All</td>\n      <td>94</td>\n      <td>54.2</td>\n      <td>21</td>\n      <td>22.3</td>\n      <td>80</td>\n      <td>46.1</td>\n    </tr>\n  </tbody>\n</table>\n</div>"
     },
     "metadata": {},
     "output_type": "display_data"
    },
    {
     "data": {
      "text/plain": "    YEAR Borough Neighborhood (U.H.F)     SEX RACE/ETHNICITY  \\\n20  2013     NaN              Jamaica  Female    Multiracial   \n\n   TOTAL NUMBER OF HIV DIAGNOSES HIV DIAGNOSES PER 100,000 POPULATION  \\\n20                             0                                    0   \n\n   TOTAL NUMBER OF CONCURRENT HIV/AIDS DIAGNOSES  \\\n20                                             0   \n\n   PROPORTION OF CONCURRENT HIV/AIDS DIAGNOSES AMONG ALL HIV DIAGNOSES  \\\n20                                                  0                    \n\n   TOTAL NUMBER OF AIDS DIAGNOSES AIDS DIAGNOSES PER 100,000 POPULATION  \n20                              0                                     0  ",
      "text/html": "<div>\n<style scoped>\n    .dataframe tbody tr th:only-of-type {\n        vertical-align: middle;\n    }\n\n    .dataframe tbody tr th {\n        vertical-align: top;\n    }\n\n    .dataframe thead th {\n        text-align: right;\n    }\n</style>\n<table border=\"1\" class=\"dataframe\">\n  <thead>\n    <tr style=\"text-align: right;\">\n      <th></th>\n      <th>YEAR</th>\n      <th>Borough</th>\n      <th>Neighborhood (U.H.F)</th>\n      <th>SEX</th>\n      <th>RACE/ETHNICITY</th>\n      <th>TOTAL NUMBER OF HIV DIAGNOSES</th>\n      <th>HIV DIAGNOSES PER 100,000 POPULATION</th>\n      <th>TOTAL NUMBER OF CONCURRENT HIV/AIDS DIAGNOSES</th>\n      <th>PROPORTION OF CONCURRENT HIV/AIDS DIAGNOSES AMONG ALL HIV DIAGNOSES</th>\n      <th>TOTAL NUMBER OF AIDS DIAGNOSES</th>\n      <th>AIDS DIAGNOSES PER 100,000 POPULATION</th>\n    </tr>\n  </thead>\n  <tbody>\n    <tr>\n      <th>20</th>\n      <td>2013</td>\n      <td>NaN</td>\n      <td>Jamaica</td>\n      <td>Female</td>\n      <td>Multiracial</td>\n      <td>0</td>\n      <td>0</td>\n      <td>0</td>\n      <td>0</td>\n      <td>0</td>\n      <td>0</td>\n    </tr>\n  </tbody>\n</table>\n</div>"
     },
     "metadata": {},
     "output_type": "display_data"
    },
    {
     "data": {
      "text/plain": "   YEAR Borough Neighborhood (U.H.F)     SEX RACE/ETHNICITY  \\\n7  2013     NaN     Southwest Queens  Female        Unknown   \n\n  TOTAL NUMBER OF HIV DIAGNOSES HIV DIAGNOSES PER 100,000 POPULATION  \\\n7                             0                                    0   \n\n  TOTAL NUMBER OF CONCURRENT HIV/AIDS DIAGNOSES  \\\n7                                             0   \n\n  PROPORTION OF CONCURRENT HIV/AIDS DIAGNOSES AMONG ALL HIV DIAGNOSES  \\\n7                                                  0                    \n\n  TOTAL NUMBER OF AIDS DIAGNOSES AIDS DIAGNOSES PER 100,000 POPULATION  \n7                              0                                     0  ",
      "text/html": "<div>\n<style scoped>\n    .dataframe tbody tr th:only-of-type {\n        vertical-align: middle;\n    }\n\n    .dataframe tbody tr th {\n        vertical-align: top;\n    }\n\n    .dataframe thead th {\n        text-align: right;\n    }\n</style>\n<table border=\"1\" class=\"dataframe\">\n  <thead>\n    <tr style=\"text-align: right;\">\n      <th></th>\n      <th>YEAR</th>\n      <th>Borough</th>\n      <th>Neighborhood (U.H.F)</th>\n      <th>SEX</th>\n      <th>RACE/ETHNICITY</th>\n      <th>TOTAL NUMBER OF HIV DIAGNOSES</th>\n      <th>HIV DIAGNOSES PER 100,000 POPULATION</th>\n      <th>TOTAL NUMBER OF CONCURRENT HIV/AIDS DIAGNOSES</th>\n      <th>PROPORTION OF CONCURRENT HIV/AIDS DIAGNOSES AMONG ALL HIV DIAGNOSES</th>\n      <th>TOTAL NUMBER OF AIDS DIAGNOSES</th>\n      <th>AIDS DIAGNOSES PER 100,000 POPULATION</th>\n    </tr>\n  </thead>\n  <tbody>\n    <tr>\n      <th>7</th>\n      <td>2013</td>\n      <td>NaN</td>\n      <td>Southwest Queens</td>\n      <td>Female</td>\n      <td>Unknown</td>\n      <td>0</td>\n      <td>0</td>\n      <td>0</td>\n      <td>0</td>\n      <td>0</td>\n      <td>0</td>\n    </tr>\n  </tbody>\n</table>\n</div>"
     },
     "metadata": {},
     "output_type": "display_data"
    },
    {
     "data": {
      "text/plain": "    YEAR Borough  Neighborhood (U.H.F)   SEX RACE/ETHNICITY  \\\n92  2011     NaN  Canarsie - Flatlands  Male       Hispanic   \n\n   TOTAL NUMBER OF HIV DIAGNOSES HIV DIAGNOSES PER 100,000 POPULATION  \\\n92                             9                                  116   \n\n   TOTAL NUMBER OF CONCURRENT HIV/AIDS DIAGNOSES  \\\n92                                             3   \n\n   PROPORTION OF CONCURRENT HIV/AIDS DIAGNOSES AMONG ALL HIV DIAGNOSES  \\\n92                                               33.3                    \n\n   TOTAL NUMBER OF AIDS DIAGNOSES AIDS DIAGNOSES PER 100,000 POPULATION  \n92                              5                                  64.4  ",
      "text/html": "<div>\n<style scoped>\n    .dataframe tbody tr th:only-of-type {\n        vertical-align: middle;\n    }\n\n    .dataframe tbody tr th {\n        vertical-align: top;\n    }\n\n    .dataframe thead th {\n        text-align: right;\n    }\n</style>\n<table border=\"1\" class=\"dataframe\">\n  <thead>\n    <tr style=\"text-align: right;\">\n      <th></th>\n      <th>YEAR</th>\n      <th>Borough</th>\n      <th>Neighborhood (U.H.F)</th>\n      <th>SEX</th>\n      <th>RACE/ETHNICITY</th>\n      <th>TOTAL NUMBER OF HIV DIAGNOSES</th>\n      <th>HIV DIAGNOSES PER 100,000 POPULATION</th>\n      <th>TOTAL NUMBER OF CONCURRENT HIV/AIDS DIAGNOSES</th>\n      <th>PROPORTION OF CONCURRENT HIV/AIDS DIAGNOSES AMONG ALL HIV DIAGNOSES</th>\n      <th>TOTAL NUMBER OF AIDS DIAGNOSES</th>\n      <th>AIDS DIAGNOSES PER 100,000 POPULATION</th>\n    </tr>\n  </thead>\n  <tbody>\n    <tr>\n      <th>92</th>\n      <td>2011</td>\n      <td>NaN</td>\n      <td>Canarsie - Flatlands</td>\n      <td>Male</td>\n      <td>Hispanic</td>\n      <td>9</td>\n      <td>116</td>\n      <td>3</td>\n      <td>33.3</td>\n      <td>5</td>\n      <td>64.4</td>\n    </tr>\n  </tbody>\n</table>\n</div>"
     },
     "metadata": {},
     "output_type": "display_data"
    },
    {
     "data": {
      "text/plain": "     YEAR Borough Neighborhood (U.H.F)     SEX RACE/ETHNICITY  \\\n106  2013     NaN          East Harlem  Female            All   \n\n    TOTAL NUMBER OF HIV DIAGNOSES HIV DIAGNOSES PER 100,000 POPULATION  \\\n106                            13                                   22   \n\n    TOTAL NUMBER OF CONCURRENT HIV/AIDS DIAGNOSES  \\\n106                                             2   \n\n    PROPORTION OF CONCURRENT HIV/AIDS DIAGNOSES AMONG ALL HIV DIAGNOSES  \\\n106                                               15.4                    \n\n    TOTAL NUMBER OF AIDS DIAGNOSES AIDS DIAGNOSES PER 100,000 POPULATION  \n106                             15                                  25.3  ",
      "text/html": "<div>\n<style scoped>\n    .dataframe tbody tr th:only-of-type {\n        vertical-align: middle;\n    }\n\n    .dataframe tbody tr th {\n        vertical-align: top;\n    }\n\n    .dataframe thead th {\n        text-align: right;\n    }\n</style>\n<table border=\"1\" class=\"dataframe\">\n  <thead>\n    <tr style=\"text-align: right;\">\n      <th></th>\n      <th>YEAR</th>\n      <th>Borough</th>\n      <th>Neighborhood (U.H.F)</th>\n      <th>SEX</th>\n      <th>RACE/ETHNICITY</th>\n      <th>TOTAL NUMBER OF HIV DIAGNOSES</th>\n      <th>HIV DIAGNOSES PER 100,000 POPULATION</th>\n      <th>TOTAL NUMBER OF CONCURRENT HIV/AIDS DIAGNOSES</th>\n      <th>PROPORTION OF CONCURRENT HIV/AIDS DIAGNOSES AMONG ALL HIV DIAGNOSES</th>\n      <th>TOTAL NUMBER OF AIDS DIAGNOSES</th>\n      <th>AIDS DIAGNOSES PER 100,000 POPULATION</th>\n    </tr>\n  </thead>\n  <tbody>\n    <tr>\n      <th>106</th>\n      <td>2013</td>\n      <td>NaN</td>\n      <td>East Harlem</td>\n      <td>Female</td>\n      <td>All</td>\n      <td>13</td>\n      <td>22</td>\n      <td>2</td>\n      <td>15.4</td>\n      <td>15</td>\n      <td>25.3</td>\n    </tr>\n  </tbody>\n</table>\n</div>"
     },
     "metadata": {},
     "output_type": "display_data"
    },
    {
     "data": {
      "text/plain": "     YEAR Borough      Neighborhood (U.H.F)     SEX RACE/ETHNICITY  \\\n111  2011     NaN  Ridgewood - Forest Hills  Female            All   \n\n    TOTAL NUMBER OF HIV DIAGNOSES HIV DIAGNOSES PER 100,000 POPULATION  \\\n111                             6                                  4.7   \n\n    TOTAL NUMBER OF CONCURRENT HIV/AIDS DIAGNOSES  \\\n111                                             2   \n\n    PROPORTION OF CONCURRENT HIV/AIDS DIAGNOSES AMONG ALL HIV DIAGNOSES  \\\n111                                               33.3                    \n\n    TOTAL NUMBER OF AIDS DIAGNOSES AIDS DIAGNOSES PER 100,000 POPULATION  \n111                              5                                   3.9  ",
      "text/html": "<div>\n<style scoped>\n    .dataframe tbody tr th:only-of-type {\n        vertical-align: middle;\n    }\n\n    .dataframe tbody tr th {\n        vertical-align: top;\n    }\n\n    .dataframe thead th {\n        text-align: right;\n    }\n</style>\n<table border=\"1\" class=\"dataframe\">\n  <thead>\n    <tr style=\"text-align: right;\">\n      <th></th>\n      <th>YEAR</th>\n      <th>Borough</th>\n      <th>Neighborhood (U.H.F)</th>\n      <th>SEX</th>\n      <th>RACE/ETHNICITY</th>\n      <th>TOTAL NUMBER OF HIV DIAGNOSES</th>\n      <th>HIV DIAGNOSES PER 100,000 POPULATION</th>\n      <th>TOTAL NUMBER OF CONCURRENT HIV/AIDS DIAGNOSES</th>\n      <th>PROPORTION OF CONCURRENT HIV/AIDS DIAGNOSES AMONG ALL HIV DIAGNOSES</th>\n      <th>TOTAL NUMBER OF AIDS DIAGNOSES</th>\n      <th>AIDS DIAGNOSES PER 100,000 POPULATION</th>\n    </tr>\n  </thead>\n  <tbody>\n    <tr>\n      <th>111</th>\n      <td>2011</td>\n      <td>NaN</td>\n      <td>Ridgewood - Forest Hills</td>\n      <td>Female</td>\n      <td>All</td>\n      <td>6</td>\n      <td>4.7</td>\n      <td>2</td>\n      <td>33.3</td>\n      <td>5</td>\n      <td>3.9</td>\n    </tr>\n  </tbody>\n</table>\n</div>"
     },
     "metadata": {},
     "output_type": "display_data"
    },
    {
     "data": {
      "text/plain": "      YEAR Borough   Neighborhood (U.H.F)  SEX RACE/ETHNICITY  \\\n2982  2016   Bronx  Fordham - Bronx\\nPark  All            All   \n\n     TOTAL NUMBER OF HIV DIAGNOSES HIV DIAGNOSES PER 100,000 POPULATION  \\\n2982                           104                                 48.3   \n\n     TOTAL NUMBER OF CONCURRENT HIV/AIDS DIAGNOSES  \\\n2982                                            20   \n\n     PROPORTION OF CONCURRENT HIV/AIDS DIAGNOSES AMONG ALL HIV DIAGNOSES  \\\n2982                                               19.2                    \n\n     TOTAL NUMBER OF AIDS DIAGNOSES AIDS DIAGNOSES PER 100,000 POPULATION  \n2982                             60                                  27.8  ",
      "text/html": "<div>\n<style scoped>\n    .dataframe tbody tr th:only-of-type {\n        vertical-align: middle;\n    }\n\n    .dataframe tbody tr th {\n        vertical-align: top;\n    }\n\n    .dataframe thead th {\n        text-align: right;\n    }\n</style>\n<table border=\"1\" class=\"dataframe\">\n  <thead>\n    <tr style=\"text-align: right;\">\n      <th></th>\n      <th>YEAR</th>\n      <th>Borough</th>\n      <th>Neighborhood (U.H.F)</th>\n      <th>SEX</th>\n      <th>RACE/ETHNICITY</th>\n      <th>TOTAL NUMBER OF HIV DIAGNOSES</th>\n      <th>HIV DIAGNOSES PER 100,000 POPULATION</th>\n      <th>TOTAL NUMBER OF CONCURRENT HIV/AIDS DIAGNOSES</th>\n      <th>PROPORTION OF CONCURRENT HIV/AIDS DIAGNOSES AMONG ALL HIV DIAGNOSES</th>\n      <th>TOTAL NUMBER OF AIDS DIAGNOSES</th>\n      <th>AIDS DIAGNOSES PER 100,000 POPULATION</th>\n    </tr>\n  </thead>\n  <tbody>\n    <tr>\n      <th>2982</th>\n      <td>2016</td>\n      <td>Bronx</td>\n      <td>Fordham - Bronx\\nPark</td>\n      <td>All</td>\n      <td>All</td>\n      <td>104</td>\n      <td>48.3</td>\n      <td>20</td>\n      <td>19.2</td>\n      <td>60</td>\n      <td>27.8</td>\n    </tr>\n  </tbody>\n</table>\n</div>"
     },
     "metadata": {},
     "output_type": "display_data"
    },
    {
     "data": {
      "text/plain": "      YEAR         Borough        Neighborhood (U.H.F)  SEX RACE/ETHNICITY  \\\n3738  2016  Staten\\nIsland  South Beach -\\nTottenville  All            All   \n\n     TOTAL NUMBER OF HIV DIAGNOSES HIV DIAGNOSES PER 100,000 POPULATION  \\\n3738                            24                                 14.5   \n\n     TOTAL NUMBER OF CONCURRENT HIV/AIDS DIAGNOSES  \\\n3738                                             3   \n\n     PROPORTION OF CONCURRENT HIV/AIDS DIAGNOSES AMONG ALL HIV DIAGNOSES  \\\n3738                                               12.5                    \n\n     TOTAL NUMBER OF AIDS DIAGNOSES AIDS DIAGNOSES PER 100,000 POPULATION  \n3738                              4                                   2.4  ",
      "text/html": "<div>\n<style scoped>\n    .dataframe tbody tr th:only-of-type {\n        vertical-align: middle;\n    }\n\n    .dataframe tbody tr th {\n        vertical-align: top;\n    }\n\n    .dataframe thead th {\n        text-align: right;\n    }\n</style>\n<table border=\"1\" class=\"dataframe\">\n  <thead>\n    <tr style=\"text-align: right;\">\n      <th></th>\n      <th>YEAR</th>\n      <th>Borough</th>\n      <th>Neighborhood (U.H.F)</th>\n      <th>SEX</th>\n      <th>RACE/ETHNICITY</th>\n      <th>TOTAL NUMBER OF HIV DIAGNOSES</th>\n      <th>HIV DIAGNOSES PER 100,000 POPULATION</th>\n      <th>TOTAL NUMBER OF CONCURRENT HIV/AIDS DIAGNOSES</th>\n      <th>PROPORTION OF CONCURRENT HIV/AIDS DIAGNOSES AMONG ALL HIV DIAGNOSES</th>\n      <th>TOTAL NUMBER OF AIDS DIAGNOSES</th>\n      <th>AIDS DIAGNOSES PER 100,000 POPULATION</th>\n    </tr>\n  </thead>\n  <tbody>\n    <tr>\n      <th>3738</th>\n      <td>2016</td>\n      <td>Staten\\nIsland</td>\n      <td>South Beach -\\nTottenville</td>\n      <td>All</td>\n      <td>All</td>\n      <td>24</td>\n      <td>14.5</td>\n      <td>3</td>\n      <td>12.5</td>\n      <td>4</td>\n      <td>2.4</td>\n    </tr>\n  </tbody>\n</table>\n</div>"
     },
     "metadata": {},
     "output_type": "display_data"
    },
    {
     "data": {
      "text/plain": "    YEAR Borough         Neighborhood (U.H.F)  SEX RACE/ETHNICITY  \\\n69  2013     NaN  Washington Heights - Inwood  All            All   \n\n   TOTAL NUMBER OF HIV DIAGNOSES HIV DIAGNOSES PER 100,000 POPULATION  \\\n69                           135                                 52.9   \n\n   TOTAL NUMBER OF CONCURRENT HIV/AIDS DIAGNOSES  \\\n69                                            23   \n\n   PROPORTION OF CONCURRENT HIV/AIDS DIAGNOSES AMONG ALL HIV DIAGNOSES  \\\n69                                                 17                    \n\n   TOTAL NUMBER OF AIDS DIAGNOSES AIDS DIAGNOSES PER 100,000 POPULATION  \n69                             68                                  26.6  ",
      "text/html": "<div>\n<style scoped>\n    .dataframe tbody tr th:only-of-type {\n        vertical-align: middle;\n    }\n\n    .dataframe tbody tr th {\n        vertical-align: top;\n    }\n\n    .dataframe thead th {\n        text-align: right;\n    }\n</style>\n<table border=\"1\" class=\"dataframe\">\n  <thead>\n    <tr style=\"text-align: right;\">\n      <th></th>\n      <th>YEAR</th>\n      <th>Borough</th>\n      <th>Neighborhood (U.H.F)</th>\n      <th>SEX</th>\n      <th>RACE/ETHNICITY</th>\n      <th>TOTAL NUMBER OF HIV DIAGNOSES</th>\n      <th>HIV DIAGNOSES PER 100,000 POPULATION</th>\n      <th>TOTAL NUMBER OF CONCURRENT HIV/AIDS DIAGNOSES</th>\n      <th>PROPORTION OF CONCURRENT HIV/AIDS DIAGNOSES AMONG ALL HIV DIAGNOSES</th>\n      <th>TOTAL NUMBER OF AIDS DIAGNOSES</th>\n      <th>AIDS DIAGNOSES PER 100,000 POPULATION</th>\n    </tr>\n  </thead>\n  <tbody>\n    <tr>\n      <th>69</th>\n      <td>2013</td>\n      <td>NaN</td>\n      <td>Washington Heights - Inwood</td>\n      <td>All</td>\n      <td>All</td>\n      <td>135</td>\n      <td>52.9</td>\n      <td>23</td>\n      <td>17</td>\n      <td>68</td>\n      <td>26.6</td>\n    </tr>\n  </tbody>\n</table>\n</div>"
     },
     "metadata": {},
     "output_type": "display_data"
    },
    {
     "data": {
      "text/plain": "      YEAR Borough       Neighborhood (U.H.F)  SEX RACE/ETHNICITY  \\\n3612  2016  Queens  Ridgewood - Forest\\nHills  All            All   \n\n     TOTAL NUMBER OF HIV DIAGNOSES HIV DIAGNOSES PER 100,000 POPULATION  \\\n3612                            40                                 17.7   \n\n     TOTAL NUMBER OF CONCURRENT HIV/AIDS DIAGNOSES  \\\n3612                                             6   \n\n     PROPORTION OF CONCURRENT HIV/AIDS DIAGNOSES AMONG ALL HIV DIAGNOSES  \\\n3612                                                 15                    \n\n     TOTAL NUMBER OF AIDS DIAGNOSES AIDS DIAGNOSES PER 100,000 POPULATION  \n3612                             19                                   8.4  ",
      "text/html": "<div>\n<style scoped>\n    .dataframe tbody tr th:only-of-type {\n        vertical-align: middle;\n    }\n\n    .dataframe tbody tr th {\n        vertical-align: top;\n    }\n\n    .dataframe thead th {\n        text-align: right;\n    }\n</style>\n<table border=\"1\" class=\"dataframe\">\n  <thead>\n    <tr style=\"text-align: right;\">\n      <th></th>\n      <th>YEAR</th>\n      <th>Borough</th>\n      <th>Neighborhood (U.H.F)</th>\n      <th>SEX</th>\n      <th>RACE/ETHNICITY</th>\n      <th>TOTAL NUMBER OF HIV DIAGNOSES</th>\n      <th>HIV DIAGNOSES PER 100,000 POPULATION</th>\n      <th>TOTAL NUMBER OF CONCURRENT HIV/AIDS DIAGNOSES</th>\n      <th>PROPORTION OF CONCURRENT HIV/AIDS DIAGNOSES AMONG ALL HIV DIAGNOSES</th>\n      <th>TOTAL NUMBER OF AIDS DIAGNOSES</th>\n      <th>AIDS DIAGNOSES PER 100,000 POPULATION</th>\n    </tr>\n  </thead>\n  <tbody>\n    <tr>\n      <th>3612</th>\n      <td>2016</td>\n      <td>Queens</td>\n      <td>Ridgewood - Forest\\nHills</td>\n      <td>All</td>\n      <td>All</td>\n      <td>40</td>\n      <td>17.7</td>\n      <td>6</td>\n      <td>15</td>\n      <td>19</td>\n      <td>8.4</td>\n    </tr>\n  </tbody>\n</table>\n</div>"
     },
     "metadata": {},
     "output_type": "display_data"
    },
    {
     "data": {
      "text/plain": "   YEAR Borough      Neighborhood (U.H.F)   SEX RACE/ETHNICITY  \\\n5  2013     NaN  East Flatbush - Flatbush  Male          Black   \n\n  TOTAL NUMBER OF HIV DIAGNOSES HIV DIAGNOSES PER 100,000 POPULATION  \\\n5                            54                                 56.5   \n\n  TOTAL NUMBER OF CONCURRENT HIV/AIDS DIAGNOSES  \\\n5                                             8   \n\n  PROPORTION OF CONCURRENT HIV/AIDS DIAGNOSES AMONG ALL HIV DIAGNOSES  \\\n5                                               14.8                    \n\n  TOTAL NUMBER OF AIDS DIAGNOSES AIDS DIAGNOSES PER 100,000 POPULATION  \n5                             33                                  34.5  ",
      "text/html": "<div>\n<style scoped>\n    .dataframe tbody tr th:only-of-type {\n        vertical-align: middle;\n    }\n\n    .dataframe tbody tr th {\n        vertical-align: top;\n    }\n\n    .dataframe thead th {\n        text-align: right;\n    }\n</style>\n<table border=\"1\" class=\"dataframe\">\n  <thead>\n    <tr style=\"text-align: right;\">\n      <th></th>\n      <th>YEAR</th>\n      <th>Borough</th>\n      <th>Neighborhood (U.H.F)</th>\n      <th>SEX</th>\n      <th>RACE/ETHNICITY</th>\n      <th>TOTAL NUMBER OF HIV DIAGNOSES</th>\n      <th>HIV DIAGNOSES PER 100,000 POPULATION</th>\n      <th>TOTAL NUMBER OF CONCURRENT HIV/AIDS DIAGNOSES</th>\n      <th>PROPORTION OF CONCURRENT HIV/AIDS DIAGNOSES AMONG ALL HIV DIAGNOSES</th>\n      <th>TOTAL NUMBER OF AIDS DIAGNOSES</th>\n      <th>AIDS DIAGNOSES PER 100,000 POPULATION</th>\n    </tr>\n  </thead>\n  <tbody>\n    <tr>\n      <th>5</th>\n      <td>2013</td>\n      <td>NaN</td>\n      <td>East Flatbush - Flatbush</td>\n      <td>Male</td>\n      <td>Black</td>\n      <td>54</td>\n      <td>56.5</td>\n      <td>8</td>\n      <td>14.8</td>\n      <td>33</td>\n      <td>34.5</td>\n    </tr>\n  </tbody>\n</table>\n</div>"
     },
     "metadata": {},
     "output_type": "display_data"
    },
    {
     "data": {
      "text/plain": "      YEAR Borough   Neighborhood (U.H.F)  SEX RACE/ETHNICITY  \\\n3072  2016   Bronx  Pelham - Throgs\\nNeck  All            All   \n\n     TOTAL NUMBER OF HIV DIAGNOSES HIV DIAGNOSES PER 100,000 POPULATION  \\\n3072                            74                                 29.6   \n\n     TOTAL NUMBER OF CONCURRENT HIV/AIDS DIAGNOSES  \\\n3072                                            13   \n\n     PROPORTION OF CONCURRENT HIV/AIDS DIAGNOSES AMONG ALL HIV DIAGNOSES  \\\n3072                                               17.6                    \n\n     TOTAL NUMBER OF AIDS DIAGNOSES AIDS DIAGNOSES PER 100,000 POPULATION  \n3072                             45                                    18  ",
      "text/html": "<div>\n<style scoped>\n    .dataframe tbody tr th:only-of-type {\n        vertical-align: middle;\n    }\n\n    .dataframe tbody tr th {\n        vertical-align: top;\n    }\n\n    .dataframe thead th {\n        text-align: right;\n    }\n</style>\n<table border=\"1\" class=\"dataframe\">\n  <thead>\n    <tr style=\"text-align: right;\">\n      <th></th>\n      <th>YEAR</th>\n      <th>Borough</th>\n      <th>Neighborhood (U.H.F)</th>\n      <th>SEX</th>\n      <th>RACE/ETHNICITY</th>\n      <th>TOTAL NUMBER OF HIV DIAGNOSES</th>\n      <th>HIV DIAGNOSES PER 100,000 POPULATION</th>\n      <th>TOTAL NUMBER OF CONCURRENT HIV/AIDS DIAGNOSES</th>\n      <th>PROPORTION OF CONCURRENT HIV/AIDS DIAGNOSES AMONG ALL HIV DIAGNOSES</th>\n      <th>TOTAL NUMBER OF AIDS DIAGNOSES</th>\n      <th>AIDS DIAGNOSES PER 100,000 POPULATION</th>\n    </tr>\n  </thead>\n  <tbody>\n    <tr>\n      <th>3072</th>\n      <td>2016</td>\n      <td>Bronx</td>\n      <td>Pelham - Throgs\\nNeck</td>\n      <td>All</td>\n      <td>All</td>\n      <td>74</td>\n      <td>29.6</td>\n      <td>13</td>\n      <td>17.6</td>\n      <td>45</td>\n      <td>18</td>\n    </tr>\n  </tbody>\n</table>\n</div>"
     },
     "metadata": {},
     "output_type": "display_data"
    },
    {
     "data": {
      "text/plain": "    YEAR Borough           Neighborhood (U.H.F)     SEX RACE/ETHNICITY  \\\n24  2010     NaN  Union Square - Lower Eastside  Female    Multiracial   \n\n   TOTAL NUMBER OF HIV DIAGNOSES HIV DIAGNOSES PER 100,000 POPULATION  \\\n24                             0                                    0   \n\n   TOTAL NUMBER OF CONCURRENT HIV/AIDS DIAGNOSES  \\\n24                                             0   \n\n   PROPORTION OF CONCURRENT HIV/AIDS DIAGNOSES AMONG ALL HIV DIAGNOSES  \\\n24                                                  0                    \n\n   TOTAL NUMBER OF AIDS DIAGNOSES AIDS DIAGNOSES PER 100,000 POPULATION  \n24                              0                                     0  ",
      "text/html": "<div>\n<style scoped>\n    .dataframe tbody tr th:only-of-type {\n        vertical-align: middle;\n    }\n\n    .dataframe tbody tr th {\n        vertical-align: top;\n    }\n\n    .dataframe thead th {\n        text-align: right;\n    }\n</style>\n<table border=\"1\" class=\"dataframe\">\n  <thead>\n    <tr style=\"text-align: right;\">\n      <th></th>\n      <th>YEAR</th>\n      <th>Borough</th>\n      <th>Neighborhood (U.H.F)</th>\n      <th>SEX</th>\n      <th>RACE/ETHNICITY</th>\n      <th>TOTAL NUMBER OF HIV DIAGNOSES</th>\n      <th>HIV DIAGNOSES PER 100,000 POPULATION</th>\n      <th>TOTAL NUMBER OF CONCURRENT HIV/AIDS DIAGNOSES</th>\n      <th>PROPORTION OF CONCURRENT HIV/AIDS DIAGNOSES AMONG ALL HIV DIAGNOSES</th>\n      <th>TOTAL NUMBER OF AIDS DIAGNOSES</th>\n      <th>AIDS DIAGNOSES PER 100,000 POPULATION</th>\n    </tr>\n  </thead>\n  <tbody>\n    <tr>\n      <th>24</th>\n      <td>2010</td>\n      <td>NaN</td>\n      <td>Union Square - Lower Eastside</td>\n      <td>Female</td>\n      <td>Multiracial</td>\n      <td>0</td>\n      <td>0</td>\n      <td>0</td>\n      <td>0</td>\n      <td>0</td>\n      <td>0</td>\n    </tr>\n  </tbody>\n</table>\n</div>"
     },
     "metadata": {},
     "output_type": "display_data"
    },
    {
     "data": {
      "text/plain": "    YEAR Borough       Neighborhood (U.H.F)  SEX RACE/ETHNICITY  \\\n23  2011     NaN  South Beach - Tottenville  All            All   \n\n   TOTAL NUMBER OF HIV DIAGNOSES HIV DIAGNOSES PER 100,000 POPULATION  \\\n23                             4                                  2.1   \n\n   TOTAL NUMBER OF CONCURRENT HIV/AIDS DIAGNOSES  \\\n23                                             2   \n\n   PROPORTION OF CONCURRENT HIV/AIDS DIAGNOSES AMONG ALL HIV DIAGNOSES  \\\n23                                                 50                    \n\n   TOTAL NUMBER OF AIDS DIAGNOSES AIDS DIAGNOSES PER 100,000 POPULATION  \n23                              4                                   2.1  ",
      "text/html": "<div>\n<style scoped>\n    .dataframe tbody tr th:only-of-type {\n        vertical-align: middle;\n    }\n\n    .dataframe tbody tr th {\n        vertical-align: top;\n    }\n\n    .dataframe thead th {\n        text-align: right;\n    }\n</style>\n<table border=\"1\" class=\"dataframe\">\n  <thead>\n    <tr style=\"text-align: right;\">\n      <th></th>\n      <th>YEAR</th>\n      <th>Borough</th>\n      <th>Neighborhood (U.H.F)</th>\n      <th>SEX</th>\n      <th>RACE/ETHNICITY</th>\n      <th>TOTAL NUMBER OF HIV DIAGNOSES</th>\n      <th>HIV DIAGNOSES PER 100,000 POPULATION</th>\n      <th>TOTAL NUMBER OF CONCURRENT HIV/AIDS DIAGNOSES</th>\n      <th>PROPORTION OF CONCURRENT HIV/AIDS DIAGNOSES AMONG ALL HIV DIAGNOSES</th>\n      <th>TOTAL NUMBER OF AIDS DIAGNOSES</th>\n      <th>AIDS DIAGNOSES PER 100,000 POPULATION</th>\n    </tr>\n  </thead>\n  <tbody>\n    <tr>\n      <th>23</th>\n      <td>2011</td>\n      <td>NaN</td>\n      <td>South Beach - Tottenville</td>\n      <td>All</td>\n      <td>All</td>\n      <td>4</td>\n      <td>2.1</td>\n      <td>2</td>\n      <td>50</td>\n      <td>4</td>\n      <td>2.1</td>\n    </tr>\n  </tbody>\n</table>\n</div>"
     },
     "metadata": {},
     "output_type": "display_data"
    },
    {
     "data": {
      "text/plain": "      YEAR Borough         Neighborhood (U.H.F)  SEX RACE/ETHNICITY  \\\n3594  2016  Queens  Long Island City -\\nAstoria  All            All   \n\n     TOTAL NUMBER OF HIV DIAGNOSES HIV DIAGNOSES PER 100,000 POPULATION  \\\n3594                            54                                 29.4   \n\n     TOTAL NUMBER OF CONCURRENT HIV/AIDS DIAGNOSES  \\\n3594                                             9   \n\n     PROPORTION OF CONCURRENT HIV/AIDS DIAGNOSES AMONG ALL HIV DIAGNOSES  \\\n3594                                               16.7                    \n\n     TOTAL NUMBER OF AIDS DIAGNOSES AIDS DIAGNOSES PER 100,000 POPULATION  \n3594                             19                                  10.4  ",
      "text/html": "<div>\n<style scoped>\n    .dataframe tbody tr th:only-of-type {\n        vertical-align: middle;\n    }\n\n    .dataframe tbody tr th {\n        vertical-align: top;\n    }\n\n    .dataframe thead th {\n        text-align: right;\n    }\n</style>\n<table border=\"1\" class=\"dataframe\">\n  <thead>\n    <tr style=\"text-align: right;\">\n      <th></th>\n      <th>YEAR</th>\n      <th>Borough</th>\n      <th>Neighborhood (U.H.F)</th>\n      <th>SEX</th>\n      <th>RACE/ETHNICITY</th>\n      <th>TOTAL NUMBER OF HIV DIAGNOSES</th>\n      <th>HIV DIAGNOSES PER 100,000 POPULATION</th>\n      <th>TOTAL NUMBER OF CONCURRENT HIV/AIDS DIAGNOSES</th>\n      <th>PROPORTION OF CONCURRENT HIV/AIDS DIAGNOSES AMONG ALL HIV DIAGNOSES</th>\n      <th>TOTAL NUMBER OF AIDS DIAGNOSES</th>\n      <th>AIDS DIAGNOSES PER 100,000 POPULATION</th>\n    </tr>\n  </thead>\n  <tbody>\n    <tr>\n      <th>3594</th>\n      <td>2016</td>\n      <td>Queens</td>\n      <td>Long Island City -\\nAstoria</td>\n      <td>All</td>\n      <td>All</td>\n      <td>54</td>\n      <td>29.4</td>\n      <td>9</td>\n      <td>16.7</td>\n      <td>19</td>\n      <td>10.4</td>\n    </tr>\n  </tbody>\n</table>\n</div>"
     },
     "metadata": {},
     "output_type": "display_data"
    },
    {
     "data": {
      "text/plain": "    YEAR Borough Neighborhood (U.H.F)     SEX RACE/ETHNICITY  \\\n50  2012     NaN        Fresh Meadows  Female          Black   \n\n   TOTAL NUMBER OF HIV DIAGNOSES HIV DIAGNOSES PER 100,000 POPULATION  \\\n50                             0                                    0   \n\n   TOTAL NUMBER OF CONCURRENT HIV/AIDS DIAGNOSES  \\\n50                                             0   \n\n   PROPORTION OF CONCURRENT HIV/AIDS DIAGNOSES AMONG ALL HIV DIAGNOSES  \\\n50                                                  0                    \n\n   TOTAL NUMBER OF AIDS DIAGNOSES AIDS DIAGNOSES PER 100,000 POPULATION  \n50                              1                                  21.4  ",
      "text/html": "<div>\n<style scoped>\n    .dataframe tbody tr th:only-of-type {\n        vertical-align: middle;\n    }\n\n    .dataframe tbody tr th {\n        vertical-align: top;\n    }\n\n    .dataframe thead th {\n        text-align: right;\n    }\n</style>\n<table border=\"1\" class=\"dataframe\">\n  <thead>\n    <tr style=\"text-align: right;\">\n      <th></th>\n      <th>YEAR</th>\n      <th>Borough</th>\n      <th>Neighborhood (U.H.F)</th>\n      <th>SEX</th>\n      <th>RACE/ETHNICITY</th>\n      <th>TOTAL NUMBER OF HIV DIAGNOSES</th>\n      <th>HIV DIAGNOSES PER 100,000 POPULATION</th>\n      <th>TOTAL NUMBER OF CONCURRENT HIV/AIDS DIAGNOSES</th>\n      <th>PROPORTION OF CONCURRENT HIV/AIDS DIAGNOSES AMONG ALL HIV DIAGNOSES</th>\n      <th>TOTAL NUMBER OF AIDS DIAGNOSES</th>\n      <th>AIDS DIAGNOSES PER 100,000 POPULATION</th>\n    </tr>\n  </thead>\n  <tbody>\n    <tr>\n      <th>50</th>\n      <td>2012</td>\n      <td>NaN</td>\n      <td>Fresh Meadows</td>\n      <td>Female</td>\n      <td>Black</td>\n      <td>0</td>\n      <td>0</td>\n      <td>0</td>\n      <td>0</td>\n      <td>1</td>\n      <td>21.4</td>\n    </tr>\n  </tbody>\n</table>\n</div>"
     },
     "metadata": {},
     "output_type": "display_data"
    },
    {
     "data": {
      "text/plain": "    YEAR Borough Neighborhood (U.H.F)   SEX RACE/ETHNICITY  \\\n83  2013     NaN      Northeast Bronx  Male    Multiracial   \n\n   TOTAL NUMBER OF HIV DIAGNOSES HIV DIAGNOSES PER 100,000 POPULATION  \\\n83                             1                                 89.9   \n\n   TOTAL NUMBER OF CONCURRENT HIV/AIDS DIAGNOSES  \\\n83                                             1   \n\n   PROPORTION OF CONCURRENT HIV/AIDS DIAGNOSES AMONG ALL HIV DIAGNOSES  \\\n83                                                100                    \n\n   TOTAL NUMBER OF AIDS DIAGNOSES AIDS DIAGNOSES PER 100,000 POPULATION  \n83                              1                                  89.9  ",
      "text/html": "<div>\n<style scoped>\n    .dataframe tbody tr th:only-of-type {\n        vertical-align: middle;\n    }\n\n    .dataframe tbody tr th {\n        vertical-align: top;\n    }\n\n    .dataframe thead th {\n        text-align: right;\n    }\n</style>\n<table border=\"1\" class=\"dataframe\">\n  <thead>\n    <tr style=\"text-align: right;\">\n      <th></th>\n      <th>YEAR</th>\n      <th>Borough</th>\n      <th>Neighborhood (U.H.F)</th>\n      <th>SEX</th>\n      <th>RACE/ETHNICITY</th>\n      <th>TOTAL NUMBER OF HIV DIAGNOSES</th>\n      <th>HIV DIAGNOSES PER 100,000 POPULATION</th>\n      <th>TOTAL NUMBER OF CONCURRENT HIV/AIDS DIAGNOSES</th>\n      <th>PROPORTION OF CONCURRENT HIV/AIDS DIAGNOSES AMONG ALL HIV DIAGNOSES</th>\n      <th>TOTAL NUMBER OF AIDS DIAGNOSES</th>\n      <th>AIDS DIAGNOSES PER 100,000 POPULATION</th>\n    </tr>\n  </thead>\n  <tbody>\n    <tr>\n      <th>83</th>\n      <td>2013</td>\n      <td>NaN</td>\n      <td>Northeast Bronx</td>\n      <td>Male</td>\n      <td>Multiracial</td>\n      <td>1</td>\n      <td>89.9</td>\n      <td>1</td>\n      <td>100</td>\n      <td>1</td>\n      <td>89.9</td>\n    </tr>\n  </tbody>\n</table>\n</div>"
     },
     "metadata": {},
     "output_type": "display_data"
    },
    {
     "data": {
      "text/plain": "    YEAR Borough Neighborhood (U.H.F)     SEX   RACE/ETHNICITY  \\\n18  2012     NaN    Crotona - Tremont  Female  Native American   \n\n   TOTAL NUMBER OF HIV DIAGNOSES HIV DIAGNOSES PER 100,000 POPULATION  \\\n18                             0                                    0   \n\n   TOTAL NUMBER OF CONCURRENT HIV/AIDS DIAGNOSES  \\\n18                                             0   \n\n   PROPORTION OF CONCURRENT HIV/AIDS DIAGNOSES AMONG ALL HIV DIAGNOSES  \\\n18                                                  0                    \n\n   TOTAL NUMBER OF AIDS DIAGNOSES AIDS DIAGNOSES PER 100,000 POPULATION  \n18                              0                                     0  ",
      "text/html": "<div>\n<style scoped>\n    .dataframe tbody tr th:only-of-type {\n        vertical-align: middle;\n    }\n\n    .dataframe tbody tr th {\n        vertical-align: top;\n    }\n\n    .dataframe thead th {\n        text-align: right;\n    }\n</style>\n<table border=\"1\" class=\"dataframe\">\n  <thead>\n    <tr style=\"text-align: right;\">\n      <th></th>\n      <th>YEAR</th>\n      <th>Borough</th>\n      <th>Neighborhood (U.H.F)</th>\n      <th>SEX</th>\n      <th>RACE/ETHNICITY</th>\n      <th>TOTAL NUMBER OF HIV DIAGNOSES</th>\n      <th>HIV DIAGNOSES PER 100,000 POPULATION</th>\n      <th>TOTAL NUMBER OF CONCURRENT HIV/AIDS DIAGNOSES</th>\n      <th>PROPORTION OF CONCURRENT HIV/AIDS DIAGNOSES AMONG ALL HIV DIAGNOSES</th>\n      <th>TOTAL NUMBER OF AIDS DIAGNOSES</th>\n      <th>AIDS DIAGNOSES PER 100,000 POPULATION</th>\n    </tr>\n  </thead>\n  <tbody>\n    <tr>\n      <th>18</th>\n      <td>2012</td>\n      <td>NaN</td>\n      <td>Crotona - Tremont</td>\n      <td>Female</td>\n      <td>Native American</td>\n      <td>0</td>\n      <td>0</td>\n      <td>0</td>\n      <td>0</td>\n      <td>0</td>\n      <td>0</td>\n    </tr>\n  </tbody>\n</table>\n</div>"
     },
     "metadata": {},
     "output_type": "display_data"
    },
    {
     "data": {
      "text/plain": "     YEAR Borough Neighborhood (U.H.F)   SEX          RACE/ETHNICITY  \\\n110  2011     NaN      Lower Manhattan  Male  Asian/Pacific Islander   \n\n    TOTAL NUMBER OF HIV DIAGNOSES HIV DIAGNOSES PER 100,000 POPULATION  \\\n110                             0                                    0   \n\n    TOTAL NUMBER OF CONCURRENT HIV/AIDS DIAGNOSES  \\\n110                                             0   \n\n    PROPORTION OF CONCURRENT HIV/AIDS DIAGNOSES AMONG ALL HIV DIAGNOSES  \\\n110                                                  0                    \n\n    TOTAL NUMBER OF AIDS DIAGNOSES AIDS DIAGNOSES PER 100,000 POPULATION  \n110                              0                                     0  ",
      "text/html": "<div>\n<style scoped>\n    .dataframe tbody tr th:only-of-type {\n        vertical-align: middle;\n    }\n\n    .dataframe tbody tr th {\n        vertical-align: top;\n    }\n\n    .dataframe thead th {\n        text-align: right;\n    }\n</style>\n<table border=\"1\" class=\"dataframe\">\n  <thead>\n    <tr style=\"text-align: right;\">\n      <th></th>\n      <th>YEAR</th>\n      <th>Borough</th>\n      <th>Neighborhood (U.H.F)</th>\n      <th>SEX</th>\n      <th>RACE/ETHNICITY</th>\n      <th>TOTAL NUMBER OF HIV DIAGNOSES</th>\n      <th>HIV DIAGNOSES PER 100,000 POPULATION</th>\n      <th>TOTAL NUMBER OF CONCURRENT HIV/AIDS DIAGNOSES</th>\n      <th>PROPORTION OF CONCURRENT HIV/AIDS DIAGNOSES AMONG ALL HIV DIAGNOSES</th>\n      <th>TOTAL NUMBER OF AIDS DIAGNOSES</th>\n      <th>AIDS DIAGNOSES PER 100,000 POPULATION</th>\n    </tr>\n  </thead>\n  <tbody>\n    <tr>\n      <th>110</th>\n      <td>2011</td>\n      <td>NaN</td>\n      <td>Lower Manhattan</td>\n      <td>Male</td>\n      <td>Asian/Pacific Islander</td>\n      <td>0</td>\n      <td>0</td>\n      <td>0</td>\n      <td>0</td>\n      <td>0</td>\n      <td>0</td>\n    </tr>\n  </tbody>\n</table>\n</div>"
     },
     "metadata": {},
     "output_type": "display_data"
    },
    {
     "data": {
      "text/plain": "      YEAR   Borough              Neighborhood (U.H.F)  SEX RACE/ETHNICITY  \\\n3198  2016  Brooklyn  Downtown - Heights -\\nPark Slope  All            All   \n\n     TOTAL NUMBER OF HIV DIAGNOSES HIV DIAGNOSES PER 100,000 POPULATION  \\\n3198                            33                                 15.1   \n\n     TOTAL NUMBER OF CONCURRENT HIV/AIDS DIAGNOSES  \\\n3198                                             2   \n\n     PROPORTION OF CONCURRENT HIV/AIDS DIAGNOSES AMONG ALL HIV DIAGNOSES  \\\n3198                                                6.1                    \n\n     TOTAL NUMBER OF AIDS DIAGNOSES AIDS DIAGNOSES PER 100,000 POPULATION  \n3198                             15                                   6.8  ",
      "text/html": "<div>\n<style scoped>\n    .dataframe tbody tr th:only-of-type {\n        vertical-align: middle;\n    }\n\n    .dataframe tbody tr th {\n        vertical-align: top;\n    }\n\n    .dataframe thead th {\n        text-align: right;\n    }\n</style>\n<table border=\"1\" class=\"dataframe\">\n  <thead>\n    <tr style=\"text-align: right;\">\n      <th></th>\n      <th>YEAR</th>\n      <th>Borough</th>\n      <th>Neighborhood (U.H.F)</th>\n      <th>SEX</th>\n      <th>RACE/ETHNICITY</th>\n      <th>TOTAL NUMBER OF HIV DIAGNOSES</th>\n      <th>HIV DIAGNOSES PER 100,000 POPULATION</th>\n      <th>TOTAL NUMBER OF CONCURRENT HIV/AIDS DIAGNOSES</th>\n      <th>PROPORTION OF CONCURRENT HIV/AIDS DIAGNOSES AMONG ALL HIV DIAGNOSES</th>\n      <th>TOTAL NUMBER OF AIDS DIAGNOSES</th>\n      <th>AIDS DIAGNOSES PER 100,000 POPULATION</th>\n    </tr>\n  </thead>\n  <tbody>\n    <tr>\n      <th>3198</th>\n      <td>2016</td>\n      <td>Brooklyn</td>\n      <td>Downtown - Heights -\\nPark Slope</td>\n      <td>All</td>\n      <td>All</td>\n      <td>33</td>\n      <td>15.1</td>\n      <td>2</td>\n      <td>6.1</td>\n      <td>15</td>\n      <td>6.8</td>\n    </tr>\n  </tbody>\n</table>\n</div>"
     },
     "metadata": {},
     "output_type": "display_data"
    },
    {
     "data": {
      "text/plain": "      YEAR    Borough             Neighborhood (U.H.F)  SEX RACE/ETHNICITY  \\\n3432  2016  Manhattan  Union Square -\\nLower East Side  All            All   \n\n     TOTAL NUMBER OF HIV DIAGNOSES HIV DIAGNOSES PER 100,000 POPULATION  \\\n3432                            35                                 20.8   \n\n     TOTAL NUMBER OF CONCURRENT HIV/AIDS DIAGNOSES  \\\n3432                                            10   \n\n     PROPORTION OF CONCURRENT HIV/AIDS DIAGNOSES AMONG ALL HIV DIAGNOSES  \\\n3432                                               28.6                    \n\n     TOTAL NUMBER OF AIDS DIAGNOSES AIDS DIAGNOSES PER 100,000 POPULATION  \n3432                             16                                   9.5  ",
      "text/html": "<div>\n<style scoped>\n    .dataframe tbody tr th:only-of-type {\n        vertical-align: middle;\n    }\n\n    .dataframe tbody tr th {\n        vertical-align: top;\n    }\n\n    .dataframe thead th {\n        text-align: right;\n    }\n</style>\n<table border=\"1\" class=\"dataframe\">\n  <thead>\n    <tr style=\"text-align: right;\">\n      <th></th>\n      <th>YEAR</th>\n      <th>Borough</th>\n      <th>Neighborhood (U.H.F)</th>\n      <th>SEX</th>\n      <th>RACE/ETHNICITY</th>\n      <th>TOTAL NUMBER OF HIV DIAGNOSES</th>\n      <th>HIV DIAGNOSES PER 100,000 POPULATION</th>\n      <th>TOTAL NUMBER OF CONCURRENT HIV/AIDS DIAGNOSES</th>\n      <th>PROPORTION OF CONCURRENT HIV/AIDS DIAGNOSES AMONG ALL HIV DIAGNOSES</th>\n      <th>TOTAL NUMBER OF AIDS DIAGNOSES</th>\n      <th>AIDS DIAGNOSES PER 100,000 POPULATION</th>\n    </tr>\n  </thead>\n  <tbody>\n    <tr>\n      <th>3432</th>\n      <td>2016</td>\n      <td>Manhattan</td>\n      <td>Union Square -\\nLower East Side</td>\n      <td>All</td>\n      <td>All</td>\n      <td>35</td>\n      <td>20.8</td>\n      <td>10</td>\n      <td>28.6</td>\n      <td>16</td>\n      <td>9.5</td>\n    </tr>\n  </tbody>\n</table>\n</div>"
     },
     "metadata": {},
     "output_type": "display_data"
    },
    {
     "data": {
      "text/plain": "      YEAR    Borough Neighborhood (U.H.F)  SEX RACE/ETHNICITY  \\\n3450  2016  Manhattan      Upper East Side  All            All   \n\n     TOTAL NUMBER OF HIV DIAGNOSES HIV DIAGNOSES PER 100,000 POPULATION  \\\n3450                            14                                  7.4   \n\n     TOTAL NUMBER OF CONCURRENT HIV/AIDS DIAGNOSES  \\\n3450                                             1   \n\n     PROPORTION OF CONCURRENT HIV/AIDS DIAGNOSES AMONG ALL HIV DIAGNOSES  \\\n3450                                                7.1                    \n\n     TOTAL NUMBER OF AIDS DIAGNOSES AIDS DIAGNOSES PER 100,000 POPULATION  \n3450                              5                                   2.7  ",
      "text/html": "<div>\n<style scoped>\n    .dataframe tbody tr th:only-of-type {\n        vertical-align: middle;\n    }\n\n    .dataframe tbody tr th {\n        vertical-align: top;\n    }\n\n    .dataframe thead th {\n        text-align: right;\n    }\n</style>\n<table border=\"1\" class=\"dataframe\">\n  <thead>\n    <tr style=\"text-align: right;\">\n      <th></th>\n      <th>YEAR</th>\n      <th>Borough</th>\n      <th>Neighborhood (U.H.F)</th>\n      <th>SEX</th>\n      <th>RACE/ETHNICITY</th>\n      <th>TOTAL NUMBER OF HIV DIAGNOSES</th>\n      <th>HIV DIAGNOSES PER 100,000 POPULATION</th>\n      <th>TOTAL NUMBER OF CONCURRENT HIV/AIDS DIAGNOSES</th>\n      <th>PROPORTION OF CONCURRENT HIV/AIDS DIAGNOSES AMONG ALL HIV DIAGNOSES</th>\n      <th>TOTAL NUMBER OF AIDS DIAGNOSES</th>\n      <th>AIDS DIAGNOSES PER 100,000 POPULATION</th>\n    </tr>\n  </thead>\n  <tbody>\n    <tr>\n      <th>3450</th>\n      <td>2016</td>\n      <td>Manhattan</td>\n      <td>Upper East Side</td>\n      <td>All</td>\n      <td>All</td>\n      <td>14</td>\n      <td>7.4</td>\n      <td>1</td>\n      <td>7.1</td>\n      <td>5</td>\n      <td>2.7</td>\n    </tr>\n  </tbody>\n</table>\n</div>"
     },
     "metadata": {},
     "output_type": "display_data"
    },
    {
     "data": {
      "text/plain": "    YEAR Borough      Neighborhood (U.H.F)     SEX RACE/ETHNICITY  \\\n77  2010     NaN  Hunts Point - Mott Haven  Female            All   \n\n   TOTAL NUMBER OF HIV DIAGNOSES HIV DIAGNOSES PER 100,000 POPULATION  \\\n77                            29                                 40.3   \n\n   TOTAL NUMBER OF CONCURRENT HIV/AIDS DIAGNOSES  \\\n77                                             7   \n\n   PROPORTION OF CONCURRENT HIV/AIDS DIAGNOSES AMONG ALL HIV DIAGNOSES  \\\n77                                               24.1                    \n\n   TOTAL NUMBER OF AIDS DIAGNOSES AIDS DIAGNOSES PER 100,000 POPULATION  \n77                             24                                  33.4  ",
      "text/html": "<div>\n<style scoped>\n    .dataframe tbody tr th:only-of-type {\n        vertical-align: middle;\n    }\n\n    .dataframe tbody tr th {\n        vertical-align: top;\n    }\n\n    .dataframe thead th {\n        text-align: right;\n    }\n</style>\n<table border=\"1\" class=\"dataframe\">\n  <thead>\n    <tr style=\"text-align: right;\">\n      <th></th>\n      <th>YEAR</th>\n      <th>Borough</th>\n      <th>Neighborhood (U.H.F)</th>\n      <th>SEX</th>\n      <th>RACE/ETHNICITY</th>\n      <th>TOTAL NUMBER OF HIV DIAGNOSES</th>\n      <th>HIV DIAGNOSES PER 100,000 POPULATION</th>\n      <th>TOTAL NUMBER OF CONCURRENT HIV/AIDS DIAGNOSES</th>\n      <th>PROPORTION OF CONCURRENT HIV/AIDS DIAGNOSES AMONG ALL HIV DIAGNOSES</th>\n      <th>TOTAL NUMBER OF AIDS DIAGNOSES</th>\n      <th>AIDS DIAGNOSES PER 100,000 POPULATION</th>\n    </tr>\n  </thead>\n  <tbody>\n    <tr>\n      <th>77</th>\n      <td>2010</td>\n      <td>NaN</td>\n      <td>Hunts Point - Mott Haven</td>\n      <td>Female</td>\n      <td>All</td>\n      <td>29</td>\n      <td>40.3</td>\n      <td>7</td>\n      <td>24.1</td>\n      <td>24</td>\n      <td>33.4</td>\n    </tr>\n  </tbody>\n</table>\n</div>"
     },
     "metadata": {},
     "output_type": "display_data"
    },
    {
     "data": {
      "text/plain": "      YEAR   Borough       Neighborhood (U.H.F)  SEX RACE/ETHNICITY  \\\n3217  2016  Brooklyn  East Flatbush -\\nFlatbush  All            All   \n\n     TOTAL NUMBER OF HIV DIAGNOSES HIV DIAGNOSES PER 100,000 POPULATION  \\\n3217                            88                                 34.9   \n\n     TOTAL NUMBER OF CONCURRENT HIV/AIDS DIAGNOSES  \\\n3217                                            20   \n\n     PROPORTION OF CONCURRENT HIV/AIDS DIAGNOSES AMONG ALL HIV DIAGNOSES  \\\n3217                                               22.7                    \n\n     TOTAL NUMBER OF AIDS DIAGNOSES AIDS DIAGNOSES PER 100,000 POPULATION  \n3217                             55                                  21.8  ",
      "text/html": "<div>\n<style scoped>\n    .dataframe tbody tr th:only-of-type {\n        vertical-align: middle;\n    }\n\n    .dataframe tbody tr th {\n        vertical-align: top;\n    }\n\n    .dataframe thead th {\n        text-align: right;\n    }\n</style>\n<table border=\"1\" class=\"dataframe\">\n  <thead>\n    <tr style=\"text-align: right;\">\n      <th></th>\n      <th>YEAR</th>\n      <th>Borough</th>\n      <th>Neighborhood (U.H.F)</th>\n      <th>SEX</th>\n      <th>RACE/ETHNICITY</th>\n      <th>TOTAL NUMBER OF HIV DIAGNOSES</th>\n      <th>HIV DIAGNOSES PER 100,000 POPULATION</th>\n      <th>TOTAL NUMBER OF CONCURRENT HIV/AIDS DIAGNOSES</th>\n      <th>PROPORTION OF CONCURRENT HIV/AIDS DIAGNOSES AMONG ALL HIV DIAGNOSES</th>\n      <th>TOTAL NUMBER OF AIDS DIAGNOSES</th>\n      <th>AIDS DIAGNOSES PER 100,000 POPULATION</th>\n    </tr>\n  </thead>\n  <tbody>\n    <tr>\n      <th>3217</th>\n      <td>2016</td>\n      <td>Brooklyn</td>\n      <td>East Flatbush -\\nFlatbush</td>\n      <td>All</td>\n      <td>All</td>\n      <td>88</td>\n      <td>34.9</td>\n      <td>20</td>\n      <td>22.7</td>\n      <td>55</td>\n      <td>21.8</td>\n    </tr>\n  </tbody>\n</table>\n</div>"
     },
     "metadata": {},
     "output_type": "display_data"
    },
    {
     "data": {
      "text/plain": "    YEAR Borough           Neighborhood (U.H.F)   SEX RACE/ETHNICITY  \\\n12  2012     NaN  Coney Island - Sheepshead Bay  Male    Multiracial   \n\n   TOTAL NUMBER OF HIV DIAGNOSES HIV DIAGNOSES PER 100,000 POPULATION  \\\n12                             0                                    0   \n\n   TOTAL NUMBER OF CONCURRENT HIV/AIDS DIAGNOSES  \\\n12                                             0   \n\n   PROPORTION OF CONCURRENT HIV/AIDS DIAGNOSES AMONG ALL HIV DIAGNOSES  \\\n12                                                  0                    \n\n   TOTAL NUMBER OF AIDS DIAGNOSES AIDS DIAGNOSES PER 100,000 POPULATION  \n12                              0                                     0  ",
      "text/html": "<div>\n<style scoped>\n    .dataframe tbody tr th:only-of-type {\n        vertical-align: middle;\n    }\n\n    .dataframe tbody tr th {\n        vertical-align: top;\n    }\n\n    .dataframe thead th {\n        text-align: right;\n    }\n</style>\n<table border=\"1\" class=\"dataframe\">\n  <thead>\n    <tr style=\"text-align: right;\">\n      <th></th>\n      <th>YEAR</th>\n      <th>Borough</th>\n      <th>Neighborhood (U.H.F)</th>\n      <th>SEX</th>\n      <th>RACE/ETHNICITY</th>\n      <th>TOTAL NUMBER OF HIV DIAGNOSES</th>\n      <th>HIV DIAGNOSES PER 100,000 POPULATION</th>\n      <th>TOTAL NUMBER OF CONCURRENT HIV/AIDS DIAGNOSES</th>\n      <th>PROPORTION OF CONCURRENT HIV/AIDS DIAGNOSES AMONG ALL HIV DIAGNOSES</th>\n      <th>TOTAL NUMBER OF AIDS DIAGNOSES</th>\n      <th>AIDS DIAGNOSES PER 100,000 POPULATION</th>\n    </tr>\n  </thead>\n  <tbody>\n    <tr>\n      <th>12</th>\n      <td>2012</td>\n      <td>NaN</td>\n      <td>Coney Island - Sheepshead Bay</td>\n      <td>Male</td>\n      <td>Multiracial</td>\n      <td>0</td>\n      <td>0</td>\n      <td>0</td>\n      <td>0</td>\n      <td>0</td>\n      <td>0</td>\n    </tr>\n  </tbody>\n</table>\n</div>"
     },
     "metadata": {},
     "output_type": "display_data"
    },
    {
     "data": {
      "text/plain": "   YEAR Borough  Neighborhood (U.H.F)   SEX RACE/ETHNICITY  \\\n8  2012     NaN  Fordham - Bronx Park  Male        Unknown   \n\n  TOTAL NUMBER OF HIV DIAGNOSES HIV DIAGNOSES PER 100,000 POPULATION  \\\n8                             0                                    0   \n\n  TOTAL NUMBER OF CONCURRENT HIV/AIDS DIAGNOSES  \\\n8                                             0   \n\n  PROPORTION OF CONCURRENT HIV/AIDS DIAGNOSES AMONG ALL HIV DIAGNOSES  \\\n8                                                  0                    \n\n  TOTAL NUMBER OF AIDS DIAGNOSES AIDS DIAGNOSES PER 100,000 POPULATION  \n8                              0                                     0  ",
      "text/html": "<div>\n<style scoped>\n    .dataframe tbody tr th:only-of-type {\n        vertical-align: middle;\n    }\n\n    .dataframe tbody tr th {\n        vertical-align: top;\n    }\n\n    .dataframe thead th {\n        text-align: right;\n    }\n</style>\n<table border=\"1\" class=\"dataframe\">\n  <thead>\n    <tr style=\"text-align: right;\">\n      <th></th>\n      <th>YEAR</th>\n      <th>Borough</th>\n      <th>Neighborhood (U.H.F)</th>\n      <th>SEX</th>\n      <th>RACE/ETHNICITY</th>\n      <th>TOTAL NUMBER OF HIV DIAGNOSES</th>\n      <th>HIV DIAGNOSES PER 100,000 POPULATION</th>\n      <th>TOTAL NUMBER OF CONCURRENT HIV/AIDS DIAGNOSES</th>\n      <th>PROPORTION OF CONCURRENT HIV/AIDS DIAGNOSES AMONG ALL HIV DIAGNOSES</th>\n      <th>TOTAL NUMBER OF AIDS DIAGNOSES</th>\n      <th>AIDS DIAGNOSES PER 100,000 POPULATION</th>\n    </tr>\n  </thead>\n  <tbody>\n    <tr>\n      <th>8</th>\n      <td>2012</td>\n      <td>NaN</td>\n      <td>Fordham - Bronx Park</td>\n      <td>Male</td>\n      <td>Unknown</td>\n      <td>0</td>\n      <td>0</td>\n      <td>0</td>\n      <td>0</td>\n      <td>0</td>\n      <td>0</td>\n    </tr>\n  </tbody>\n</table>\n</div>"
     },
     "metadata": {},
     "output_type": "display_data"
    },
    {
     "data": {
      "text/plain": "     YEAR Borough        Neighborhood (U.H.F)   SEX RACE/ETHNICITY  \\\n145  2013     NaN  Long Island City - Astoria  Male          Black   \n\n    TOTAL NUMBER OF HIV DIAGNOSES HIV DIAGNOSES PER 100,000 POPULATION  \\\n145                            13                                209.8   \n\n    TOTAL NUMBER OF CONCURRENT HIV/AIDS DIAGNOSES  \\\n145                                             1   \n\n    PROPORTION OF CONCURRENT HIV/AIDS DIAGNOSES AMONG ALL HIV DIAGNOSES  \\\n145                                                7.7                    \n\n    TOTAL NUMBER OF AIDS DIAGNOSES AIDS DIAGNOSES PER 100,000 POPULATION  \n145                              5                                  80.7  ",
      "text/html": "<div>\n<style scoped>\n    .dataframe tbody tr th:only-of-type {\n        vertical-align: middle;\n    }\n\n    .dataframe tbody tr th {\n        vertical-align: top;\n    }\n\n    .dataframe thead th {\n        text-align: right;\n    }\n</style>\n<table border=\"1\" class=\"dataframe\">\n  <thead>\n    <tr style=\"text-align: right;\">\n      <th></th>\n      <th>YEAR</th>\n      <th>Borough</th>\n      <th>Neighborhood (U.H.F)</th>\n      <th>SEX</th>\n      <th>RACE/ETHNICITY</th>\n      <th>TOTAL NUMBER OF HIV DIAGNOSES</th>\n      <th>HIV DIAGNOSES PER 100,000 POPULATION</th>\n      <th>TOTAL NUMBER OF CONCURRENT HIV/AIDS DIAGNOSES</th>\n      <th>PROPORTION OF CONCURRENT HIV/AIDS DIAGNOSES AMONG ALL HIV DIAGNOSES</th>\n      <th>TOTAL NUMBER OF AIDS DIAGNOSES</th>\n      <th>AIDS DIAGNOSES PER 100,000 POPULATION</th>\n    </tr>\n  </thead>\n  <tbody>\n    <tr>\n      <th>145</th>\n      <td>2013</td>\n      <td>NaN</td>\n      <td>Long Island City - Astoria</td>\n      <td>Male</td>\n      <td>Black</td>\n      <td>13</td>\n      <td>209.8</td>\n      <td>1</td>\n      <td>7.7</td>\n      <td>5</td>\n      <td>80.7</td>\n    </tr>\n  </tbody>\n</table>\n</div>"
     },
     "metadata": {},
     "output_type": "display_data"
    },
    {
     "data": {
      "text/plain": "      YEAR   Borough      Neighborhood (U.H.F)  SEX RACE/ETHNICITY  \\\n3288  2016  Brooklyn  Williamsburg -\\nBushwick  All            All   \n\n     TOTAL NUMBER OF HIV DIAGNOSES HIV DIAGNOSES PER 100,000 POPULATION  \\\n3288                            76                                 41.9   \n\n     TOTAL NUMBER OF CONCURRENT HIV/AIDS DIAGNOSES  \\\n3288                                             7   \n\n     PROPORTION OF CONCURRENT HIV/AIDS DIAGNOSES AMONG ALL HIV DIAGNOSES  \\\n3288                                                9.2                    \n\n     TOTAL NUMBER OF AIDS DIAGNOSES AIDS DIAGNOSES PER 100,000 POPULATION  \n3288                             41                                  22.6  ",
      "text/html": "<div>\n<style scoped>\n    .dataframe tbody tr th:only-of-type {\n        vertical-align: middle;\n    }\n\n    .dataframe tbody tr th {\n        vertical-align: top;\n    }\n\n    .dataframe thead th {\n        text-align: right;\n    }\n</style>\n<table border=\"1\" class=\"dataframe\">\n  <thead>\n    <tr style=\"text-align: right;\">\n      <th></th>\n      <th>YEAR</th>\n      <th>Borough</th>\n      <th>Neighborhood (U.H.F)</th>\n      <th>SEX</th>\n      <th>RACE/ETHNICITY</th>\n      <th>TOTAL NUMBER OF HIV DIAGNOSES</th>\n      <th>HIV DIAGNOSES PER 100,000 POPULATION</th>\n      <th>TOTAL NUMBER OF CONCURRENT HIV/AIDS DIAGNOSES</th>\n      <th>PROPORTION OF CONCURRENT HIV/AIDS DIAGNOSES AMONG ALL HIV DIAGNOSES</th>\n      <th>TOTAL NUMBER OF AIDS DIAGNOSES</th>\n      <th>AIDS DIAGNOSES PER 100,000 POPULATION</th>\n    </tr>\n  </thead>\n  <tbody>\n    <tr>\n      <th>3288</th>\n      <td>2016</td>\n      <td>Brooklyn</td>\n      <td>Williamsburg -\\nBushwick</td>\n      <td>All</td>\n      <td>All</td>\n      <td>76</td>\n      <td>41.9</td>\n      <td>7</td>\n      <td>9.2</td>\n      <td>41</td>\n      <td>22.6</td>\n    </tr>\n  </tbody>\n</table>\n</div>"
     },
     "metadata": {},
     "output_type": "display_data"
    },
    {
     "data": {
      "text/plain": "   YEAR Borough Neighborhood (U.H.F)     SEX RACE/ETHNICITY  \\\n3  2012     NaN       Upper Westside  Female        Unknown   \n\n  TOTAL NUMBER OF HIV DIAGNOSES HIV DIAGNOSES PER 100,000 POPULATION  \\\n3                             0                                    0   \n\n  TOTAL NUMBER OF CONCURRENT HIV/AIDS DIAGNOSES  \\\n3                                             0   \n\n  PROPORTION OF CONCURRENT HIV/AIDS DIAGNOSES AMONG ALL HIV DIAGNOSES  \\\n3                                                  0                    \n\n  TOTAL NUMBER OF AIDS DIAGNOSES AIDS DIAGNOSES PER 100,000 POPULATION  \n3                              0                                     0  ",
      "text/html": "<div>\n<style scoped>\n    .dataframe tbody tr th:only-of-type {\n        vertical-align: middle;\n    }\n\n    .dataframe tbody tr th {\n        vertical-align: top;\n    }\n\n    .dataframe thead th {\n        text-align: right;\n    }\n</style>\n<table border=\"1\" class=\"dataframe\">\n  <thead>\n    <tr style=\"text-align: right;\">\n      <th></th>\n      <th>YEAR</th>\n      <th>Borough</th>\n      <th>Neighborhood (U.H.F)</th>\n      <th>SEX</th>\n      <th>RACE/ETHNICITY</th>\n      <th>TOTAL NUMBER OF HIV DIAGNOSES</th>\n      <th>HIV DIAGNOSES PER 100,000 POPULATION</th>\n      <th>TOTAL NUMBER OF CONCURRENT HIV/AIDS DIAGNOSES</th>\n      <th>PROPORTION OF CONCURRENT HIV/AIDS DIAGNOSES AMONG ALL HIV DIAGNOSES</th>\n      <th>TOTAL NUMBER OF AIDS DIAGNOSES</th>\n      <th>AIDS DIAGNOSES PER 100,000 POPULATION</th>\n    </tr>\n  </thead>\n  <tbody>\n    <tr>\n      <th>3</th>\n      <td>2012</td>\n      <td>NaN</td>\n      <td>Upper Westside</td>\n      <td>Female</td>\n      <td>Unknown</td>\n      <td>0</td>\n      <td>0</td>\n      <td>0</td>\n      <td>0</td>\n      <td>0</td>\n      <td>0</td>\n    </tr>\n  </tbody>\n</table>\n</div>"
     },
     "metadata": {},
     "output_type": "display_data"
    },
    {
     "data": {
      "text/plain": "    YEAR Borough         Neighborhood (U.H.F)   SEX RACE/ETHNICITY  \\\n17  2013     NaN  Gramercy Park - Murray Hill  Male          Black   \n\n   TOTAL NUMBER OF HIV DIAGNOSES HIV DIAGNOSES PER 100,000 POPULATION  \\\n17                             5                                200.7   \n\n   TOTAL NUMBER OF CONCURRENT HIV/AIDS DIAGNOSES  \\\n17                                             1   \n\n   PROPORTION OF CONCURRENT HIV/AIDS DIAGNOSES AMONG ALL HIV DIAGNOSES  \\\n17                                                 20                    \n\n   TOTAL NUMBER OF AIDS DIAGNOSES AIDS DIAGNOSES PER 100,000 POPULATION  \n17                              5                                 200.7  ",
      "text/html": "<div>\n<style scoped>\n    .dataframe tbody tr th:only-of-type {\n        vertical-align: middle;\n    }\n\n    .dataframe tbody tr th {\n        vertical-align: top;\n    }\n\n    .dataframe thead th {\n        text-align: right;\n    }\n</style>\n<table border=\"1\" class=\"dataframe\">\n  <thead>\n    <tr style=\"text-align: right;\">\n      <th></th>\n      <th>YEAR</th>\n      <th>Borough</th>\n      <th>Neighborhood (U.H.F)</th>\n      <th>SEX</th>\n      <th>RACE/ETHNICITY</th>\n      <th>TOTAL NUMBER OF HIV DIAGNOSES</th>\n      <th>HIV DIAGNOSES PER 100,000 POPULATION</th>\n      <th>TOTAL NUMBER OF CONCURRENT HIV/AIDS DIAGNOSES</th>\n      <th>PROPORTION OF CONCURRENT HIV/AIDS DIAGNOSES AMONG ALL HIV DIAGNOSES</th>\n      <th>TOTAL NUMBER OF AIDS DIAGNOSES</th>\n      <th>AIDS DIAGNOSES PER 100,000 POPULATION</th>\n    </tr>\n  </thead>\n  <tbody>\n    <tr>\n      <th>17</th>\n      <td>2013</td>\n      <td>NaN</td>\n      <td>Gramercy Park - Murray Hill</td>\n      <td>Male</td>\n      <td>Black</td>\n      <td>5</td>\n      <td>200.7</td>\n      <td>1</td>\n      <td>20</td>\n      <td>5</td>\n      <td>200.7</td>\n    </tr>\n  </tbody>\n</table>\n</div>"
     },
     "metadata": {},
     "output_type": "display_data"
    },
    {
     "data": {
      "text/plain": "   YEAR Borough Neighborhood (U.H.F)   SEX RACE/ETHNICITY  \\\n0  2010     NaN           Greenpoint  Male          Black   \n\n  TOTAL NUMBER OF HIV DIAGNOSES HIV DIAGNOSES PER 100,000 POPULATION  \\\n0                             6                                330.4   \n\n  TOTAL NUMBER OF CONCURRENT HIV/AIDS DIAGNOSES  \\\n0                                             0   \n\n  PROPORTION OF CONCURRENT HIV/AIDS DIAGNOSES AMONG ALL HIV DIAGNOSES  \\\n0                                                  0                    \n\n  TOTAL NUMBER OF AIDS DIAGNOSES AIDS DIAGNOSES PER 100,000 POPULATION  \n0                              5                                 275.3  ",
      "text/html": "<div>\n<style scoped>\n    .dataframe tbody tr th:only-of-type {\n        vertical-align: middle;\n    }\n\n    .dataframe tbody tr th {\n        vertical-align: top;\n    }\n\n    .dataframe thead th {\n        text-align: right;\n    }\n</style>\n<table border=\"1\" class=\"dataframe\">\n  <thead>\n    <tr style=\"text-align: right;\">\n      <th></th>\n      <th>YEAR</th>\n      <th>Borough</th>\n      <th>Neighborhood (U.H.F)</th>\n      <th>SEX</th>\n      <th>RACE/ETHNICITY</th>\n      <th>TOTAL NUMBER OF HIV DIAGNOSES</th>\n      <th>HIV DIAGNOSES PER 100,000 POPULATION</th>\n      <th>TOTAL NUMBER OF CONCURRENT HIV/AIDS DIAGNOSES</th>\n      <th>PROPORTION OF CONCURRENT HIV/AIDS DIAGNOSES AMONG ALL HIV DIAGNOSES</th>\n      <th>TOTAL NUMBER OF AIDS DIAGNOSES</th>\n      <th>AIDS DIAGNOSES PER 100,000 POPULATION</th>\n    </tr>\n  </thead>\n  <tbody>\n    <tr>\n      <th>0</th>\n      <td>2010</td>\n      <td>NaN</td>\n      <td>Greenpoint</td>\n      <td>Male</td>\n      <td>Black</td>\n      <td>6</td>\n      <td>330.4</td>\n      <td>0</td>\n      <td>0</td>\n      <td>5</td>\n      <td>275.3</td>\n    </tr>\n  </tbody>\n</table>\n</div>"
     },
     "metadata": {},
     "output_type": "display_data"
    },
    {
     "data": {
      "text/plain": "      YEAR    Borough          Neighborhood (U.H.F)  SEX RACE/ETHNICITY  \\\n3486  2016  Manhattan  Washington Heights -\\nInwood  All            All   \n\n     TOTAL NUMBER OF HIV DIAGNOSES HIV DIAGNOSES PER 100,000 POPULATION  \\\n3486                            81                                 34.6   \n\n     TOTAL NUMBER OF CONCURRENT HIV/AIDS DIAGNOSES  \\\n3486                                             8   \n\n     PROPORTION OF CONCURRENT HIV/AIDS DIAGNOSES AMONG ALL HIV DIAGNOSES  \\\n3486                                                9.9                    \n\n     TOTAL NUMBER OF AIDS DIAGNOSES AIDS DIAGNOSES PER 100,000 POPULATION  \n3486                             36                                  15.4  ",
      "text/html": "<div>\n<style scoped>\n    .dataframe tbody tr th:only-of-type {\n        vertical-align: middle;\n    }\n\n    .dataframe tbody tr th {\n        vertical-align: top;\n    }\n\n    .dataframe thead th {\n        text-align: right;\n    }\n</style>\n<table border=\"1\" class=\"dataframe\">\n  <thead>\n    <tr style=\"text-align: right;\">\n      <th></th>\n      <th>YEAR</th>\n      <th>Borough</th>\n      <th>Neighborhood (U.H.F)</th>\n      <th>SEX</th>\n      <th>RACE/ETHNICITY</th>\n      <th>TOTAL NUMBER OF HIV DIAGNOSES</th>\n      <th>HIV DIAGNOSES PER 100,000 POPULATION</th>\n      <th>TOTAL NUMBER OF CONCURRENT HIV/AIDS DIAGNOSES</th>\n      <th>PROPORTION OF CONCURRENT HIV/AIDS DIAGNOSES AMONG ALL HIV DIAGNOSES</th>\n      <th>TOTAL NUMBER OF AIDS DIAGNOSES</th>\n      <th>AIDS DIAGNOSES PER 100,000 POPULATION</th>\n    </tr>\n  </thead>\n  <tbody>\n    <tr>\n      <th>3486</th>\n      <td>2016</td>\n      <td>Manhattan</td>\n      <td>Washington Heights -\\nInwood</td>\n      <td>All</td>\n      <td>All</td>\n      <td>81</td>\n      <td>34.6</td>\n      <td>8</td>\n      <td>9.9</td>\n      <td>36</td>\n      <td>15.4</td>\n    </tr>\n  </tbody>\n</table>\n</div>"
     },
     "metadata": {},
     "output_type": "display_data"
    },
    {
     "data": {
      "text/plain": "    YEAR Borough      Neighborhood (U.H.F)   SEX RACE/ETHNICITY  \\\n32  2011     NaN  Greenwich Village - SoHo  Male        Unknown   \n\n   TOTAL NUMBER OF HIV DIAGNOSES HIV DIAGNOSES PER 100,000 POPULATION  \\\n32                             0                                    0   \n\n   TOTAL NUMBER OF CONCURRENT HIV/AIDS DIAGNOSES  \\\n32                                             0   \n\n   PROPORTION OF CONCURRENT HIV/AIDS DIAGNOSES AMONG ALL HIV DIAGNOSES  \\\n32                                                  0                    \n\n   TOTAL NUMBER OF AIDS DIAGNOSES AIDS DIAGNOSES PER 100,000 POPULATION  \n32                              0                                     0  ",
      "text/html": "<div>\n<style scoped>\n    .dataframe tbody tr th:only-of-type {\n        vertical-align: middle;\n    }\n\n    .dataframe tbody tr th {\n        vertical-align: top;\n    }\n\n    .dataframe thead th {\n        text-align: right;\n    }\n</style>\n<table border=\"1\" class=\"dataframe\">\n  <thead>\n    <tr style=\"text-align: right;\">\n      <th></th>\n      <th>YEAR</th>\n      <th>Borough</th>\n      <th>Neighborhood (U.H.F)</th>\n      <th>SEX</th>\n      <th>RACE/ETHNICITY</th>\n      <th>TOTAL NUMBER OF HIV DIAGNOSES</th>\n      <th>HIV DIAGNOSES PER 100,000 POPULATION</th>\n      <th>TOTAL NUMBER OF CONCURRENT HIV/AIDS DIAGNOSES</th>\n      <th>PROPORTION OF CONCURRENT HIV/AIDS DIAGNOSES AMONG ALL HIV DIAGNOSES</th>\n      <th>TOTAL NUMBER OF AIDS DIAGNOSES</th>\n      <th>AIDS DIAGNOSES PER 100,000 POPULATION</th>\n    </tr>\n  </thead>\n  <tbody>\n    <tr>\n      <th>32</th>\n      <td>2011</td>\n      <td>NaN</td>\n      <td>Greenwich Village - SoHo</td>\n      <td>Male</td>\n      <td>Unknown</td>\n      <td>0</td>\n      <td>0</td>\n      <td>0</td>\n      <td>0</td>\n      <td>0</td>\n      <td>0</td>\n    </tr>\n  </tbody>\n</table>\n</div>"
     },
     "metadata": {},
     "output_type": "display_data"
    },
    {
     "data": {
      "text/plain": "    YEAR Borough Neighborhood (U.H.F)     SEX RACE/ETHNICITY  \\\n38  2013     NaN          Sunset Park  Female    Multiracial   \n\n   TOTAL NUMBER OF HIV DIAGNOSES HIV DIAGNOSES PER 100,000 POPULATION  \\\n38                             0                                    0   \n\n   TOTAL NUMBER OF CONCURRENT HIV/AIDS DIAGNOSES  \\\n38                                             0   \n\n   PROPORTION OF CONCURRENT HIV/AIDS DIAGNOSES AMONG ALL HIV DIAGNOSES  \\\n38                                                  0                    \n\n   TOTAL NUMBER OF AIDS DIAGNOSES AIDS DIAGNOSES PER 100,000 POPULATION  \n38                              0                                     0  ",
      "text/html": "<div>\n<style scoped>\n    .dataframe tbody tr th:only-of-type {\n        vertical-align: middle;\n    }\n\n    .dataframe tbody tr th {\n        vertical-align: top;\n    }\n\n    .dataframe thead th {\n        text-align: right;\n    }\n</style>\n<table border=\"1\" class=\"dataframe\">\n  <thead>\n    <tr style=\"text-align: right;\">\n      <th></th>\n      <th>YEAR</th>\n      <th>Borough</th>\n      <th>Neighborhood (U.H.F)</th>\n      <th>SEX</th>\n      <th>RACE/ETHNICITY</th>\n      <th>TOTAL NUMBER OF HIV DIAGNOSES</th>\n      <th>HIV DIAGNOSES PER 100,000 POPULATION</th>\n      <th>TOTAL NUMBER OF CONCURRENT HIV/AIDS DIAGNOSES</th>\n      <th>PROPORTION OF CONCURRENT HIV/AIDS DIAGNOSES AMONG ALL HIV DIAGNOSES</th>\n      <th>TOTAL NUMBER OF AIDS DIAGNOSES</th>\n      <th>AIDS DIAGNOSES PER 100,000 POPULATION</th>\n    </tr>\n  </thead>\n  <tbody>\n    <tr>\n      <th>38</th>\n      <td>2013</td>\n      <td>NaN</td>\n      <td>Sunset Park</td>\n      <td>Female</td>\n      <td>Multiracial</td>\n      <td>0</td>\n      <td>0</td>\n      <td>0</td>\n      <td>0</td>\n      <td>0</td>\n      <td>0</td>\n    </tr>\n  </tbody>\n</table>\n</div>"
     },
     "metadata": {},
     "output_type": "display_data"
    },
    {
     "data": {
      "text/plain": "      YEAR    Borough                   Neighborhood (U.H.F)  SEX  \\\n3324  2016  Manhattan  Central Harlem -\\nMorningside Heights  All   \n\n     RACE/ETHNICITY TOTAL NUMBER OF HIV DIAGNOSES  \\\n3324            All                            81   \n\n     HIV DIAGNOSES PER 100,000 POPULATION  \\\n3324                                 51.5   \n\n     TOTAL NUMBER OF CONCURRENT HIV/AIDS DIAGNOSES  \\\n3324                                            16   \n\n     PROPORTION OF CONCURRENT HIV/AIDS DIAGNOSES AMONG ALL HIV DIAGNOSES  \\\n3324                                               19.8                    \n\n     TOTAL NUMBER OF AIDS DIAGNOSES AIDS DIAGNOSES PER 100,000 POPULATION  \n3324                             51                                  32.4  ",
      "text/html": "<div>\n<style scoped>\n    .dataframe tbody tr th:only-of-type {\n        vertical-align: middle;\n    }\n\n    .dataframe tbody tr th {\n        vertical-align: top;\n    }\n\n    .dataframe thead th {\n        text-align: right;\n    }\n</style>\n<table border=\"1\" class=\"dataframe\">\n  <thead>\n    <tr style=\"text-align: right;\">\n      <th></th>\n      <th>YEAR</th>\n      <th>Borough</th>\n      <th>Neighborhood (U.H.F)</th>\n      <th>SEX</th>\n      <th>RACE/ETHNICITY</th>\n      <th>TOTAL NUMBER OF HIV DIAGNOSES</th>\n      <th>HIV DIAGNOSES PER 100,000 POPULATION</th>\n      <th>TOTAL NUMBER OF CONCURRENT HIV/AIDS DIAGNOSES</th>\n      <th>PROPORTION OF CONCURRENT HIV/AIDS DIAGNOSES AMONG ALL HIV DIAGNOSES</th>\n      <th>TOTAL NUMBER OF AIDS DIAGNOSES</th>\n      <th>AIDS DIAGNOSES PER 100,000 POPULATION</th>\n    </tr>\n  </thead>\n  <tbody>\n    <tr>\n      <th>3324</th>\n      <td>2016</td>\n      <td>Manhattan</td>\n      <td>Central Harlem -\\nMorningside Heights</td>\n      <td>All</td>\n      <td>All</td>\n      <td>81</td>\n      <td>51.5</td>\n      <td>16</td>\n      <td>19.8</td>\n      <td>51</td>\n      <td>32.4</td>\n    </tr>\n  </tbody>\n</table>\n</div>"
     },
     "metadata": {},
     "output_type": "display_data"
    },
    {
     "data": {
      "text/plain": "      YEAR    Borough       Neighborhood (U.H.F)  SEX RACE/ETHNICITY  \\\n3396  2016  Manhattan  Greenwich Village -\\nSoho  All            All   \n\n     TOTAL NUMBER OF HIV DIAGNOSES HIV DIAGNOSES PER 100,000 POPULATION  \\\n3396                            25                                 33.6   \n\n     TOTAL NUMBER OF CONCURRENT HIV/AIDS DIAGNOSES  \\\n3396                                             2   \n\n     PROPORTION OF CONCURRENT HIV/AIDS DIAGNOSES AMONG ALL HIV DIAGNOSES  \\\n3396                                                  8                    \n\n     TOTAL NUMBER OF AIDS DIAGNOSES AIDS DIAGNOSES PER 100,000 POPULATION  \n3396                              9                                  12.1  ",
      "text/html": "<div>\n<style scoped>\n    .dataframe tbody tr th:only-of-type {\n        vertical-align: middle;\n    }\n\n    .dataframe tbody tr th {\n        vertical-align: top;\n    }\n\n    .dataframe thead th {\n        text-align: right;\n    }\n</style>\n<table border=\"1\" class=\"dataframe\">\n  <thead>\n    <tr style=\"text-align: right;\">\n      <th></th>\n      <th>YEAR</th>\n      <th>Borough</th>\n      <th>Neighborhood (U.H.F)</th>\n      <th>SEX</th>\n      <th>RACE/ETHNICITY</th>\n      <th>TOTAL NUMBER OF HIV DIAGNOSES</th>\n      <th>HIV DIAGNOSES PER 100,000 POPULATION</th>\n      <th>TOTAL NUMBER OF CONCURRENT HIV/AIDS DIAGNOSES</th>\n      <th>PROPORTION OF CONCURRENT HIV/AIDS DIAGNOSES AMONG ALL HIV DIAGNOSES</th>\n      <th>TOTAL NUMBER OF AIDS DIAGNOSES</th>\n      <th>AIDS DIAGNOSES PER 100,000 POPULATION</th>\n    </tr>\n  </thead>\n  <tbody>\n    <tr>\n      <th>3396</th>\n      <td>2016</td>\n      <td>Manhattan</td>\n      <td>Greenwich Village -\\nSoho</td>\n      <td>All</td>\n      <td>All</td>\n      <td>25</td>\n      <td>33.6</td>\n      <td>2</td>\n      <td>8</td>\n      <td>9</td>\n      <td>12.1</td>\n    </tr>\n  </tbody>\n</table>\n</div>"
     },
     "metadata": {},
     "output_type": "display_data"
    },
    {
     "data": {
      "text/plain": "      YEAR    Borough          Neighborhood (U.H.F)  SEX RACE/ETHNICITY  \\\n3378  2016  Manhattan  Gramercy Park -\\nMurray Hill  All            All   \n\n     TOTAL NUMBER OF HIV DIAGNOSES HIV DIAGNOSES PER 100,000 POPULATION  \\\n3378                            16                                 12.7   \n\n     TOTAL NUMBER OF CONCURRENT HIV/AIDS DIAGNOSES  \\\n3378                                             2   \n\n     PROPORTION OF CONCURRENT HIV/AIDS DIAGNOSES AMONG ALL HIV DIAGNOSES  \\\n3378                                               12.5                    \n\n     TOTAL NUMBER OF AIDS DIAGNOSES AIDS DIAGNOSES PER 100,000 POPULATION  \n3378                              9                                   7.1  ",
      "text/html": "<div>\n<style scoped>\n    .dataframe tbody tr th:only-of-type {\n        vertical-align: middle;\n    }\n\n    .dataframe tbody tr th {\n        vertical-align: top;\n    }\n\n    .dataframe thead th {\n        text-align: right;\n    }\n</style>\n<table border=\"1\" class=\"dataframe\">\n  <thead>\n    <tr style=\"text-align: right;\">\n      <th></th>\n      <th>YEAR</th>\n      <th>Borough</th>\n      <th>Neighborhood (U.H.F)</th>\n      <th>SEX</th>\n      <th>RACE/ETHNICITY</th>\n      <th>TOTAL NUMBER OF HIV DIAGNOSES</th>\n      <th>HIV DIAGNOSES PER 100,000 POPULATION</th>\n      <th>TOTAL NUMBER OF CONCURRENT HIV/AIDS DIAGNOSES</th>\n      <th>PROPORTION OF CONCURRENT HIV/AIDS DIAGNOSES AMONG ALL HIV DIAGNOSES</th>\n      <th>TOTAL NUMBER OF AIDS DIAGNOSES</th>\n      <th>AIDS DIAGNOSES PER 100,000 POPULATION</th>\n    </tr>\n  </thead>\n  <tbody>\n    <tr>\n      <th>3378</th>\n      <td>2016</td>\n      <td>Manhattan</td>\n      <td>Gramercy Park -\\nMurray Hill</td>\n      <td>All</td>\n      <td>All</td>\n      <td>16</td>\n      <td>12.7</td>\n      <td>2</td>\n      <td>12.5</td>\n      <td>9</td>\n      <td>7.1</td>\n    </tr>\n  </tbody>\n</table>\n</div>"
     },
     "metadata": {},
     "output_type": "display_data"
    },
    {
     "data": {
      "text/plain": "   YEAR Borough Neighborhood (U.H.F)   SEX RACE/ETHNICITY  \\\n2  2010     NaN     Southeast Queens  Male            All   \n\n  TOTAL NUMBER OF HIV DIAGNOSES HIV DIAGNOSES PER 100,000 POPULATION  \\\n2                            23                                 25.4   \n\n  TOTAL NUMBER OF CONCURRENT HIV/AIDS DIAGNOSES  \\\n2                                             5   \n\n  PROPORTION OF CONCURRENT HIV/AIDS DIAGNOSES AMONG ALL HIV DIAGNOSES  \\\n2                                               21.7                    \n\n  TOTAL NUMBER OF AIDS DIAGNOSES AIDS DIAGNOSES PER 100,000 POPULATION  \n2                             14                                  15.4  ",
      "text/html": "<div>\n<style scoped>\n    .dataframe tbody tr th:only-of-type {\n        vertical-align: middle;\n    }\n\n    .dataframe tbody tr th {\n        vertical-align: top;\n    }\n\n    .dataframe thead th {\n        text-align: right;\n    }\n</style>\n<table border=\"1\" class=\"dataframe\">\n  <thead>\n    <tr style=\"text-align: right;\">\n      <th></th>\n      <th>YEAR</th>\n      <th>Borough</th>\n      <th>Neighborhood (U.H.F)</th>\n      <th>SEX</th>\n      <th>RACE/ETHNICITY</th>\n      <th>TOTAL NUMBER OF HIV DIAGNOSES</th>\n      <th>HIV DIAGNOSES PER 100,000 POPULATION</th>\n      <th>TOTAL NUMBER OF CONCURRENT HIV/AIDS DIAGNOSES</th>\n      <th>PROPORTION OF CONCURRENT HIV/AIDS DIAGNOSES AMONG ALL HIV DIAGNOSES</th>\n      <th>TOTAL NUMBER OF AIDS DIAGNOSES</th>\n      <th>AIDS DIAGNOSES PER 100,000 POPULATION</th>\n    </tr>\n  </thead>\n  <tbody>\n    <tr>\n      <th>2</th>\n      <td>2010</td>\n      <td>NaN</td>\n      <td>Southeast Queens</td>\n      <td>Male</td>\n      <td>All</td>\n      <td>23</td>\n      <td>25.4</td>\n      <td>5</td>\n      <td>21.7</td>\n      <td>14</td>\n      <td>15.4</td>\n    </tr>\n  </tbody>\n</table>\n</div>"
     },
     "metadata": {},
     "output_type": "display_data"
    },
    {
     "data": {
      "text/plain": "    YEAR Borough     Neighborhood (U.H.F)     SEX   RACE/ETHNICITY  \\\n64  2013     NaN  Bensonhurst - Bay Ridge  Female  Native American   \n\n   TOTAL NUMBER OF HIV DIAGNOSES HIV DIAGNOSES PER 100,000 POPULATION  \\\n64                             0                                    0   \n\n   TOTAL NUMBER OF CONCURRENT HIV/AIDS DIAGNOSES  \\\n64                                             0   \n\n   PROPORTION OF CONCURRENT HIV/AIDS DIAGNOSES AMONG ALL HIV DIAGNOSES  \\\n64                                                  0                    \n\n   TOTAL NUMBER OF AIDS DIAGNOSES AIDS DIAGNOSES PER 100,000 POPULATION  \n64                              0                                     0  ",
      "text/html": "<div>\n<style scoped>\n    .dataframe tbody tr th:only-of-type {\n        vertical-align: middle;\n    }\n\n    .dataframe tbody tr th {\n        vertical-align: top;\n    }\n\n    .dataframe thead th {\n        text-align: right;\n    }\n</style>\n<table border=\"1\" class=\"dataframe\">\n  <thead>\n    <tr style=\"text-align: right;\">\n      <th></th>\n      <th>YEAR</th>\n      <th>Borough</th>\n      <th>Neighborhood (U.H.F)</th>\n      <th>SEX</th>\n      <th>RACE/ETHNICITY</th>\n      <th>TOTAL NUMBER OF HIV DIAGNOSES</th>\n      <th>HIV DIAGNOSES PER 100,000 POPULATION</th>\n      <th>TOTAL NUMBER OF CONCURRENT HIV/AIDS DIAGNOSES</th>\n      <th>PROPORTION OF CONCURRENT HIV/AIDS DIAGNOSES AMONG ALL HIV DIAGNOSES</th>\n      <th>TOTAL NUMBER OF AIDS DIAGNOSES</th>\n      <th>AIDS DIAGNOSES PER 100,000 POPULATION</th>\n    </tr>\n  </thead>\n  <tbody>\n    <tr>\n      <th>64</th>\n      <td>2013</td>\n      <td>NaN</td>\n      <td>Bensonhurst - Bay Ridge</td>\n      <td>Female</td>\n      <td>Native American</td>\n      <td>0</td>\n      <td>0</td>\n      <td>0</td>\n      <td>0</td>\n      <td>0</td>\n      <td>0</td>\n    </tr>\n  </tbody>\n</table>\n</div>"
     },
     "metadata": {},
     "output_type": "display_data"
    },
    {
     "data": {
      "text/plain": "    YEAR Borough Neighborhood (U.H.F)   SEX RACE/ETHNICITY  \\\n14  2013     NaN              Unknown  Male    Multiracial   \n\n   TOTAL NUMBER OF HIV DIAGNOSES HIV DIAGNOSES PER 100,000 POPULATION  \\\n14                             7                                  NaN   \n\n   TOTAL NUMBER OF CONCURRENT HIV/AIDS DIAGNOSES  \\\n14                                             0   \n\n   PROPORTION OF CONCURRENT HIV/AIDS DIAGNOSES AMONG ALL HIV DIAGNOSES  \\\n14                                                NaN                    \n\n   TOTAL NUMBER OF AIDS DIAGNOSES AIDS DIAGNOSES PER 100,000 POPULATION  \n14                              1                                   NaN  ",
      "text/html": "<div>\n<style scoped>\n    .dataframe tbody tr th:only-of-type {\n        vertical-align: middle;\n    }\n\n    .dataframe tbody tr th {\n        vertical-align: top;\n    }\n\n    .dataframe thead th {\n        text-align: right;\n    }\n</style>\n<table border=\"1\" class=\"dataframe\">\n  <thead>\n    <tr style=\"text-align: right;\">\n      <th></th>\n      <th>YEAR</th>\n      <th>Borough</th>\n      <th>Neighborhood (U.H.F)</th>\n      <th>SEX</th>\n      <th>RACE/ETHNICITY</th>\n      <th>TOTAL NUMBER OF HIV DIAGNOSES</th>\n      <th>HIV DIAGNOSES PER 100,000 POPULATION</th>\n      <th>TOTAL NUMBER OF CONCURRENT HIV/AIDS DIAGNOSES</th>\n      <th>PROPORTION OF CONCURRENT HIV/AIDS DIAGNOSES AMONG ALL HIV DIAGNOSES</th>\n      <th>TOTAL NUMBER OF AIDS DIAGNOSES</th>\n      <th>AIDS DIAGNOSES PER 100,000 POPULATION</th>\n    </tr>\n  </thead>\n  <tbody>\n    <tr>\n      <th>14</th>\n      <td>2013</td>\n      <td>NaN</td>\n      <td>Unknown</td>\n      <td>Male</td>\n      <td>Multiracial</td>\n      <td>7</td>\n      <td>NaN</td>\n      <td>0</td>\n      <td>NaN</td>\n      <td>1</td>\n      <td>NaN</td>\n    </tr>\n  </tbody>\n</table>\n</div>"
     },
     "metadata": {},
     "output_type": "display_data"
    },
    {
     "data": {
      "text/plain": "    YEAR Borough Neighborhood (U.H.F)   SEX RACE/ETHNICITY  \\\n25  2011     NaN         Borough Park  Male    Multiracial   \n\n   TOTAL NUMBER OF HIV DIAGNOSES HIV DIAGNOSES PER 100,000 POPULATION  \\\n25                             0                                    0   \n\n   TOTAL NUMBER OF CONCURRENT HIV/AIDS DIAGNOSES  \\\n25                                             0   \n\n   PROPORTION OF CONCURRENT HIV/AIDS DIAGNOSES AMONG ALL HIV DIAGNOSES  \\\n25                                                  0                    \n\n   TOTAL NUMBER OF AIDS DIAGNOSES AIDS DIAGNOSES PER 100,000 POPULATION  \n25                              0                                     0  ",
      "text/html": "<div>\n<style scoped>\n    .dataframe tbody tr th:only-of-type {\n        vertical-align: middle;\n    }\n\n    .dataframe tbody tr th {\n        vertical-align: top;\n    }\n\n    .dataframe thead th {\n        text-align: right;\n    }\n</style>\n<table border=\"1\" class=\"dataframe\">\n  <thead>\n    <tr style=\"text-align: right;\">\n      <th></th>\n      <th>YEAR</th>\n      <th>Borough</th>\n      <th>Neighborhood (U.H.F)</th>\n      <th>SEX</th>\n      <th>RACE/ETHNICITY</th>\n      <th>TOTAL NUMBER OF HIV DIAGNOSES</th>\n      <th>HIV DIAGNOSES PER 100,000 POPULATION</th>\n      <th>TOTAL NUMBER OF CONCURRENT HIV/AIDS DIAGNOSES</th>\n      <th>PROPORTION OF CONCURRENT HIV/AIDS DIAGNOSES AMONG ALL HIV DIAGNOSES</th>\n      <th>TOTAL NUMBER OF AIDS DIAGNOSES</th>\n      <th>AIDS DIAGNOSES PER 100,000 POPULATION</th>\n    </tr>\n  </thead>\n  <tbody>\n    <tr>\n      <th>25</th>\n      <td>2011</td>\n      <td>NaN</td>\n      <td>Borough Park</td>\n      <td>Male</td>\n      <td>Multiracial</td>\n      <td>0</td>\n      <td>0</td>\n      <td>0</td>\n      <td>0</td>\n      <td>0</td>\n      <td>0</td>\n    </tr>\n  </tbody>\n</table>\n</div>"
     },
     "metadata": {},
     "output_type": "display_data"
    },
    {
     "data": {
      "text/plain": "   YEAR Borough Neighborhood (U.H.F)   SEX RACE/ETHNICITY  \\\n4  2013     NaN          Willowbrook  Male        Unknown   \n\n  TOTAL NUMBER OF HIV DIAGNOSES HIV DIAGNOSES PER 100,000 POPULATION  \\\n4                             0                                    0   \n\n  TOTAL NUMBER OF CONCURRENT HIV/AIDS DIAGNOSES  \\\n4                                             0   \n\n  PROPORTION OF CONCURRENT HIV/AIDS DIAGNOSES AMONG ALL HIV DIAGNOSES  \\\n4                                                  0                    \n\n  TOTAL NUMBER OF AIDS DIAGNOSES AIDS DIAGNOSES PER 100,000 POPULATION  \n4                              0                                     0  ",
      "text/html": "<div>\n<style scoped>\n    .dataframe tbody tr th:only-of-type {\n        vertical-align: middle;\n    }\n\n    .dataframe tbody tr th {\n        vertical-align: top;\n    }\n\n    .dataframe thead th {\n        text-align: right;\n    }\n</style>\n<table border=\"1\" class=\"dataframe\">\n  <thead>\n    <tr style=\"text-align: right;\">\n      <th></th>\n      <th>YEAR</th>\n      <th>Borough</th>\n      <th>Neighborhood (U.H.F)</th>\n      <th>SEX</th>\n      <th>RACE/ETHNICITY</th>\n      <th>TOTAL NUMBER OF HIV DIAGNOSES</th>\n      <th>HIV DIAGNOSES PER 100,000 POPULATION</th>\n      <th>TOTAL NUMBER OF CONCURRENT HIV/AIDS DIAGNOSES</th>\n      <th>PROPORTION OF CONCURRENT HIV/AIDS DIAGNOSES AMONG ALL HIV DIAGNOSES</th>\n      <th>TOTAL NUMBER OF AIDS DIAGNOSES</th>\n      <th>AIDS DIAGNOSES PER 100,000 POPULATION</th>\n    </tr>\n  </thead>\n  <tbody>\n    <tr>\n      <th>4</th>\n      <td>2013</td>\n      <td>NaN</td>\n      <td>Willowbrook</td>\n      <td>Male</td>\n      <td>Unknown</td>\n      <td>0</td>\n      <td>0</td>\n      <td>0</td>\n      <td>0</td>\n      <td>0</td>\n      <td>0</td>\n    </tr>\n  </tbody>\n</table>\n</div>"
     },
     "metadata": {},
     "output_type": "display_data"
    },
    {
     "data": {
      "text/plain": "    YEAR Borough Neighborhood (U.H.F)   SEX   RACE/ETHNICITY  \\\n43  2011     NaN          West Queens  Male  Native American   \n\n   TOTAL NUMBER OF HIV DIAGNOSES HIV DIAGNOSES PER 100,000 POPULATION  \\\n43                             0                                    0   \n\n   TOTAL NUMBER OF CONCURRENT HIV/AIDS DIAGNOSES  \\\n43                                             0   \n\n   PROPORTION OF CONCURRENT HIV/AIDS DIAGNOSES AMONG ALL HIV DIAGNOSES  \\\n43                                                  0                    \n\n   TOTAL NUMBER OF AIDS DIAGNOSES AIDS DIAGNOSES PER 100,000 POPULATION  \n43                              0                                     0  ",
      "text/html": "<div>\n<style scoped>\n    .dataframe tbody tr th:only-of-type {\n        vertical-align: middle;\n    }\n\n    .dataframe tbody tr th {\n        vertical-align: top;\n    }\n\n    .dataframe thead th {\n        text-align: right;\n    }\n</style>\n<table border=\"1\" class=\"dataframe\">\n  <thead>\n    <tr style=\"text-align: right;\">\n      <th></th>\n      <th>YEAR</th>\n      <th>Borough</th>\n      <th>Neighborhood (U.H.F)</th>\n      <th>SEX</th>\n      <th>RACE/ETHNICITY</th>\n      <th>TOTAL NUMBER OF HIV DIAGNOSES</th>\n      <th>HIV DIAGNOSES PER 100,000 POPULATION</th>\n      <th>TOTAL NUMBER OF CONCURRENT HIV/AIDS DIAGNOSES</th>\n      <th>PROPORTION OF CONCURRENT HIV/AIDS DIAGNOSES AMONG ALL HIV DIAGNOSES</th>\n      <th>TOTAL NUMBER OF AIDS DIAGNOSES</th>\n      <th>AIDS DIAGNOSES PER 100,000 POPULATION</th>\n    </tr>\n  </thead>\n  <tbody>\n    <tr>\n      <th>43</th>\n      <td>2011</td>\n      <td>NaN</td>\n      <td>West Queens</td>\n      <td>Male</td>\n      <td>Native American</td>\n      <td>0</td>\n      <td>0</td>\n      <td>0</td>\n      <td>0</td>\n      <td>0</td>\n      <td>0</td>\n    </tr>\n  </tbody>\n</table>\n</div>"
     },
     "metadata": {},
     "output_type": "display_data"
    },
    {
     "data": {
      "text/plain": "   YEAR Borough    Neighborhood (U.H.F)     SEX   RACE/ETHNICITY  \\\n1  2011     NaN  Stapleton - St. George  Female  Native American   \n\n  TOTAL NUMBER OF HIV DIAGNOSES HIV DIAGNOSES PER 100,000 POPULATION  \\\n1                             0                                    0   \n\n  TOTAL NUMBER OF CONCURRENT HIV/AIDS DIAGNOSES  \\\n1                                             0   \n\n  PROPORTION OF CONCURRENT HIV/AIDS DIAGNOSES AMONG ALL HIV DIAGNOSES  \\\n1                                                  0                    \n\n  TOTAL NUMBER OF AIDS DIAGNOSES AIDS DIAGNOSES PER 100,000 POPULATION  \n1                              0                                     0  ",
      "text/html": "<div>\n<style scoped>\n    .dataframe tbody tr th:only-of-type {\n        vertical-align: middle;\n    }\n\n    .dataframe tbody tr th {\n        vertical-align: top;\n    }\n\n    .dataframe thead th {\n        text-align: right;\n    }\n</style>\n<table border=\"1\" class=\"dataframe\">\n  <thead>\n    <tr style=\"text-align: right;\">\n      <th></th>\n      <th>YEAR</th>\n      <th>Borough</th>\n      <th>Neighborhood (U.H.F)</th>\n      <th>SEX</th>\n      <th>RACE/ETHNICITY</th>\n      <th>TOTAL NUMBER OF HIV DIAGNOSES</th>\n      <th>HIV DIAGNOSES PER 100,000 POPULATION</th>\n      <th>TOTAL NUMBER OF CONCURRENT HIV/AIDS DIAGNOSES</th>\n      <th>PROPORTION OF CONCURRENT HIV/AIDS DIAGNOSES AMONG ALL HIV DIAGNOSES</th>\n      <th>TOTAL NUMBER OF AIDS DIAGNOSES</th>\n      <th>AIDS DIAGNOSES PER 100,000 POPULATION</th>\n    </tr>\n  </thead>\n  <tbody>\n    <tr>\n      <th>1</th>\n      <td>2011</td>\n      <td>NaN</td>\n      <td>Stapleton - St. George</td>\n      <td>Female</td>\n      <td>Native American</td>\n      <td>0</td>\n      <td>0</td>\n      <td>0</td>\n      <td>0</td>\n      <td>0</td>\n      <td>0</td>\n    </tr>\n  </tbody>\n</table>\n</div>"
     },
     "metadata": {},
     "output_type": "display_data"
    },
    {
     "data": {
      "text/plain": "    YEAR Borough      Neighborhood (U.H.F)   SEX RACE/ETHNICITY  \\\n57  2011     NaN  High Bridge - Morrisania  Male          Black   \n\n   TOTAL NUMBER OF HIV DIAGNOSES HIV DIAGNOSES PER 100,000 POPULATION  \\\n57                            34                                  102   \n\n   TOTAL NUMBER OF CONCURRENT HIV/AIDS DIAGNOSES  \\\n57                                             9   \n\n   PROPORTION OF CONCURRENT HIV/AIDS DIAGNOSES AMONG ALL HIV DIAGNOSES  \\\n57                                               26.5                    \n\n   TOTAL NUMBER OF AIDS DIAGNOSES AIDS DIAGNOSES PER 100,000 POPULATION  \n57                             35                                   105  ",
      "text/html": "<div>\n<style scoped>\n    .dataframe tbody tr th:only-of-type {\n        vertical-align: middle;\n    }\n\n    .dataframe tbody tr th {\n        vertical-align: top;\n    }\n\n    .dataframe thead th {\n        text-align: right;\n    }\n</style>\n<table border=\"1\" class=\"dataframe\">\n  <thead>\n    <tr style=\"text-align: right;\">\n      <th></th>\n      <th>YEAR</th>\n      <th>Borough</th>\n      <th>Neighborhood (U.H.F)</th>\n      <th>SEX</th>\n      <th>RACE/ETHNICITY</th>\n      <th>TOTAL NUMBER OF HIV DIAGNOSES</th>\n      <th>HIV DIAGNOSES PER 100,000 POPULATION</th>\n      <th>TOTAL NUMBER OF CONCURRENT HIV/AIDS DIAGNOSES</th>\n      <th>PROPORTION OF CONCURRENT HIV/AIDS DIAGNOSES AMONG ALL HIV DIAGNOSES</th>\n      <th>TOTAL NUMBER OF AIDS DIAGNOSES</th>\n      <th>AIDS DIAGNOSES PER 100,000 POPULATION</th>\n    </tr>\n  </thead>\n  <tbody>\n    <tr>\n      <th>57</th>\n      <td>2011</td>\n      <td>NaN</td>\n      <td>High Bridge - Morrisania</td>\n      <td>Male</td>\n      <td>Black</td>\n      <td>34</td>\n      <td>102</td>\n      <td>9</td>\n      <td>26.5</td>\n      <td>35</td>\n      <td>105</td>\n    </tr>\n  </tbody>\n</table>\n</div>"
     },
     "metadata": {},
     "output_type": "display_data"
    },
    {
     "data": {
      "text/plain": "    YEAR Borough Neighborhood (U.H.F)   SEX RACE/ETHNICITY  \\\n75  2013     NaN       Upper Eastside  Male          White   \n\n   TOTAL NUMBER OF HIV DIAGNOSES HIV DIAGNOSES PER 100,000 POPULATION  \\\n75                            14                                 17.7   \n\n   TOTAL NUMBER OF CONCURRENT HIV/AIDS DIAGNOSES  \\\n75                                             3   \n\n   PROPORTION OF CONCURRENT HIV/AIDS DIAGNOSES AMONG ALL HIV DIAGNOSES  \\\n75                                               21.4                    \n\n   TOTAL NUMBER OF AIDS DIAGNOSES AIDS DIAGNOSES PER 100,000 POPULATION  \n75                              5                                   6.3  ",
      "text/html": "<div>\n<style scoped>\n    .dataframe tbody tr th:only-of-type {\n        vertical-align: middle;\n    }\n\n    .dataframe tbody tr th {\n        vertical-align: top;\n    }\n\n    .dataframe thead th {\n        text-align: right;\n    }\n</style>\n<table border=\"1\" class=\"dataframe\">\n  <thead>\n    <tr style=\"text-align: right;\">\n      <th></th>\n      <th>YEAR</th>\n      <th>Borough</th>\n      <th>Neighborhood (U.H.F)</th>\n      <th>SEX</th>\n      <th>RACE/ETHNICITY</th>\n      <th>TOTAL NUMBER OF HIV DIAGNOSES</th>\n      <th>HIV DIAGNOSES PER 100,000 POPULATION</th>\n      <th>TOTAL NUMBER OF CONCURRENT HIV/AIDS DIAGNOSES</th>\n      <th>PROPORTION OF CONCURRENT HIV/AIDS DIAGNOSES AMONG ALL HIV DIAGNOSES</th>\n      <th>TOTAL NUMBER OF AIDS DIAGNOSES</th>\n      <th>AIDS DIAGNOSES PER 100,000 POPULATION</th>\n    </tr>\n  </thead>\n  <tbody>\n    <tr>\n      <th>75</th>\n      <td>2013</td>\n      <td>NaN</td>\n      <td>Upper Eastside</td>\n      <td>Male</td>\n      <td>White</td>\n      <td>14</td>\n      <td>17.7</td>\n      <td>3</td>\n      <td>21.4</td>\n      <td>5</td>\n      <td>6.3</td>\n    </tr>\n  </tbody>\n</table>\n</div>"
     },
     "metadata": {},
     "output_type": "display_data"
    },
    {
     "data": {
      "text/plain": "     YEAR Borough Neighborhood (U.H.F)     SEX   RACE/ETHNICITY  \\\n136  2013     NaN             Rockaway  Female  Native American   \n\n    TOTAL NUMBER OF HIV DIAGNOSES HIV DIAGNOSES PER 100,000 POPULATION  \\\n136                             0                                    0   \n\n    TOTAL NUMBER OF CONCURRENT HIV/AIDS DIAGNOSES  \\\n136                                             0   \n\n    PROPORTION OF CONCURRENT HIV/AIDS DIAGNOSES AMONG ALL HIV DIAGNOSES  \\\n136                                                  0                    \n\n    TOTAL NUMBER OF AIDS DIAGNOSES AIDS DIAGNOSES PER 100,000 POPULATION  \n136                              0                                     0  ",
      "text/html": "<div>\n<style scoped>\n    .dataframe tbody tr th:only-of-type {\n        vertical-align: middle;\n    }\n\n    .dataframe tbody tr th {\n        vertical-align: top;\n    }\n\n    .dataframe thead th {\n        text-align: right;\n    }\n</style>\n<table border=\"1\" class=\"dataframe\">\n  <thead>\n    <tr style=\"text-align: right;\">\n      <th></th>\n      <th>YEAR</th>\n      <th>Borough</th>\n      <th>Neighborhood (U.H.F)</th>\n      <th>SEX</th>\n      <th>RACE/ETHNICITY</th>\n      <th>TOTAL NUMBER OF HIV DIAGNOSES</th>\n      <th>HIV DIAGNOSES PER 100,000 POPULATION</th>\n      <th>TOTAL NUMBER OF CONCURRENT HIV/AIDS DIAGNOSES</th>\n      <th>PROPORTION OF CONCURRENT HIV/AIDS DIAGNOSES AMONG ALL HIV DIAGNOSES</th>\n      <th>TOTAL NUMBER OF AIDS DIAGNOSES</th>\n      <th>AIDS DIAGNOSES PER 100,000 POPULATION</th>\n    </tr>\n  </thead>\n  <tbody>\n    <tr>\n      <th>136</th>\n      <td>2013</td>\n      <td>NaN</td>\n      <td>Rockaway</td>\n      <td>Female</td>\n      <td>Native American</td>\n      <td>0</td>\n      <td>0</td>\n      <td>0</td>\n      <td>0</td>\n      <td>0</td>\n      <td>0</td>\n    </tr>\n  </tbody>\n</table>\n</div>"
     },
     "metadata": {},
     "output_type": "display_data"
    },
    {
     "data": {
      "text/plain": "      YEAR   Borough      Neighborhood (U.H.F)  SEX RACE/ETHNICITY  \\\n3126  2016  Brooklyn  Bensonhurst - Bay\\nRidge  All            All   \n\n     TOTAL NUMBER OF HIV DIAGNOSES HIV DIAGNOSES PER 100,000 POPULATION  \\\n3126                            13                                  7.5   \n\n     TOTAL NUMBER OF CONCURRENT HIV/AIDS DIAGNOSES  \\\n3126                                             2   \n\n     PROPORTION OF CONCURRENT HIV/AIDS DIAGNOSES AMONG ALL HIV DIAGNOSES  \\\n3126                                               15.4                    \n\n     TOTAL NUMBER OF AIDS DIAGNOSES AIDS DIAGNOSES PER 100,000 POPULATION  \n3126                             11                                   6.3  ",
      "text/html": "<div>\n<style scoped>\n    .dataframe tbody tr th:only-of-type {\n        vertical-align: middle;\n    }\n\n    .dataframe tbody tr th {\n        vertical-align: top;\n    }\n\n    .dataframe thead th {\n        text-align: right;\n    }\n</style>\n<table border=\"1\" class=\"dataframe\">\n  <thead>\n    <tr style=\"text-align: right;\">\n      <th></th>\n      <th>YEAR</th>\n      <th>Borough</th>\n      <th>Neighborhood (U.H.F)</th>\n      <th>SEX</th>\n      <th>RACE/ETHNICITY</th>\n      <th>TOTAL NUMBER OF HIV DIAGNOSES</th>\n      <th>HIV DIAGNOSES PER 100,000 POPULATION</th>\n      <th>TOTAL NUMBER OF CONCURRENT HIV/AIDS DIAGNOSES</th>\n      <th>PROPORTION OF CONCURRENT HIV/AIDS DIAGNOSES AMONG ALL HIV DIAGNOSES</th>\n      <th>TOTAL NUMBER OF AIDS DIAGNOSES</th>\n      <th>AIDS DIAGNOSES PER 100,000 POPULATION</th>\n    </tr>\n  </thead>\n  <tbody>\n    <tr>\n      <th>3126</th>\n      <td>2016</td>\n      <td>Brooklyn</td>\n      <td>Bensonhurst - Bay\\nRidge</td>\n      <td>All</td>\n      <td>All</td>\n      <td>13</td>\n      <td>7.5</td>\n      <td>2</td>\n      <td>15.4</td>\n      <td>11</td>\n      <td>6.3</td>\n    </tr>\n  </tbody>\n</table>\n</div>"
     },
     "metadata": {},
     "output_type": "display_data"
    },
    {
     "data": {
      "text/plain": "    YEAR Borough Neighborhood (U.H.F)     SEX RACE/ETHNICITY  \\\n28  2013     NaN        Port Richmond  Female            All   \n\n   TOTAL NUMBER OF HIV DIAGNOSES HIV DIAGNOSES PER 100,000 POPULATION  \\\n28                             5                                 13.6   \n\n   TOTAL NUMBER OF CONCURRENT HIV/AIDS DIAGNOSES  \\\n28                                             1   \n\n   PROPORTION OF CONCURRENT HIV/AIDS DIAGNOSES AMONG ALL HIV DIAGNOSES  \\\n28                                                 20                    \n\n   TOTAL NUMBER OF AIDS DIAGNOSES AIDS DIAGNOSES PER 100,000 POPULATION  \n28                              4                                  10.9  ",
      "text/html": "<div>\n<style scoped>\n    .dataframe tbody tr th:only-of-type {\n        vertical-align: middle;\n    }\n\n    .dataframe tbody tr th {\n        vertical-align: top;\n    }\n\n    .dataframe thead th {\n        text-align: right;\n    }\n</style>\n<table border=\"1\" class=\"dataframe\">\n  <thead>\n    <tr style=\"text-align: right;\">\n      <th></th>\n      <th>YEAR</th>\n      <th>Borough</th>\n      <th>Neighborhood (U.H.F)</th>\n      <th>SEX</th>\n      <th>RACE/ETHNICITY</th>\n      <th>TOTAL NUMBER OF HIV DIAGNOSES</th>\n      <th>HIV DIAGNOSES PER 100,000 POPULATION</th>\n      <th>TOTAL NUMBER OF CONCURRENT HIV/AIDS DIAGNOSES</th>\n      <th>PROPORTION OF CONCURRENT HIV/AIDS DIAGNOSES AMONG ALL HIV DIAGNOSES</th>\n      <th>TOTAL NUMBER OF AIDS DIAGNOSES</th>\n      <th>AIDS DIAGNOSES PER 100,000 POPULATION</th>\n    </tr>\n  </thead>\n  <tbody>\n    <tr>\n      <th>28</th>\n      <td>2013</td>\n      <td>NaN</td>\n      <td>Port Richmond</td>\n      <td>Female</td>\n      <td>All</td>\n      <td>5</td>\n      <td>13.6</td>\n      <td>1</td>\n      <td>20</td>\n      <td>4</td>\n      <td>10.9</td>\n    </tr>\n  </tbody>\n</table>\n</div>"
     },
     "metadata": {},
     "output_type": "display_data"
    },
    {
     "data": {
      "text/plain": "    YEAR Borough Neighborhood (U.H.F)   SEX RACE/ETHNICITY  \\\n33  2011     NaN        East New York  Male            All   \n\n   TOTAL NUMBER OF HIV DIAGNOSES HIV DIAGNOSES PER 100,000 POPULATION  \\\n33                            59                                 68.1   \n\n   TOTAL NUMBER OF CONCURRENT HIV/AIDS DIAGNOSES  \\\n33                                            19   \n\n   PROPORTION OF CONCURRENT HIV/AIDS DIAGNOSES AMONG ALL HIV DIAGNOSES  \\\n33                                               32.2                    \n\n   TOTAL NUMBER OF AIDS DIAGNOSES AIDS DIAGNOSES PER 100,000 POPULATION  \n33                             55                                  63.5  ",
      "text/html": "<div>\n<style scoped>\n    .dataframe tbody tr th:only-of-type {\n        vertical-align: middle;\n    }\n\n    .dataframe tbody tr th {\n        vertical-align: top;\n    }\n\n    .dataframe thead th {\n        text-align: right;\n    }\n</style>\n<table border=\"1\" class=\"dataframe\">\n  <thead>\n    <tr style=\"text-align: right;\">\n      <th></th>\n      <th>YEAR</th>\n      <th>Borough</th>\n      <th>Neighborhood (U.H.F)</th>\n      <th>SEX</th>\n      <th>RACE/ETHNICITY</th>\n      <th>TOTAL NUMBER OF HIV DIAGNOSES</th>\n      <th>HIV DIAGNOSES PER 100,000 POPULATION</th>\n      <th>TOTAL NUMBER OF CONCURRENT HIV/AIDS DIAGNOSES</th>\n      <th>PROPORTION OF CONCURRENT HIV/AIDS DIAGNOSES AMONG ALL HIV DIAGNOSES</th>\n      <th>TOTAL NUMBER OF AIDS DIAGNOSES</th>\n      <th>AIDS DIAGNOSES PER 100,000 POPULATION</th>\n    </tr>\n  </thead>\n  <tbody>\n    <tr>\n      <th>33</th>\n      <td>2011</td>\n      <td>NaN</td>\n      <td>East New York</td>\n      <td>Male</td>\n      <td>All</td>\n      <td>59</td>\n      <td>68.1</td>\n      <td>19</td>\n      <td>32.2</td>\n      <td>55</td>\n      <td>63.5</td>\n    </tr>\n  </tbody>\n</table>\n</div>"
     },
     "metadata": {},
     "output_type": "display_data"
    },
    {
     "data": {
      "text/plain": "     YEAR Borough     Neighborhood (U.H.F)     SEX RACE/ETHNICITY  \\\n127  2010     NaN  Williamsburg - Bushwick  Female          White   \n\n    TOTAL NUMBER OF HIV DIAGNOSES HIV DIAGNOSES PER 100,000 POPULATION  \\\n127                             0                                    0   \n\n    TOTAL NUMBER OF CONCURRENT HIV/AIDS DIAGNOSES  \\\n127                                             0   \n\n    PROPORTION OF CONCURRENT HIV/AIDS DIAGNOSES AMONG ALL HIV DIAGNOSES  \\\n127                                                  0                    \n\n    TOTAL NUMBER OF AIDS DIAGNOSES AIDS DIAGNOSES PER 100,000 POPULATION  \n127                              0                                     0  ",
      "text/html": "<div>\n<style scoped>\n    .dataframe tbody tr th:only-of-type {\n        vertical-align: middle;\n    }\n\n    .dataframe tbody tr th {\n        vertical-align: top;\n    }\n\n    .dataframe thead th {\n        text-align: right;\n    }\n</style>\n<table border=\"1\" class=\"dataframe\">\n  <thead>\n    <tr style=\"text-align: right;\">\n      <th></th>\n      <th>YEAR</th>\n      <th>Borough</th>\n      <th>Neighborhood (U.H.F)</th>\n      <th>SEX</th>\n      <th>RACE/ETHNICITY</th>\n      <th>TOTAL NUMBER OF HIV DIAGNOSES</th>\n      <th>HIV DIAGNOSES PER 100,000 POPULATION</th>\n      <th>TOTAL NUMBER OF CONCURRENT HIV/AIDS DIAGNOSES</th>\n      <th>PROPORTION OF CONCURRENT HIV/AIDS DIAGNOSES AMONG ALL HIV DIAGNOSES</th>\n      <th>TOTAL NUMBER OF AIDS DIAGNOSES</th>\n      <th>AIDS DIAGNOSES PER 100,000 POPULATION</th>\n    </tr>\n  </thead>\n  <tbody>\n    <tr>\n      <th>127</th>\n      <td>2010</td>\n      <td>NaN</td>\n      <td>Williamsburg - Bushwick</td>\n      <td>Female</td>\n      <td>White</td>\n      <td>0</td>\n      <td>0</td>\n      <td>0</td>\n      <td>0</td>\n      <td>0</td>\n      <td>0</td>\n    </tr>\n  </tbody>\n</table>\n</div>"
     },
     "metadata": {},
     "output_type": "display_data"
    },
    {
     "data": {
      "text/plain": "   YEAR Borough  Neighborhood (U.H.F)  SEX RACE/ETHNICITY  \\\n9  2010     NaN  Flushing - Clearview  All            All   \n\n  TOTAL NUMBER OF HIV DIAGNOSES HIV DIAGNOSES PER 100,000 POPULATION  \\\n9                            14                                  5.4   \n\n  TOTAL NUMBER OF CONCURRENT HIV/AIDS DIAGNOSES  \\\n9                                             5   \n\n  PROPORTION OF CONCURRENT HIV/AIDS DIAGNOSES AMONG ALL HIV DIAGNOSES  \\\n9                                               35.7                    \n\n  TOTAL NUMBER OF AIDS DIAGNOSES AIDS DIAGNOSES PER 100,000 POPULATION  \n9                             12                                   4.6  ",
      "text/html": "<div>\n<style scoped>\n    .dataframe tbody tr th:only-of-type {\n        vertical-align: middle;\n    }\n\n    .dataframe tbody tr th {\n        vertical-align: top;\n    }\n\n    .dataframe thead th {\n        text-align: right;\n    }\n</style>\n<table border=\"1\" class=\"dataframe\">\n  <thead>\n    <tr style=\"text-align: right;\">\n      <th></th>\n      <th>YEAR</th>\n      <th>Borough</th>\n      <th>Neighborhood (U.H.F)</th>\n      <th>SEX</th>\n      <th>RACE/ETHNICITY</th>\n      <th>TOTAL NUMBER OF HIV DIAGNOSES</th>\n      <th>HIV DIAGNOSES PER 100,000 POPULATION</th>\n      <th>TOTAL NUMBER OF CONCURRENT HIV/AIDS DIAGNOSES</th>\n      <th>PROPORTION OF CONCURRENT HIV/AIDS DIAGNOSES AMONG ALL HIV DIAGNOSES</th>\n      <th>TOTAL NUMBER OF AIDS DIAGNOSES</th>\n      <th>AIDS DIAGNOSES PER 100,000 POPULATION</th>\n    </tr>\n  </thead>\n  <tbody>\n    <tr>\n      <th>9</th>\n      <td>2010</td>\n      <td>NaN</td>\n      <td>Flushing - Clearview</td>\n      <td>All</td>\n      <td>All</td>\n      <td>14</td>\n      <td>5.4</td>\n      <td>5</td>\n      <td>35.7</td>\n      <td>12</td>\n      <td>4.6</td>\n    </tr>\n  </tbody>\n</table>\n</div>"
     },
     "metadata": {},
     "output_type": "display_data"
    },
    {
     "data": {
      "text/plain": "      YEAR         Borough     Neighborhood (U.H.F)  SEX RACE/ETHNICITY  \\\n3756  2016  Staten\\nIsland  Stapleton - St.\\nGeorge  All            All   \n\n     TOTAL NUMBER OF HIV DIAGNOSES HIV DIAGNOSES PER 100,000 POPULATION  \\\n3756                            25                                 24.3   \n\n     TOTAL NUMBER OF CONCURRENT HIV/AIDS DIAGNOSES  \\\n3756                                             5   \n\n     PROPORTION OF CONCURRENT HIV/AIDS DIAGNOSES AMONG ALL HIV DIAGNOSES  \\\n3756                                                 20                    \n\n     TOTAL NUMBER OF AIDS DIAGNOSES AIDS DIAGNOSES PER 100,000 POPULATION  \n3756                             17                                  16.5  ",
      "text/html": "<div>\n<style scoped>\n    .dataframe tbody tr th:only-of-type {\n        vertical-align: middle;\n    }\n\n    .dataframe tbody tr th {\n        vertical-align: top;\n    }\n\n    .dataframe thead th {\n        text-align: right;\n    }\n</style>\n<table border=\"1\" class=\"dataframe\">\n  <thead>\n    <tr style=\"text-align: right;\">\n      <th></th>\n      <th>YEAR</th>\n      <th>Borough</th>\n      <th>Neighborhood (U.H.F)</th>\n      <th>SEX</th>\n      <th>RACE/ETHNICITY</th>\n      <th>TOTAL NUMBER OF HIV DIAGNOSES</th>\n      <th>HIV DIAGNOSES PER 100,000 POPULATION</th>\n      <th>TOTAL NUMBER OF CONCURRENT HIV/AIDS DIAGNOSES</th>\n      <th>PROPORTION OF CONCURRENT HIV/AIDS DIAGNOSES AMONG ALL HIV DIAGNOSES</th>\n      <th>TOTAL NUMBER OF AIDS DIAGNOSES</th>\n      <th>AIDS DIAGNOSES PER 100,000 POPULATION</th>\n    </tr>\n  </thead>\n  <tbody>\n    <tr>\n      <th>3756</th>\n      <td>2016</td>\n      <td>Staten\\nIsland</td>\n      <td>Stapleton - St.\\nGeorge</td>\n      <td>All</td>\n      <td>All</td>\n      <td>25</td>\n      <td>24.3</td>\n      <td>5</td>\n      <td>20</td>\n      <td>17</td>\n      <td>16.5</td>\n    </tr>\n  </tbody>\n</table>\n</div>"
     },
     "metadata": {},
     "output_type": "display_data"
    },
    {
     "data": {
      "text/plain": "    YEAR Borough  Neighborhood (U.H.F)     SEX RACE/ETHNICITY  \\\n35  2011     NaN  Pelham - Throgs Neck  Female       Hispanic   \n\n   TOTAL NUMBER OF HIV DIAGNOSES HIV DIAGNOSES PER 100,000 POPULATION  \\\n35                            14                                 17.5   \n\n   TOTAL NUMBER OF CONCURRENT HIV/AIDS DIAGNOSES  \\\n35                                             3   \n\n   PROPORTION OF CONCURRENT HIV/AIDS DIAGNOSES AMONG ALL HIV DIAGNOSES  \\\n35                                               21.4                    \n\n   TOTAL NUMBER OF AIDS DIAGNOSES AIDS DIAGNOSES PER 100,000 POPULATION  \n35                             13                                  16.3  ",
      "text/html": "<div>\n<style scoped>\n    .dataframe tbody tr th:only-of-type {\n        vertical-align: middle;\n    }\n\n    .dataframe tbody tr th {\n        vertical-align: top;\n    }\n\n    .dataframe thead th {\n        text-align: right;\n    }\n</style>\n<table border=\"1\" class=\"dataframe\">\n  <thead>\n    <tr style=\"text-align: right;\">\n      <th></th>\n      <th>YEAR</th>\n      <th>Borough</th>\n      <th>Neighborhood (U.H.F)</th>\n      <th>SEX</th>\n      <th>RACE/ETHNICITY</th>\n      <th>TOTAL NUMBER OF HIV DIAGNOSES</th>\n      <th>HIV DIAGNOSES PER 100,000 POPULATION</th>\n      <th>TOTAL NUMBER OF CONCURRENT HIV/AIDS DIAGNOSES</th>\n      <th>PROPORTION OF CONCURRENT HIV/AIDS DIAGNOSES AMONG ALL HIV DIAGNOSES</th>\n      <th>TOTAL NUMBER OF AIDS DIAGNOSES</th>\n      <th>AIDS DIAGNOSES PER 100,000 POPULATION</th>\n    </tr>\n  </thead>\n  <tbody>\n    <tr>\n      <th>35</th>\n      <td>2011</td>\n      <td>NaN</td>\n      <td>Pelham - Throgs Neck</td>\n      <td>Female</td>\n      <td>Hispanic</td>\n      <td>14</td>\n      <td>17.5</td>\n      <td>3</td>\n      <td>21.4</td>\n      <td>13</td>\n      <td>16.3</td>\n    </tr>\n  </tbody>\n</table>\n</div>"
     },
     "metadata": {},
     "output_type": "display_data"
    },
    {
     "data": {
      "text/plain": "      YEAR   Borough            Neighborhood (U.H.F)  SEX RACE/ETHNICITY  \\\n3180  2016  Brooklyn  Coney Island -\\nSheepshead Bay  All            All   \n\n     TOTAL NUMBER OF HIV DIAGNOSES HIV DIAGNOSES PER 100,000 POPULATION  \\\n3180                            28                                 11.4   \n\n     TOTAL NUMBER OF CONCURRENT HIV/AIDS DIAGNOSES  \\\n3180                                             9   \n\n     PROPORTION OF CONCURRENT HIV/AIDS DIAGNOSES AMONG ALL HIV DIAGNOSES  \\\n3180                                               32.1                    \n\n     TOTAL NUMBER OF AIDS DIAGNOSES AIDS DIAGNOSES PER 100,000 POPULATION  \n3180                             17                                   6.9  ",
      "text/html": "<div>\n<style scoped>\n    .dataframe tbody tr th:only-of-type {\n        vertical-align: middle;\n    }\n\n    .dataframe tbody tr th {\n        vertical-align: top;\n    }\n\n    .dataframe thead th {\n        text-align: right;\n    }\n</style>\n<table border=\"1\" class=\"dataframe\">\n  <thead>\n    <tr style=\"text-align: right;\">\n      <th></th>\n      <th>YEAR</th>\n      <th>Borough</th>\n      <th>Neighborhood (U.H.F)</th>\n      <th>SEX</th>\n      <th>RACE/ETHNICITY</th>\n      <th>TOTAL NUMBER OF HIV DIAGNOSES</th>\n      <th>HIV DIAGNOSES PER 100,000 POPULATION</th>\n      <th>TOTAL NUMBER OF CONCURRENT HIV/AIDS DIAGNOSES</th>\n      <th>PROPORTION OF CONCURRENT HIV/AIDS DIAGNOSES AMONG ALL HIV DIAGNOSES</th>\n      <th>TOTAL NUMBER OF AIDS DIAGNOSES</th>\n      <th>AIDS DIAGNOSES PER 100,000 POPULATION</th>\n    </tr>\n  </thead>\n  <tbody>\n    <tr>\n      <th>3180</th>\n      <td>2016</td>\n      <td>Brooklyn</td>\n      <td>Coney Island -\\nSheepshead Bay</td>\n      <td>All</td>\n      <td>All</td>\n      <td>28</td>\n      <td>11.4</td>\n      <td>9</td>\n      <td>32.1</td>\n      <td>17</td>\n      <td>6.9</td>\n    </tr>\n  </tbody>\n</table>\n</div>"
     },
     "metadata": {},
     "output_type": "display_data"
    },
    {
     "data": {
      "text/plain": "      YEAR    Borough Neighborhood (U.H.F)  SEX RACE/ETHNICITY  \\\n3468  2016  Manhattan      Upper West Side  All            All   \n\n     TOTAL NUMBER OF HIV DIAGNOSES HIV DIAGNOSES PER 100,000 POPULATION  \\\n3468                            27                                   14   \n\n     TOTAL NUMBER OF CONCURRENT HIV/AIDS DIAGNOSES  \\\n3468                                             5   \n\n     PROPORTION OF CONCURRENT HIV/AIDS DIAGNOSES AMONG ALL HIV DIAGNOSES  \\\n3468                                               18.5                    \n\n     TOTAL NUMBER OF AIDS DIAGNOSES AIDS DIAGNOSES PER 100,000 POPULATION  \n3468                             20                                  10.4  ",
      "text/html": "<div>\n<style scoped>\n    .dataframe tbody tr th:only-of-type {\n        vertical-align: middle;\n    }\n\n    .dataframe tbody tr th {\n        vertical-align: top;\n    }\n\n    .dataframe thead th {\n        text-align: right;\n    }\n</style>\n<table border=\"1\" class=\"dataframe\">\n  <thead>\n    <tr style=\"text-align: right;\">\n      <th></th>\n      <th>YEAR</th>\n      <th>Borough</th>\n      <th>Neighborhood (U.H.F)</th>\n      <th>SEX</th>\n      <th>RACE/ETHNICITY</th>\n      <th>TOTAL NUMBER OF HIV DIAGNOSES</th>\n      <th>HIV DIAGNOSES PER 100,000 POPULATION</th>\n      <th>TOTAL NUMBER OF CONCURRENT HIV/AIDS DIAGNOSES</th>\n      <th>PROPORTION OF CONCURRENT HIV/AIDS DIAGNOSES AMONG ALL HIV DIAGNOSES</th>\n      <th>TOTAL NUMBER OF AIDS DIAGNOSES</th>\n      <th>AIDS DIAGNOSES PER 100,000 POPULATION</th>\n    </tr>\n  </thead>\n  <tbody>\n    <tr>\n      <th>3468</th>\n      <td>2016</td>\n      <td>Manhattan</td>\n      <td>Upper West Side</td>\n      <td>All</td>\n      <td>All</td>\n      <td>27</td>\n      <td>14</td>\n      <td>5</td>\n      <td>18.5</td>\n      <td>20</td>\n      <td>10.4</td>\n    </tr>\n  </tbody>\n</table>\n</div>"
     },
     "metadata": {},
     "output_type": "display_data"
    },
    {
     "data": {
      "text/plain": "      YEAR Borough       Neighborhood (U.H.F)  SEX RACE/ETHNICITY  \\\n3018  2016   Bronx  Hunts Point - Mott\\nHaven  All            All   \n\n     TOTAL NUMBER OF HIV DIAGNOSES HIV DIAGNOSES PER 100,000 POPULATION  \\\n3018                            68                                 60.8   \n\n     TOTAL NUMBER OF CONCURRENT HIV/AIDS DIAGNOSES  \\\n3018                                             9   \n\n     PROPORTION OF CONCURRENT HIV/AIDS DIAGNOSES AMONG ALL HIV DIAGNOSES  \\\n3018                                               13.2                    \n\n     TOTAL NUMBER OF AIDS DIAGNOSES AIDS DIAGNOSES PER 100,000 POPULATION  \n3018                             45                                  40.2  ",
      "text/html": "<div>\n<style scoped>\n    .dataframe tbody tr th:only-of-type {\n        vertical-align: middle;\n    }\n\n    .dataframe tbody tr th {\n        vertical-align: top;\n    }\n\n    .dataframe thead th {\n        text-align: right;\n    }\n</style>\n<table border=\"1\" class=\"dataframe\">\n  <thead>\n    <tr style=\"text-align: right;\">\n      <th></th>\n      <th>YEAR</th>\n      <th>Borough</th>\n      <th>Neighborhood (U.H.F)</th>\n      <th>SEX</th>\n      <th>RACE/ETHNICITY</th>\n      <th>TOTAL NUMBER OF HIV DIAGNOSES</th>\n      <th>HIV DIAGNOSES PER 100,000 POPULATION</th>\n      <th>TOTAL NUMBER OF CONCURRENT HIV/AIDS DIAGNOSES</th>\n      <th>PROPORTION OF CONCURRENT HIV/AIDS DIAGNOSES AMONG ALL HIV DIAGNOSES</th>\n      <th>TOTAL NUMBER OF AIDS DIAGNOSES</th>\n      <th>AIDS DIAGNOSES PER 100,000 POPULATION</th>\n    </tr>\n  </thead>\n  <tbody>\n    <tr>\n      <th>3018</th>\n      <td>2016</td>\n      <td>Bronx</td>\n      <td>Hunts Point - Mott\\nHaven</td>\n      <td>All</td>\n      <td>All</td>\n      <td>68</td>\n      <td>60.8</td>\n      <td>9</td>\n      <td>13.2</td>\n      <td>45</td>\n      <td>40.2</td>\n    </tr>\n  </tbody>\n</table>\n</div>"
     },
     "metadata": {},
     "output_type": "display_data"
    },
    {
     "data": {
      "text/plain": "    YEAR Borough             Neighborhood (U.H.F)   SEX RACE/ETHNICITY  \\\n34  2013     NaN  Downtown - Heights - Park Slope  Male    Multiracial   \n\n   TOTAL NUMBER OF HIV DIAGNOSES HIV DIAGNOSES PER 100,000 POPULATION  \\\n34                             0                                    0   \n\n   TOTAL NUMBER OF CONCURRENT HIV/AIDS DIAGNOSES  \\\n34                                             0   \n\n   PROPORTION OF CONCURRENT HIV/AIDS DIAGNOSES AMONG ALL HIV DIAGNOSES  \\\n34                                                  0                    \n\n   TOTAL NUMBER OF AIDS DIAGNOSES AIDS DIAGNOSES PER 100,000 POPULATION  \n34                              0                                     0  ",
      "text/html": "<div>\n<style scoped>\n    .dataframe tbody tr th:only-of-type {\n        vertical-align: middle;\n    }\n\n    .dataframe tbody tr th {\n        vertical-align: top;\n    }\n\n    .dataframe thead th {\n        text-align: right;\n    }\n</style>\n<table border=\"1\" class=\"dataframe\">\n  <thead>\n    <tr style=\"text-align: right;\">\n      <th></th>\n      <th>YEAR</th>\n      <th>Borough</th>\n      <th>Neighborhood (U.H.F)</th>\n      <th>SEX</th>\n      <th>RACE/ETHNICITY</th>\n      <th>TOTAL NUMBER OF HIV DIAGNOSES</th>\n      <th>HIV DIAGNOSES PER 100,000 POPULATION</th>\n      <th>TOTAL NUMBER OF CONCURRENT HIV/AIDS DIAGNOSES</th>\n      <th>PROPORTION OF CONCURRENT HIV/AIDS DIAGNOSES AMONG ALL HIV DIAGNOSES</th>\n      <th>TOTAL NUMBER OF AIDS DIAGNOSES</th>\n      <th>AIDS DIAGNOSES PER 100,000 POPULATION</th>\n    </tr>\n  </thead>\n  <tbody>\n    <tr>\n      <th>34</th>\n      <td>2013</td>\n      <td>NaN</td>\n      <td>Downtown - Heights - Park Slope</td>\n      <td>Male</td>\n      <td>Multiracial</td>\n      <td>0</td>\n      <td>0</td>\n      <td>0</td>\n      <td>0</td>\n      <td>0</td>\n      <td>0</td>\n    </tr>\n  </tbody>\n</table>\n</div>"
     },
     "metadata": {},
     "output_type": "display_data"
    },
    {
     "data": {
      "text/plain": "    YEAR Borough                Neighborhood (U.H.F)     SEX RACE/ETHNICITY  \\\n47  2011     NaN  Bedford Stuyvesant - Crown Heights  Female       Hispanic   \n\n   TOTAL NUMBER OF HIV DIAGNOSES HIV DIAGNOSES PER 100,000 POPULATION  \\\n47                             4                                 17.6   \n\n   TOTAL NUMBER OF CONCURRENT HIV/AIDS DIAGNOSES  \\\n47                                             1   \n\n   PROPORTION OF CONCURRENT HIV/AIDS DIAGNOSES AMONG ALL HIV DIAGNOSES  \\\n47                                                 25                    \n\n   TOTAL NUMBER OF AIDS DIAGNOSES AIDS DIAGNOSES PER 100,000 POPULATION  \n47                              3                                  13.2  ",
      "text/html": "<div>\n<style scoped>\n    .dataframe tbody tr th:only-of-type {\n        vertical-align: middle;\n    }\n\n    .dataframe tbody tr th {\n        vertical-align: top;\n    }\n\n    .dataframe thead th {\n        text-align: right;\n    }\n</style>\n<table border=\"1\" class=\"dataframe\">\n  <thead>\n    <tr style=\"text-align: right;\">\n      <th></th>\n      <th>YEAR</th>\n      <th>Borough</th>\n      <th>Neighborhood (U.H.F)</th>\n      <th>SEX</th>\n      <th>RACE/ETHNICITY</th>\n      <th>TOTAL NUMBER OF HIV DIAGNOSES</th>\n      <th>HIV DIAGNOSES PER 100,000 POPULATION</th>\n      <th>TOTAL NUMBER OF CONCURRENT HIV/AIDS DIAGNOSES</th>\n      <th>PROPORTION OF CONCURRENT HIV/AIDS DIAGNOSES AMONG ALL HIV DIAGNOSES</th>\n      <th>TOTAL NUMBER OF AIDS DIAGNOSES</th>\n      <th>AIDS DIAGNOSES PER 100,000 POPULATION</th>\n    </tr>\n  </thead>\n  <tbody>\n    <tr>\n      <th>47</th>\n      <td>2011</td>\n      <td>NaN</td>\n      <td>Bedford Stuyvesant - Crown Heights</td>\n      <td>Female</td>\n      <td>Hispanic</td>\n      <td>4</td>\n      <td>17.6</td>\n      <td>1</td>\n      <td>25</td>\n      <td>3</td>\n      <td>13.2</td>\n    </tr>\n  </tbody>\n</table>\n</div>"
     },
     "metadata": {},
     "output_type": "display_data"
    },
    {
     "data": {
      "text/plain": "      YEAR   Borough                 Neighborhood (U.H.F)  SEX RACE/ETHNICITY  \\\n3108  2016  Brooklyn  Bedford Stuyvesant -\\nCrown Heights  All            All   \n\n     TOTAL NUMBER OF HIV DIAGNOSES HIV DIAGNOSES PER 100,000 POPULATION  \\\n3108                           170                                 60.1   \n\n     TOTAL NUMBER OF CONCURRENT HIV/AIDS DIAGNOSES  \\\n3108                                            36   \n\n     PROPORTION OF CONCURRENT HIV/AIDS DIAGNOSES AMONG ALL HIV DIAGNOSES  \\\n3108                                               21.2                    \n\n     TOTAL NUMBER OF AIDS DIAGNOSES AIDS DIAGNOSES PER 100,000 POPULATION  \n3108                             96                                  33.9  ",
      "text/html": "<div>\n<style scoped>\n    .dataframe tbody tr th:only-of-type {\n        vertical-align: middle;\n    }\n\n    .dataframe tbody tr th {\n        vertical-align: top;\n    }\n\n    .dataframe thead th {\n        text-align: right;\n    }\n</style>\n<table border=\"1\" class=\"dataframe\">\n  <thead>\n    <tr style=\"text-align: right;\">\n      <th></th>\n      <th>YEAR</th>\n      <th>Borough</th>\n      <th>Neighborhood (U.H.F)</th>\n      <th>SEX</th>\n      <th>RACE/ETHNICITY</th>\n      <th>TOTAL NUMBER OF HIV DIAGNOSES</th>\n      <th>HIV DIAGNOSES PER 100,000 POPULATION</th>\n      <th>TOTAL NUMBER OF CONCURRENT HIV/AIDS DIAGNOSES</th>\n      <th>PROPORTION OF CONCURRENT HIV/AIDS DIAGNOSES AMONG ALL HIV DIAGNOSES</th>\n      <th>TOTAL NUMBER OF AIDS DIAGNOSES</th>\n      <th>AIDS DIAGNOSES PER 100,000 POPULATION</th>\n    </tr>\n  </thead>\n  <tbody>\n    <tr>\n      <th>3108</th>\n      <td>2016</td>\n      <td>Brooklyn</td>\n      <td>Bedford Stuyvesant -\\nCrown Heights</td>\n      <td>All</td>\n      <td>All</td>\n      <td>170</td>\n      <td>60.1</td>\n      <td>36</td>\n      <td>21.2</td>\n      <td>96</td>\n      <td>33.9</td>\n    </tr>\n  </tbody>\n</table>\n</div>"
     },
     "metadata": {},
     "output_type": "display_data"
    },
    {
     "data": {
      "text/plain": "      YEAR Borough      Neighborhood (U.H.F)  SEX RACE/ETHNICITY  \\\n3036  2016   Bronx  Kingsbridge -\\nRiverdale  All            All   \n\n     TOTAL NUMBER OF HIV DIAGNOSES HIV DIAGNOSES PER 100,000 POPULATION  \\\n3036                            14                                 17.4   \n\n     TOTAL NUMBER OF CONCURRENT HIV/AIDS DIAGNOSES  \\\n3036                                             1   \n\n     PROPORTION OF CONCURRENT HIV/AIDS DIAGNOSES AMONG ALL HIV DIAGNOSES  \\\n3036                                                7.1                    \n\n     TOTAL NUMBER OF AIDS DIAGNOSES AIDS DIAGNOSES PER 100,000 POPULATION  \n3036                              3                                   3.7  ",
      "text/html": "<div>\n<style scoped>\n    .dataframe tbody tr th:only-of-type {\n        vertical-align: middle;\n    }\n\n    .dataframe tbody tr th {\n        vertical-align: top;\n    }\n\n    .dataframe thead th {\n        text-align: right;\n    }\n</style>\n<table border=\"1\" class=\"dataframe\">\n  <thead>\n    <tr style=\"text-align: right;\">\n      <th></th>\n      <th>YEAR</th>\n      <th>Borough</th>\n      <th>Neighborhood (U.H.F)</th>\n      <th>SEX</th>\n      <th>RACE/ETHNICITY</th>\n      <th>TOTAL NUMBER OF HIV DIAGNOSES</th>\n      <th>HIV DIAGNOSES PER 100,000 POPULATION</th>\n      <th>TOTAL NUMBER OF CONCURRENT HIV/AIDS DIAGNOSES</th>\n      <th>PROPORTION OF CONCURRENT HIV/AIDS DIAGNOSES AMONG ALL HIV DIAGNOSES</th>\n      <th>TOTAL NUMBER OF AIDS DIAGNOSES</th>\n      <th>AIDS DIAGNOSES PER 100,000 POPULATION</th>\n    </tr>\n  </thead>\n  <tbody>\n    <tr>\n      <th>3036</th>\n      <td>2016</td>\n      <td>Bronx</td>\n      <td>Kingsbridge -\\nRiverdale</td>\n      <td>All</td>\n      <td>All</td>\n      <td>14</td>\n      <td>17.4</td>\n      <td>1</td>\n      <td>7.1</td>\n      <td>3</td>\n      <td>3.7</td>\n    </tr>\n  </tbody>\n</table>\n</div>"
     },
     "metadata": {},
     "output_type": "display_data"
    }
   ],
   "source": [
    "item_list_col = list(set(df['Neighborhood (U.H.F)']))\n",
    "counter = []\n",
    "for items in item_list_col:\n",
    "    display(df[df['Neighborhood (U.H.F)'] == items].head(1))\n",
    "    counter.append(1)\n"
   ],
   "metadata": {
    "collapsed": false
   }
  },
  {
   "cell_type": "code",
   "execution_count": 126,
   "outputs": [
    {
     "data": {
      "text/plain": "66"
     },
     "execution_count": 126,
     "metadata": {},
     "output_type": "execute_result"
    }
   ],
   "source": [
    "len(counter)"
   ],
   "metadata": {
    "collapsed": false
   }
  },
  {
   "cell_type": "code",
   "execution_count": 129,
   "outputs": [
    {
     "data": {
      "text/plain": "66"
     },
     "execution_count": 129,
     "metadata": {},
     "output_type": "execute_result"
    }
   ],
   "source": [
    "len(set(df['Neighborhood (U.H.F)']))"
   ],
   "metadata": {
    "collapsed": false
   }
  },
  {
   "cell_type": "code",
   "execution_count": 13,
   "outputs": [
    {
     "data": {
      "text/plain": "   YEAR Borough   Neighborhood (U.H.F)     SEX  RACE/ETHNICITY  \\\n0  2010     NaN             greenpoint    Male           black   \n1  2011     NaN    stapleton-st.george  Female  nativeamerican   \n2  2010     NaN        southeastqueens    Male             all   \n3  2012     NaN          upperwestside  Female         unknown   \n4  2013     NaN            willowbrook    Male         unknown   \n5  2013     NaN  eastflatbush-flatbush    Male           black   \n6  2013     NaN  eastflatbush-flatbush  Female  nativeamerican   \n7  2013     NaN        southwestqueens  Female         unknown   \n8  2012     NaN      fordham-bronxpark    Male         unknown   \n9  2010     NaN     flushing-clearview     All             all   \n\n   TOTAL NUMBER OF HIV DIAGNOSES  HIV DIAGNOSES PER 100,000 POPULATION  \\\n0                            6.0                                 330.4   \n1                            0.0                                   0.0   \n2                           23.0                                  25.4   \n3                            0.0                                   0.0   \n4                            0.0                                   0.0   \n5                           54.0                                  56.5   \n6                            0.0                                   0.0   \n7                            0.0                                   0.0   \n8                            0.0                                   0.0   \n9                           14.0                                   5.4   \n\n   TOTAL NUMBER OF CONCURRENT HIV/AIDS DIAGNOSES  \\\n0                                            0.0   \n1                                            0.0   \n2                                            5.0   \n3                                            0.0   \n4                                            0.0   \n5                                            8.0   \n6                                            0.0   \n7                                            0.0   \n8                                            0.0   \n9                                            5.0   \n\n   PROPORTION OF CONCURRENT HIV/AIDS DIAGNOSES AMONG ALL HIV DIAGNOSES  \\\n0                                                0.0                     \n1                                                0.0                     \n2                                               21.7                     \n3                                                0.0                     \n4                                                0.0                     \n5                                               14.8                     \n6                                                0.0                     \n7                                                0.0                     \n8                                                0.0                     \n9                                               35.7                     \n\n   TOTAL NUMBER OF AIDS DIAGNOSES AIDS DIAGNOSES PER 100,000 POPULATION  \n0                             5.0                                 275.3  \n1                             0.0                                     0  \n2                            14.0                                  15.4  \n3                             0.0                                     0  \n4                             0.0                                     0  \n5                            33.0                                  34.5  \n6                             0.0                                     0  \n7                             0.0                                     0  \n8                             0.0                                     0  \n9                            12.0                                   4.6  ",
      "text/html": "<div>\n<style scoped>\n    .dataframe tbody tr th:only-of-type {\n        vertical-align: middle;\n    }\n\n    .dataframe tbody tr th {\n        vertical-align: top;\n    }\n\n    .dataframe thead th {\n        text-align: right;\n    }\n</style>\n<table border=\"1\" class=\"dataframe\">\n  <thead>\n    <tr style=\"text-align: right;\">\n      <th></th>\n      <th>YEAR</th>\n      <th>Borough</th>\n      <th>Neighborhood (U.H.F)</th>\n      <th>SEX</th>\n      <th>RACE/ETHNICITY</th>\n      <th>TOTAL NUMBER OF HIV DIAGNOSES</th>\n      <th>HIV DIAGNOSES PER 100,000 POPULATION</th>\n      <th>TOTAL NUMBER OF CONCURRENT HIV/AIDS DIAGNOSES</th>\n      <th>PROPORTION OF CONCURRENT HIV/AIDS DIAGNOSES AMONG ALL HIV DIAGNOSES</th>\n      <th>TOTAL NUMBER OF AIDS DIAGNOSES</th>\n      <th>AIDS DIAGNOSES PER 100,000 POPULATION</th>\n    </tr>\n  </thead>\n  <tbody>\n    <tr>\n      <th>0</th>\n      <td>2010</td>\n      <td>NaN</td>\n      <td>greenpoint</td>\n      <td>Male</td>\n      <td>black</td>\n      <td>6.0</td>\n      <td>330.4</td>\n      <td>0.0</td>\n      <td>0.0</td>\n      <td>5.0</td>\n      <td>275.3</td>\n    </tr>\n    <tr>\n      <th>1</th>\n      <td>2011</td>\n      <td>NaN</td>\n      <td>stapleton-st.george</td>\n      <td>Female</td>\n      <td>nativeamerican</td>\n      <td>0.0</td>\n      <td>0.0</td>\n      <td>0.0</td>\n      <td>0.0</td>\n      <td>0.0</td>\n      <td>0</td>\n    </tr>\n    <tr>\n      <th>2</th>\n      <td>2010</td>\n      <td>NaN</td>\n      <td>southeastqueens</td>\n      <td>Male</td>\n      <td>all</td>\n      <td>23.0</td>\n      <td>25.4</td>\n      <td>5.0</td>\n      <td>21.7</td>\n      <td>14.0</td>\n      <td>15.4</td>\n    </tr>\n    <tr>\n      <th>3</th>\n      <td>2012</td>\n      <td>NaN</td>\n      <td>upperwestside</td>\n      <td>Female</td>\n      <td>unknown</td>\n      <td>0.0</td>\n      <td>0.0</td>\n      <td>0.0</td>\n      <td>0.0</td>\n      <td>0.0</td>\n      <td>0</td>\n    </tr>\n    <tr>\n      <th>4</th>\n      <td>2013</td>\n      <td>NaN</td>\n      <td>willowbrook</td>\n      <td>Male</td>\n      <td>unknown</td>\n      <td>0.0</td>\n      <td>0.0</td>\n      <td>0.0</td>\n      <td>0.0</td>\n      <td>0.0</td>\n      <td>0</td>\n    </tr>\n    <tr>\n      <th>5</th>\n      <td>2013</td>\n      <td>NaN</td>\n      <td>eastflatbush-flatbush</td>\n      <td>Male</td>\n      <td>black</td>\n      <td>54.0</td>\n      <td>56.5</td>\n      <td>8.0</td>\n      <td>14.8</td>\n      <td>33.0</td>\n      <td>34.5</td>\n    </tr>\n    <tr>\n      <th>6</th>\n      <td>2013</td>\n      <td>NaN</td>\n      <td>eastflatbush-flatbush</td>\n      <td>Female</td>\n      <td>nativeamerican</td>\n      <td>0.0</td>\n      <td>0.0</td>\n      <td>0.0</td>\n      <td>0.0</td>\n      <td>0.0</td>\n      <td>0</td>\n    </tr>\n    <tr>\n      <th>7</th>\n      <td>2013</td>\n      <td>NaN</td>\n      <td>southwestqueens</td>\n      <td>Female</td>\n      <td>unknown</td>\n      <td>0.0</td>\n      <td>0.0</td>\n      <td>0.0</td>\n      <td>0.0</td>\n      <td>0.0</td>\n      <td>0</td>\n    </tr>\n    <tr>\n      <th>8</th>\n      <td>2012</td>\n      <td>NaN</td>\n      <td>fordham-bronxpark</td>\n      <td>Male</td>\n      <td>unknown</td>\n      <td>0.0</td>\n      <td>0.0</td>\n      <td>0.0</td>\n      <td>0.0</td>\n      <td>0.0</td>\n      <td>0</td>\n    </tr>\n    <tr>\n      <th>9</th>\n      <td>2010</td>\n      <td>NaN</td>\n      <td>flushing-clearview</td>\n      <td>All</td>\n      <td>all</td>\n      <td>14.0</td>\n      <td>5.4</td>\n      <td>5.0</td>\n      <td>35.7</td>\n      <td>12.0</td>\n      <td>4.6</td>\n    </tr>\n  </tbody>\n</table>\n</div>"
     },
     "execution_count": 13,
     "metadata": {},
     "output_type": "execute_result"
    }
   ],
   "source": [
    "df.head(10)"
   ],
   "metadata": {
    "collapsed": false
   }
  },
  {
   "cell_type": "code",
   "execution_count": 12,
   "outputs": [],
   "source": [
    "number of  cases = 30\n",
    "total number of population = 100\n",
    "incident = number of cases / total number of population * 100\n",
    "\n",
    "\n",
    "Propopotion = total number of cases in district / total number of cases in a state * 100"
   ],
   "metadata": {
    "collapsed": false
   }
  }
 ],
 "metadata": {
  "kernelspec": {
   "display_name": "Python 3",
   "language": "python",
   "name": "python3"
  },
  "language_info": {
   "codemirror_mode": {
    "name": "ipython",
    "version": 2
   },
   "file_extension": ".py",
   "mimetype": "text/x-python",
   "name": "python",
   "nbconvert_exporter": "python",
   "pygments_lexer": "ipython2",
   "version": "2.7.6"
  }
 },
 "nbformat": 4,
 "nbformat_minor": 0
}
