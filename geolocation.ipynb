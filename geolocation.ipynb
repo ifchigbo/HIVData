{
 "cells": [
  {
   "cell_type": "code",
   "execution_count": 9,
   "metadata": {
    "collapsed": true
   },
   "outputs": [
    {
     "name": "stdout",
     "output_type": "stream",
     "text": [
      "[('bronx', 40.851039, -73.84025027765061), ('brooklyn', 40.6526006, -73.9497211), ('manhattan', 40.7896239, -73.9598939), ('queens', 40.7135078, -73.8283132), ('staten island', 40.5834557, -74.1496048), ('unknown', -7.8344579, 112.4178015)]\n"
     ]
    }
   ],
   "source": [
    "import numpy as np\n",
    "import pandas as pd\n",
    "import requests\n",
    "from sklearn.datasets import fetch_openml\n",
    "# Location names to geocode\n",
    "locations = ['bronx', 'brooklyn', 'manhattan', 'queens', 'staten island', 'unknown']\n",
    "\n",
    "# URL for the Nominatim geocoding service\n",
    "url = \"https://nominatim.openstreetmap.org/search\"\n",
    "\n",
    "# List to store the location data\n",
    "location_data = []\n",
    "\n",
    "# Loop over the location names and geocode each one\n",
    "for loc in locations:\n",
    "    # Parameters for the API request\n",
    "    params = {\n",
    "        \"q\": loc,\n",
    "        \"format\": \"jsonv2\"\n",
    "    }\n",
    "\n",
    "    # Send a GET request to the API\n",
    "    response = requests.get(url, params=params)\n",
    "\n",
    "    # Parse the JSON response\n",
    "    json_data = response.json()\n",
    "\n",
    "    # Get the latitude and longitude coordinates from the response\n",
    "    lat = float(json_data[0][\"lat\"])\n",
    "    lon = float(json_data[0][\"lon\"])\n",
    "\n",
    "    # Append the location name and coordinates to the list\n",
    "    location_data.append((loc, lat, lon))\n",
    "\n",
    "# Print the location data\n",
    "print(location_data)\n",
    "\n",
    "\n",
    "\n"
   ]
  },
  {
   "cell_type": "code",
   "execution_count": 8,
   "outputs": [
    {
     "name": "stdout",
     "output_type": "stream",
     "text": [
      "[(40.8448, -73.8648, 10), (40.6782, -73.9442, 5), (40.7831, -73.9712, 7), (40.7282, -73.7949, 12), (40.5795, -74.1502, 3), (0, 0, 1)]\n"
     ]
    }
   ],
   "source": [
    "import folium\n",
    "from folium.plugins import HeatMap\n",
    "\n",
    "# Location data with infection count for HIV\n",
    "location_data = [('bronx', 40.8448, -73.8648, 10), ('brooklyn', 40.6782, -73.9442, 5),\n",
    "                 ('manhattan', 40.7831, -73.9712, 7), ('queens', 40.7282, -73.7949, 12),\n",
    "                 ('staten island', 40.5795, -74.1502, 3), ('unknown', 0, 0, 1)]\n",
    "\n",
    "# Create a map object\n",
    "m = folium.Map(location=[40.730610, -73.935242], zoom_start=10)\n",
    "\n",
    "# Create a list of location coordinates with infection count for HIV\n",
    "locations = [(loc[1], loc[2], loc[3]) for loc in location_data]\n",
    "\n",
    "print(locations)\n",
    "# Create a HeatMap object from the location data and add it to the map\n",
    "#heat_map = HeatMap(locations)\n",
    "#m.add_child(heat_map)"
   ],
   "metadata": {
    "collapsed": false
   }
  },
  {
   "cell_type": "code",
   "execution_count": 12,
   "outputs": [],
   "source": [
    "from  sklearn.datasets import fetch_openml\n",
    "import ssl\n",
    "ssl._create_default_https_context = ssl._create_unverified_context"
   ],
   "metadata": {
    "collapsed": false
   }
  },
  {
   "cell_type": "code",
   "execution_count": 13,
   "outputs": [],
   "source": [
    "X,y = fetch_openml(\"autos\", version=1, as_frame=True, return_X_y=True)"
   ],
   "metadata": {
    "collapsed": false
   }
  },
  {
   "cell_type": "code",
   "execution_count": 16,
   "outputs": [],
   "source": [
    "data = X\n"
   ],
   "metadata": {
    "collapsed": false
   }
  },
  {
   "cell_type": "code",
   "execution_count": 17,
   "outputs": [
    {
     "data": {
      "text/plain": "   normalized-losses         make fuel-type aspiration num-of-doors  \\\n0                NaN  alfa-romero       gas        std          two   \n1                NaN  alfa-romero       gas        std          two   \n2                NaN  alfa-romero       gas        std          two   \n3              164.0         audi       gas        std         four   \n4              164.0         audi       gas        std         four   \n\n    body-style drive-wheels engine-location  wheel-base  length  ...  \\\n0  convertible          rwd           front        88.6   168.8  ...   \n1  convertible          rwd           front        88.6   168.8  ...   \n2    hatchback          rwd           front        94.5   171.2  ...   \n3        sedan          fwd           front        99.8   176.6  ...   \n4        sedan          4wd           front        99.4   176.6  ...   \n\n   engine-size  fuel-system  bore stroke compression-ratio  horsepower  \\\n0        130.0         mpfi  3.47   2.68               9.0       111.0   \n1        130.0         mpfi  3.47   2.68               9.0       111.0   \n2        152.0         mpfi  2.68   3.47               9.0       154.0   \n3        109.0         mpfi  3.19   3.40              10.0       102.0   \n4        136.0         mpfi  3.19   3.40               8.0       115.0   \n\n  peak-rpm  city-mpg  highway-mpg    price  \n0   5000.0      21.0         27.0  13495.0  \n1   5000.0      21.0         27.0  16500.0  \n2   5000.0      19.0         26.0  16500.0  \n3   5500.0      24.0         30.0  13950.0  \n4   5500.0      18.0         22.0  17450.0  \n\n[5 rows x 25 columns]",
      "text/html": "<div>\n<style scoped>\n    .dataframe tbody tr th:only-of-type {\n        vertical-align: middle;\n    }\n\n    .dataframe tbody tr th {\n        vertical-align: top;\n    }\n\n    .dataframe thead th {\n        text-align: right;\n    }\n</style>\n<table border=\"1\" class=\"dataframe\">\n  <thead>\n    <tr style=\"text-align: right;\">\n      <th></th>\n      <th>normalized-losses</th>\n      <th>make</th>\n      <th>fuel-type</th>\n      <th>aspiration</th>\n      <th>num-of-doors</th>\n      <th>body-style</th>\n      <th>drive-wheels</th>\n      <th>engine-location</th>\n      <th>wheel-base</th>\n      <th>length</th>\n      <th>...</th>\n      <th>engine-size</th>\n      <th>fuel-system</th>\n      <th>bore</th>\n      <th>stroke</th>\n      <th>compression-ratio</th>\n      <th>horsepower</th>\n      <th>peak-rpm</th>\n      <th>city-mpg</th>\n      <th>highway-mpg</th>\n      <th>price</th>\n    </tr>\n  </thead>\n  <tbody>\n    <tr>\n      <th>0</th>\n      <td>NaN</td>\n      <td>alfa-romero</td>\n      <td>gas</td>\n      <td>std</td>\n      <td>two</td>\n      <td>convertible</td>\n      <td>rwd</td>\n      <td>front</td>\n      <td>88.6</td>\n      <td>168.8</td>\n      <td>...</td>\n      <td>130.0</td>\n      <td>mpfi</td>\n      <td>3.47</td>\n      <td>2.68</td>\n      <td>9.0</td>\n      <td>111.0</td>\n      <td>5000.0</td>\n      <td>21.0</td>\n      <td>27.0</td>\n      <td>13495.0</td>\n    </tr>\n    <tr>\n      <th>1</th>\n      <td>NaN</td>\n      <td>alfa-romero</td>\n      <td>gas</td>\n      <td>std</td>\n      <td>two</td>\n      <td>convertible</td>\n      <td>rwd</td>\n      <td>front</td>\n      <td>88.6</td>\n      <td>168.8</td>\n      <td>...</td>\n      <td>130.0</td>\n      <td>mpfi</td>\n      <td>3.47</td>\n      <td>2.68</td>\n      <td>9.0</td>\n      <td>111.0</td>\n      <td>5000.0</td>\n      <td>21.0</td>\n      <td>27.0</td>\n      <td>16500.0</td>\n    </tr>\n    <tr>\n      <th>2</th>\n      <td>NaN</td>\n      <td>alfa-romero</td>\n      <td>gas</td>\n      <td>std</td>\n      <td>two</td>\n      <td>hatchback</td>\n      <td>rwd</td>\n      <td>front</td>\n      <td>94.5</td>\n      <td>171.2</td>\n      <td>...</td>\n      <td>152.0</td>\n      <td>mpfi</td>\n      <td>2.68</td>\n      <td>3.47</td>\n      <td>9.0</td>\n      <td>154.0</td>\n      <td>5000.0</td>\n      <td>19.0</td>\n      <td>26.0</td>\n      <td>16500.0</td>\n    </tr>\n    <tr>\n      <th>3</th>\n      <td>164.0</td>\n      <td>audi</td>\n      <td>gas</td>\n      <td>std</td>\n      <td>four</td>\n      <td>sedan</td>\n      <td>fwd</td>\n      <td>front</td>\n      <td>99.8</td>\n      <td>176.6</td>\n      <td>...</td>\n      <td>109.0</td>\n      <td>mpfi</td>\n      <td>3.19</td>\n      <td>3.40</td>\n      <td>10.0</td>\n      <td>102.0</td>\n      <td>5500.0</td>\n      <td>24.0</td>\n      <td>30.0</td>\n      <td>13950.0</td>\n    </tr>\n    <tr>\n      <th>4</th>\n      <td>164.0</td>\n      <td>audi</td>\n      <td>gas</td>\n      <td>std</td>\n      <td>four</td>\n      <td>sedan</td>\n      <td>4wd</td>\n      <td>front</td>\n      <td>99.4</td>\n      <td>176.6</td>\n      <td>...</td>\n      <td>136.0</td>\n      <td>mpfi</td>\n      <td>3.19</td>\n      <td>3.40</td>\n      <td>8.0</td>\n      <td>115.0</td>\n      <td>5500.0</td>\n      <td>18.0</td>\n      <td>22.0</td>\n      <td>17450.0</td>\n    </tr>\n  </tbody>\n</table>\n<p>5 rows × 25 columns</p>\n</div>"
     },
     "execution_count": 17,
     "metadata": {},
     "output_type": "execute_result"
    }
   ],
   "source": [
    "data.head()"
   ],
   "metadata": {
    "collapsed": false
   }
  },
  {
   "cell_type": "code",
   "execution_count": 22,
   "outputs": [],
   "source": [
    "data.columns\n",
    "import numpy as np\n",
    "import pandas as pd"
   ],
   "metadata": {
    "collapsed": false
   }
  },
  {
   "cell_type": "code",
   "execution_count": 39,
   "outputs": [],
   "source": [
    "pivot = np.round(pd.pivot_table(data, values='price', index='num-of-doors', columns='fuel-type', aggfunc=np.sum))"
   ],
   "metadata": {
    "collapsed": false
   }
  },
  {
   "cell_type": "code",
   "execution_count": 40,
   "outputs": [
    {
     "data": {
      "text/plain": "fuel-type       diesel        gas\nnum-of-doors                     \nfour          262918.0  1270003.0\ntwo            43050.0  1059309.0",
      "text/html": "<div>\n<style scoped>\n    .dataframe tbody tr th:only-of-type {\n        vertical-align: middle;\n    }\n\n    .dataframe tbody tr th {\n        vertical-align: top;\n    }\n\n    .dataframe thead th {\n        text-align: right;\n    }\n</style>\n<table border=\"1\" class=\"dataframe\">\n  <thead>\n    <tr style=\"text-align: right;\">\n      <th>fuel-type</th>\n      <th>diesel</th>\n      <th>gas</th>\n    </tr>\n    <tr>\n      <th>num-of-doors</th>\n      <th></th>\n      <th></th>\n    </tr>\n  </thead>\n  <tbody>\n    <tr>\n      <th>four</th>\n      <td>262918.0</td>\n      <td>1270003.0</td>\n    </tr>\n    <tr>\n      <th>two</th>\n      <td>43050.0</td>\n      <td>1059309.0</td>\n    </tr>\n  </tbody>\n</table>\n</div>"
     },
     "execution_count": 40,
     "metadata": {},
     "output_type": "execute_result"
    }
   ],
   "source": [
    "pivot"
   ],
   "metadata": {
    "collapsed": false
   }
  },
  {
   "cell_type": "code",
   "execution_count": 34,
   "outputs": [
    {
     "name": "stderr",
     "output_type": "stream",
     "text": [
      "/var/folders/c1/f8dlwkr17d50pt1c_tlzj3pr0000gn/T/ipykernel_1702/1108001096.py:1: FutureWarning: The default value of numeric_only in DataFrame.sum is deprecated. In a future version, it will default to False. In addition, specifying 'numeric_only=None' is deprecated. Select only valid columns or specify the value of numeric_only to silence this warning.\n",
      "  data.loc[(data['num-of-doors'] == 'four') & (data['fuel-type'] == 'diesel')].sum()['price']\n"
     ]
    },
    {
     "data": {
      "text/plain": "262918.0"
     },
     "execution_count": 34,
     "metadata": {},
     "output_type": "execute_result"
    }
   ],
   "source": [
    "data.loc[(data['num-of-doors'] == 'four') & (data['fuel-type'] == 'diesel')].sum()['price']"
   ],
   "metadata": {
    "collapsed": false
   }
  },
  {
   "cell_type": "code",
   "execution_count": 36,
   "outputs": [],
   "source": [
    "test1 = data.loc[(data['num-of-doors'] == 'four') & (data['fuel-type'] == 'diesel')]"
   ],
   "metadata": {
    "collapsed": false
   }
  },
  {
   "cell_type": "code",
   "execution_count": 38,
   "outputs": [
    {
     "data": {
      "text/plain": "262918.0"
     },
     "execution_count": 38,
     "metadata": {},
     "output_type": "execute_result"
    }
   ],
   "source": [
    "test1.price.sum()"
   ],
   "metadata": {
    "collapsed": false
   }
  },
  {
   "cell_type": "code",
   "execution_count": 41,
   "outputs": [
    {
     "data": {
      "text/plain": "     normalized-losses         make fuel-type aspiration num-of-doors  \\\n0                  NaN  alfa-romero       gas        std          two   \n1                  NaN  alfa-romero       gas        std          two   \n2                  NaN  alfa-romero       gas        std          two   \n3                164.0         audi       gas        std         four   \n4                164.0         audi       gas        std         four   \n..                 ...          ...       ...        ...          ...   \n200               95.0        volvo       gas        std         four   \n201               95.0        volvo       gas      turbo         four   \n202               95.0        volvo       gas        std         four   \n203               95.0        volvo    diesel      turbo         four   \n204               95.0        volvo       gas      turbo         four   \n\n      body-style drive-wheels engine-location  wheel-base  length  ...  \\\n0    convertible          rwd           front        88.6   168.8  ...   \n1    convertible          rwd           front        88.6   168.8  ...   \n2      hatchback          rwd           front        94.5   171.2  ...   \n3          sedan          fwd           front        99.8   176.6  ...   \n4          sedan          4wd           front        99.4   176.6  ...   \n..           ...          ...             ...         ...     ...  ...   \n200        sedan          rwd           front       109.1   188.8  ...   \n201        sedan          rwd           front       109.1   188.8  ...   \n202        sedan          rwd           front       109.1   188.8  ...   \n203        sedan          rwd           front       109.1   188.8  ...   \n204        sedan          rwd           front       109.1   188.8  ...   \n\n     engine-size  fuel-system  bore stroke compression-ratio  horsepower  \\\n0          130.0         mpfi  3.47   2.68               9.0       111.0   \n1          130.0         mpfi  3.47   2.68               9.0       111.0   \n2          152.0         mpfi  2.68   3.47               9.0       154.0   \n3          109.0         mpfi  3.19   3.40              10.0       102.0   \n4          136.0         mpfi  3.19   3.40               8.0       115.0   \n..           ...          ...   ...    ...               ...         ...   \n200        141.0         mpfi  3.78   3.15               9.5       114.0   \n201        141.0         mpfi  3.78   3.15               8.7       160.0   \n202        173.0         mpfi  3.58   2.87               8.8       134.0   \n203        145.0          idi  3.01   3.40              23.0       106.0   \n204        141.0         mpfi  3.78   3.15               9.5       114.0   \n\n    peak-rpm  city-mpg  highway-mpg    price  \n0     5000.0      21.0         27.0  13495.0  \n1     5000.0      21.0         27.0  16500.0  \n2     5000.0      19.0         26.0  16500.0  \n3     5500.0      24.0         30.0  13950.0  \n4     5500.0      18.0         22.0  17450.0  \n..       ...       ...          ...      ...  \n200   5400.0      23.0         28.0  16845.0  \n201   5300.0      19.0         25.0  19045.0  \n202   5500.0      18.0         23.0  21485.0  \n203   4800.0      26.0         27.0  22470.0  \n204   5400.0      19.0         25.0  22625.0  \n\n[205 rows x 25 columns]",
      "text/html": "<div>\n<style scoped>\n    .dataframe tbody tr th:only-of-type {\n        vertical-align: middle;\n    }\n\n    .dataframe tbody tr th {\n        vertical-align: top;\n    }\n\n    .dataframe thead th {\n        text-align: right;\n    }\n</style>\n<table border=\"1\" class=\"dataframe\">\n  <thead>\n    <tr style=\"text-align: right;\">\n      <th></th>\n      <th>normalized-losses</th>\n      <th>make</th>\n      <th>fuel-type</th>\n      <th>aspiration</th>\n      <th>num-of-doors</th>\n      <th>body-style</th>\n      <th>drive-wheels</th>\n      <th>engine-location</th>\n      <th>wheel-base</th>\n      <th>length</th>\n      <th>...</th>\n      <th>engine-size</th>\n      <th>fuel-system</th>\n      <th>bore</th>\n      <th>stroke</th>\n      <th>compression-ratio</th>\n      <th>horsepower</th>\n      <th>peak-rpm</th>\n      <th>city-mpg</th>\n      <th>highway-mpg</th>\n      <th>price</th>\n    </tr>\n  </thead>\n  <tbody>\n    <tr>\n      <th>0</th>\n      <td>NaN</td>\n      <td>alfa-romero</td>\n      <td>gas</td>\n      <td>std</td>\n      <td>two</td>\n      <td>convertible</td>\n      <td>rwd</td>\n      <td>front</td>\n      <td>88.6</td>\n      <td>168.8</td>\n      <td>...</td>\n      <td>130.0</td>\n      <td>mpfi</td>\n      <td>3.47</td>\n      <td>2.68</td>\n      <td>9.0</td>\n      <td>111.0</td>\n      <td>5000.0</td>\n      <td>21.0</td>\n      <td>27.0</td>\n      <td>13495.0</td>\n    </tr>\n    <tr>\n      <th>1</th>\n      <td>NaN</td>\n      <td>alfa-romero</td>\n      <td>gas</td>\n      <td>std</td>\n      <td>two</td>\n      <td>convertible</td>\n      <td>rwd</td>\n      <td>front</td>\n      <td>88.6</td>\n      <td>168.8</td>\n      <td>...</td>\n      <td>130.0</td>\n      <td>mpfi</td>\n      <td>3.47</td>\n      <td>2.68</td>\n      <td>9.0</td>\n      <td>111.0</td>\n      <td>5000.0</td>\n      <td>21.0</td>\n      <td>27.0</td>\n      <td>16500.0</td>\n    </tr>\n    <tr>\n      <th>2</th>\n      <td>NaN</td>\n      <td>alfa-romero</td>\n      <td>gas</td>\n      <td>std</td>\n      <td>two</td>\n      <td>hatchback</td>\n      <td>rwd</td>\n      <td>front</td>\n      <td>94.5</td>\n      <td>171.2</td>\n      <td>...</td>\n      <td>152.0</td>\n      <td>mpfi</td>\n      <td>2.68</td>\n      <td>3.47</td>\n      <td>9.0</td>\n      <td>154.0</td>\n      <td>5000.0</td>\n      <td>19.0</td>\n      <td>26.0</td>\n      <td>16500.0</td>\n    </tr>\n    <tr>\n      <th>3</th>\n      <td>164.0</td>\n      <td>audi</td>\n      <td>gas</td>\n      <td>std</td>\n      <td>four</td>\n      <td>sedan</td>\n      <td>fwd</td>\n      <td>front</td>\n      <td>99.8</td>\n      <td>176.6</td>\n      <td>...</td>\n      <td>109.0</td>\n      <td>mpfi</td>\n      <td>3.19</td>\n      <td>3.40</td>\n      <td>10.0</td>\n      <td>102.0</td>\n      <td>5500.0</td>\n      <td>24.0</td>\n      <td>30.0</td>\n      <td>13950.0</td>\n    </tr>\n    <tr>\n      <th>4</th>\n      <td>164.0</td>\n      <td>audi</td>\n      <td>gas</td>\n      <td>std</td>\n      <td>four</td>\n      <td>sedan</td>\n      <td>4wd</td>\n      <td>front</td>\n      <td>99.4</td>\n      <td>176.6</td>\n      <td>...</td>\n      <td>136.0</td>\n      <td>mpfi</td>\n      <td>3.19</td>\n      <td>3.40</td>\n      <td>8.0</td>\n      <td>115.0</td>\n      <td>5500.0</td>\n      <td>18.0</td>\n      <td>22.0</td>\n      <td>17450.0</td>\n    </tr>\n    <tr>\n      <th>...</th>\n      <td>...</td>\n      <td>...</td>\n      <td>...</td>\n      <td>...</td>\n      <td>...</td>\n      <td>...</td>\n      <td>...</td>\n      <td>...</td>\n      <td>...</td>\n      <td>...</td>\n      <td>...</td>\n      <td>...</td>\n      <td>...</td>\n      <td>...</td>\n      <td>...</td>\n      <td>...</td>\n      <td>...</td>\n      <td>...</td>\n      <td>...</td>\n      <td>...</td>\n      <td>...</td>\n    </tr>\n    <tr>\n      <th>200</th>\n      <td>95.0</td>\n      <td>volvo</td>\n      <td>gas</td>\n      <td>std</td>\n      <td>four</td>\n      <td>sedan</td>\n      <td>rwd</td>\n      <td>front</td>\n      <td>109.1</td>\n      <td>188.8</td>\n      <td>...</td>\n      <td>141.0</td>\n      <td>mpfi</td>\n      <td>3.78</td>\n      <td>3.15</td>\n      <td>9.5</td>\n      <td>114.0</td>\n      <td>5400.0</td>\n      <td>23.0</td>\n      <td>28.0</td>\n      <td>16845.0</td>\n    </tr>\n    <tr>\n      <th>201</th>\n      <td>95.0</td>\n      <td>volvo</td>\n      <td>gas</td>\n      <td>turbo</td>\n      <td>four</td>\n      <td>sedan</td>\n      <td>rwd</td>\n      <td>front</td>\n      <td>109.1</td>\n      <td>188.8</td>\n      <td>...</td>\n      <td>141.0</td>\n      <td>mpfi</td>\n      <td>3.78</td>\n      <td>3.15</td>\n      <td>8.7</td>\n      <td>160.0</td>\n      <td>5300.0</td>\n      <td>19.0</td>\n      <td>25.0</td>\n      <td>19045.0</td>\n    </tr>\n    <tr>\n      <th>202</th>\n      <td>95.0</td>\n      <td>volvo</td>\n      <td>gas</td>\n      <td>std</td>\n      <td>four</td>\n      <td>sedan</td>\n      <td>rwd</td>\n      <td>front</td>\n      <td>109.1</td>\n      <td>188.8</td>\n      <td>...</td>\n      <td>173.0</td>\n      <td>mpfi</td>\n      <td>3.58</td>\n      <td>2.87</td>\n      <td>8.8</td>\n      <td>134.0</td>\n      <td>5500.0</td>\n      <td>18.0</td>\n      <td>23.0</td>\n      <td>21485.0</td>\n    </tr>\n    <tr>\n      <th>203</th>\n      <td>95.0</td>\n      <td>volvo</td>\n      <td>diesel</td>\n      <td>turbo</td>\n      <td>four</td>\n      <td>sedan</td>\n      <td>rwd</td>\n      <td>front</td>\n      <td>109.1</td>\n      <td>188.8</td>\n      <td>...</td>\n      <td>145.0</td>\n      <td>idi</td>\n      <td>3.01</td>\n      <td>3.40</td>\n      <td>23.0</td>\n      <td>106.0</td>\n      <td>4800.0</td>\n      <td>26.0</td>\n      <td>27.0</td>\n      <td>22470.0</td>\n    </tr>\n    <tr>\n      <th>204</th>\n      <td>95.0</td>\n      <td>volvo</td>\n      <td>gas</td>\n      <td>turbo</td>\n      <td>four</td>\n      <td>sedan</td>\n      <td>rwd</td>\n      <td>front</td>\n      <td>109.1</td>\n      <td>188.8</td>\n      <td>...</td>\n      <td>141.0</td>\n      <td>mpfi</td>\n      <td>3.78</td>\n      <td>3.15</td>\n      <td>9.5</td>\n      <td>114.0</td>\n      <td>5400.0</td>\n      <td>19.0</td>\n      <td>25.0</td>\n      <td>22625.0</td>\n    </tr>\n  </tbody>\n</table>\n<p>205 rows × 25 columns</p>\n</div>"
     },
     "execution_count": 41,
     "metadata": {},
     "output_type": "execute_result"
    }
   ],
   "source": [
    "data"
   ],
   "metadata": {
    "collapsed": false
   }
  },
  {
   "cell_type": "code",
   "execution_count": 45,
   "outputs": [
    {
     "data": {
      "text/plain": "   YEAR Borough      Neighborhood (U.H.F)     SEX   RACE/ETHNICITY  \\\n0  2010     NaN                Greenpoint    Male            Black   \n1  2011     NaN    Stapleton - St. George  Female  Native American   \n2  2010     NaN          Southeast Queens    Male              All   \n3  2012     NaN            Upper Westside  Female          Unknown   \n4  2013     NaN               Willowbrook    Male          Unknown   \n5  2013     NaN  East Flatbush - Flatbush    Male            Black   \n6  2013     NaN  East Flatbush - Flatbush  Female  Native American   \n7  2013     NaN          Southwest Queens  Female          Unknown   \n8  2012     NaN      Fordham - Bronx Park    Male          Unknown   \n9  2010     NaN      Flushing - Clearview     All              All   \n\n  TOTAL NUMBER OF HIV DIAGNOSES HIV DIAGNOSES PER 100,000 POPULATION  \\\n0                             6                                330.4   \n1                             0                                    0   \n2                            23                                 25.4   \n3                             0                                    0   \n4                             0                                    0   \n5                            54                                 56.5   \n6                             0                                    0   \n7                             0                                    0   \n8                             0                                    0   \n9                            14                                  5.4   \n\n  TOTAL NUMBER OF CONCURRENT HIV/AIDS DIAGNOSES  \\\n0                                             0   \n1                                             0   \n2                                             5   \n3                                             0   \n4                                             0   \n5                                             8   \n6                                             0   \n7                                             0   \n8                                             0   \n9                                             5   \n\n  PROPORTION OF CONCURRENT HIV/AIDS DIAGNOSES AMONG ALL HIV DIAGNOSES  \\\n0                                                  0                    \n1                                                  0                    \n2                                               21.7                    \n3                                                  0                    \n4                                                  0                    \n5                                               14.8                    \n6                                                  0                    \n7                                                  0                    \n8                                                  0                    \n9                                               35.7                    \n\n  TOTAL NUMBER OF AIDS DIAGNOSES AIDS DIAGNOSES PER 100,000 POPULATION  \n0                              5                                 275.3  \n1                              0                                     0  \n2                             14                                  15.4  \n3                              0                                     0  \n4                              0                                     0  \n5                             33                                  34.5  \n6                              0                                     0  \n7                              0                                     0  \n8                              0                                     0  \n9                             12                                   4.6  ",
      "text/html": "<div>\n<style scoped>\n    .dataframe tbody tr th:only-of-type {\n        vertical-align: middle;\n    }\n\n    .dataframe tbody tr th {\n        vertical-align: top;\n    }\n\n    .dataframe thead th {\n        text-align: right;\n    }\n</style>\n<table border=\"1\" class=\"dataframe\">\n  <thead>\n    <tr style=\"text-align: right;\">\n      <th></th>\n      <th>YEAR</th>\n      <th>Borough</th>\n      <th>Neighborhood (U.H.F)</th>\n      <th>SEX</th>\n      <th>RACE/ETHNICITY</th>\n      <th>TOTAL NUMBER OF HIV DIAGNOSES</th>\n      <th>HIV DIAGNOSES PER 100,000 POPULATION</th>\n      <th>TOTAL NUMBER OF CONCURRENT HIV/AIDS DIAGNOSES</th>\n      <th>PROPORTION OF CONCURRENT HIV/AIDS DIAGNOSES AMONG ALL HIV DIAGNOSES</th>\n      <th>TOTAL NUMBER OF AIDS DIAGNOSES</th>\n      <th>AIDS DIAGNOSES PER 100,000 POPULATION</th>\n    </tr>\n  </thead>\n  <tbody>\n    <tr>\n      <th>0</th>\n      <td>2010</td>\n      <td>NaN</td>\n      <td>Greenpoint</td>\n      <td>Male</td>\n      <td>Black</td>\n      <td>6</td>\n      <td>330.4</td>\n      <td>0</td>\n      <td>0</td>\n      <td>5</td>\n      <td>275.3</td>\n    </tr>\n    <tr>\n      <th>1</th>\n      <td>2011</td>\n      <td>NaN</td>\n      <td>Stapleton - St. George</td>\n      <td>Female</td>\n      <td>Native American</td>\n      <td>0</td>\n      <td>0</td>\n      <td>0</td>\n      <td>0</td>\n      <td>0</td>\n      <td>0</td>\n    </tr>\n    <tr>\n      <th>2</th>\n      <td>2010</td>\n      <td>NaN</td>\n      <td>Southeast Queens</td>\n      <td>Male</td>\n      <td>All</td>\n      <td>23</td>\n      <td>25.4</td>\n      <td>5</td>\n      <td>21.7</td>\n      <td>14</td>\n      <td>15.4</td>\n    </tr>\n    <tr>\n      <th>3</th>\n      <td>2012</td>\n      <td>NaN</td>\n      <td>Upper Westside</td>\n      <td>Female</td>\n      <td>Unknown</td>\n      <td>0</td>\n      <td>0</td>\n      <td>0</td>\n      <td>0</td>\n      <td>0</td>\n      <td>0</td>\n    </tr>\n    <tr>\n      <th>4</th>\n      <td>2013</td>\n      <td>NaN</td>\n      <td>Willowbrook</td>\n      <td>Male</td>\n      <td>Unknown</td>\n      <td>0</td>\n      <td>0</td>\n      <td>0</td>\n      <td>0</td>\n      <td>0</td>\n      <td>0</td>\n    </tr>\n    <tr>\n      <th>5</th>\n      <td>2013</td>\n      <td>NaN</td>\n      <td>East Flatbush - Flatbush</td>\n      <td>Male</td>\n      <td>Black</td>\n      <td>54</td>\n      <td>56.5</td>\n      <td>8</td>\n      <td>14.8</td>\n      <td>33</td>\n      <td>34.5</td>\n    </tr>\n    <tr>\n      <th>6</th>\n      <td>2013</td>\n      <td>NaN</td>\n      <td>East Flatbush - Flatbush</td>\n      <td>Female</td>\n      <td>Native American</td>\n      <td>0</td>\n      <td>0</td>\n      <td>0</td>\n      <td>0</td>\n      <td>0</td>\n      <td>0</td>\n    </tr>\n    <tr>\n      <th>7</th>\n      <td>2013</td>\n      <td>NaN</td>\n      <td>Southwest Queens</td>\n      <td>Female</td>\n      <td>Unknown</td>\n      <td>0</td>\n      <td>0</td>\n      <td>0</td>\n      <td>0</td>\n      <td>0</td>\n      <td>0</td>\n    </tr>\n    <tr>\n      <th>8</th>\n      <td>2012</td>\n      <td>NaN</td>\n      <td>Fordham - Bronx Park</td>\n      <td>Male</td>\n      <td>Unknown</td>\n      <td>0</td>\n      <td>0</td>\n      <td>0</td>\n      <td>0</td>\n      <td>0</td>\n      <td>0</td>\n    </tr>\n    <tr>\n      <th>9</th>\n      <td>2010</td>\n      <td>NaN</td>\n      <td>Flushing - Clearview</td>\n      <td>All</td>\n      <td>All</td>\n      <td>14</td>\n      <td>5.4</td>\n      <td>5</td>\n      <td>35.7</td>\n      <td>12</td>\n      <td>4.6</td>\n    </tr>\n  </tbody>\n</table>\n</div>"
     },
     "execution_count": 45,
     "metadata": {},
     "output_type": "execute_result"
    }
   ],
   "source": [
    "data = pd.read_csv('HIV_AIDS_Diagnoses_by_Neighborhood__Sex__and_Race_Ethnicity.csv')\n",
    "data.head(10)"
   ],
   "metadata": {
    "collapsed": false
   }
  },
  {
   "cell_type": "code",
   "execution_count": 46,
   "outputs": [
    {
     "data": {
      "text/plain": "{'All',\n 'Bayside - Little Neck',\n 'Bedford Stuyvesant -\\nCrown Heights',\n 'Bedford Stuyvesant - Crown Heights',\n 'Bensonhurst - Bay\\nRidge',\n 'Bensonhurst - Bay Ridge',\n 'Borough Park',\n 'Canarsie - Flatlands',\n 'Central Harlem -\\nMorningside Heights',\n 'Central Harlem - Morningside Heights',\n 'Chelsea - Clinton',\n 'Coney Island -\\nSheepshead Bay',\n 'Coney Island - Sheepshead Bay',\n 'Crotona - Tremont',\n 'Downtown - Heights -\\nPark Slope',\n 'Downtown - Heights - Park Slope',\n 'East Flatbush -\\nFlatbush',\n 'East Flatbush - Flatbush',\n 'East Harlem',\n 'East New York',\n 'Flushing - Clearview',\n 'Fordham - Bronx\\nPark',\n 'Fordham - Bronx Park',\n 'Fresh Meadows',\n 'Gramercy Park -\\nMurray Hill',\n 'Gramercy Park - Murray Hill',\n 'Greenpoint',\n 'Greenwich Village -\\nSoho',\n 'Greenwich Village - SoHo',\n 'High Bridge -\\nMorrisania',\n 'High Bridge - Morrisania',\n 'Hunts Point - Mott\\nHaven',\n 'Hunts Point - Mott Haven',\n 'Jamaica',\n 'Kingsbridge -\\nRiverdale',\n 'Kingsbridge - Riverdale',\n 'Long Island City -\\nAstoria',\n 'Long Island City - Astoria',\n 'Lower Manhattan',\n 'Northeast Bronx',\n 'Pelham - Throgs\\nNeck',\n 'Pelham - Throgs Neck',\n 'Port Richmond',\n 'Ridgewood - Forest\\nHills',\n 'Ridgewood - Forest Hills',\n 'Rockaway',\n 'South Beach -\\nTottenville',\n 'South Beach - Tottenville',\n 'Southeast Queens',\n 'Southwest Queens',\n 'Stapleton - St.\\nGeorge',\n 'Stapleton - St. George',\n 'Sunset Park',\n 'Union Square -\\nLower East Side',\n 'Union Square - Lower Eastside',\n 'Unknown',\n 'Upper East Side',\n 'Upper Eastside',\n 'Upper West Side',\n 'Upper Westside',\n 'Washington Heights -\\nInwood',\n 'Washington Heights - Inwood',\n 'West Queens',\n 'Williamsburg -\\nBushwick',\n 'Williamsburg - Bushwick',\n 'Willowbrook'}"
     },
     "execution_count": 46,
     "metadata": {},
     "output_type": "execute_result"
    }
   ],
   "source": [
    "set(data['Neighborhood (U.H.F)'])"
   ],
   "metadata": {
    "collapsed": false
   }
  },
  {
   "cell_type": "code",
   "execution_count": 52,
   "outputs": [
    {
     "data": {
      "text/plain": "      YEAR Borough   Neighborhood (U.H.F)     SEX           RACE/ETHNICITY  \\\n6980  2020  Queens  Bayside - Little Neck     All                      All   \n6981  2020  Queens  Bayside - Little Neck     All  Asian/Pacific\\nIslander   \n6982  2020  Queens  Bayside - Little Neck     All                    Black   \n6983  2020  Queens  Bayside - Little Neck     All          Latino/Hispanic   \n6984  2020  Queens  Bayside - Little Neck     All            Other/Unknown   \n6985  2020  Queens  Bayside - Little Neck     All                    White   \n6986  2020  Queens  Bayside - Little Neck  Female                      All   \n6987  2020  Queens  Bayside - Little Neck  Female  Asian/Pacific\\nIslander   \n6988  2020  Queens  Bayside - Little Neck  Female                    Black   \n6989  2020  Queens  Bayside - Little Neck  Female          Latino/Hispanic   \n6990  2020  Queens  Bayside - Little Neck  Female            Other/Unknown   \n6991  2020  Queens  Bayside - Little Neck  Female                    White   \n6992  2020  Queens  Bayside - Little Neck    Male                      All   \n6993  2020  Queens  Bayside - Little Neck    Male  Asian/Pacific\\nIslander   \n6994  2020  Queens  Bayside - Little Neck    Male                    Black   \n6995  2020  Queens  Bayside - Little Neck    Male          Latino/Hispanic   \n6996  2020  Queens  Bayside - Little Neck    Male            Other/Unknown   \n6997  2020  Queens  Bayside - Little Neck    Male                    White   \n7842  2020  Queens  Bayside - Little Neck     All                      All   \n7843  2020  Queens  Bayside - Little Neck     All  Asian/Pacific\\nIslander   \n7844  2020  Queens  Bayside - Little Neck     All                    Black   \n7845  2020  Queens  Bayside - Little Neck     All          Latino/Hispanic   \n7846  2020  Queens  Bayside - Little Neck     All            Other/Unknown   \n7847  2020  Queens  Bayside - Little Neck     All                    White   \n7848  2020  Queens  Bayside - Little Neck  Female                      All   \n7849  2020  Queens  Bayside - Little Neck  Female  Asian/Pacific\\nIslander   \n7850  2020  Queens  Bayside - Little Neck  Female                    Black   \n7851  2020  Queens  Bayside - Little Neck  Female          Latino/Hispanic   \n7852  2020  Queens  Bayside - Little Neck  Female            Other/Unknown   \n7853  2020  Queens  Bayside - Little Neck  Female                    White   \n7854  2020  Queens  Bayside - Little Neck    Male                      All   \n7855  2020  Queens  Bayside - Little Neck    Male  Asian/Pacific\\nIslander   \n7856  2020  Queens  Bayside - Little Neck    Male                    Black   \n7857  2020  Queens  Bayside - Little Neck    Male          Latino/Hispanic   \n7858  2020  Queens  Bayside - Little Neck    Male            Other/Unknown   \n7859  2020  Queens  Bayside - Little Neck    Male                    White   \n\n     TOTAL NUMBER OF HIV DIAGNOSES HIV DIAGNOSES PER 100,000 POPULATION  \\\n6980                             0                                    0   \n6981                             0                                    0   \n6982                             0                                    0   \n6983                             0                                    0   \n6984                             0                                    0   \n6985                             0                                    0   \n6986                             0                                    0   \n6987                             0                                    0   \n6988                             0                                    0   \n6989                             0                                    0   \n6990                             0                                    0   \n6991                             0                                    0   \n6992                             0                                    0   \n6993                             0                                    0   \n6994                             0                                    0   \n6995                             0                                    0   \n6996                             0                                    0   \n6997                             0                                    0   \n7842                             0                                    0   \n7843                             0                                    0   \n7844                             0                                    0   \n7845                             0                                    0   \n7846                             0                                    0   \n7847                             0                                    0   \n7848                             0                                    0   \n7849                             0                                    0   \n7850                             0                                    0   \n7851                             0                                    0   \n7852                             0                                    0   \n7853                             0                                    0   \n7854                             0                                    0   \n7855                             0                                    0   \n7856                             0                                    0   \n7857                             0                                    0   \n7858                             0                                    0   \n7859                             0                                    0   \n\n     TOTAL NUMBER OF CONCURRENT HIV/AIDS DIAGNOSES  \\\n6980                                             0   \n6981                                             0   \n6982                                             0   \n6983                                             0   \n6984                                             0   \n6985                                             0   \n6986                                             0   \n6987                                             0   \n6988                                             0   \n6989                                             0   \n6990                                             0   \n6991                                             0   \n6992                                             0   \n6993                                             0   \n6994                                             0   \n6995                                             0   \n6996                                             0   \n6997                                             0   \n7842                                             0   \n7843                                             0   \n7844                                             0   \n7845                                             0   \n7846                                             0   \n7847                                             0   \n7848                                             0   \n7849                                             0   \n7850                                             0   \n7851                                             0   \n7852                                             0   \n7853                                             0   \n7854                                             0   \n7855                                             0   \n7856                                             0   \n7857                                             0   \n7858                                             0   \n7859                                             0   \n\n     PROPORTION OF CONCURRENT HIV/AIDS DIAGNOSES AMONG ALL HIV DIAGNOSES  \\\n6980                                                NaN                    \n6981                                                NaN                    \n6982                                                NaN                    \n6983                                                NaN                    \n6984                                                NaN                    \n6985                                                NaN                    \n6986                                                NaN                    \n6987                                                NaN                    \n6988                                                NaN                    \n6989                                                NaN                    \n6990                                                NaN                    \n6991                                                NaN                    \n6992                                                NaN                    \n6993                                                NaN                    \n6994                                                NaN                    \n6995                                                NaN                    \n6996                                                NaN                    \n6997                                                NaN                    \n7842                                                NaN                    \n7843                                                NaN                    \n7844                                                NaN                    \n7845                                                NaN                    \n7846                                                NaN                    \n7847                                                NaN                    \n7848                                                NaN                    \n7849                                                NaN                    \n7850                                                NaN                    \n7851                                                NaN                    \n7852                                                NaN                    \n7853                                                NaN                    \n7854                                                NaN                    \n7855                                                NaN                    \n7856                                                NaN                    \n7857                                                NaN                    \n7858                                                NaN                    \n7859                                                NaN                    \n\n     TOTAL NUMBER OF AIDS DIAGNOSES AIDS DIAGNOSES PER 100,000 POPULATION  \n6980                              0                                     0  \n6981                              0                                     0  \n6982                              0                                     0  \n6983                              0                                     0  \n6984                              0                                     0  \n6985                              0                                     0  \n6986                              0                                     0  \n6987                              0                                     0  \n6988                              0                                     0  \n6989                              0                                     0  \n6990                              0                                     0  \n6991                              0                                     0  \n6992                              0                                     0  \n6993                              0                                     0  \n6994                              0                                     0  \n6995                              0                                     0  \n6996                              0                                     0  \n6997                              0                                     0  \n7842                              0                                     0  \n7843                              0                                     0  \n7844                              0                                     0  \n7845                              0                                     0  \n7846                              0                                     0  \n7847                              0                                     0  \n7848                              0                                     0  \n7849                              0                                     0  \n7850                              0                                     0  \n7851                              0                                     0  \n7852                              0                                     0  \n7853                              0                                     0  \n7854                              0                                     0  \n7855                              0                                     0  \n7856                              0                                     0  \n7857                              0                                     0  \n7858                              0                                     0  \n7859                              0                                     0  ",
      "text/html": "<div>\n<style scoped>\n    .dataframe tbody tr th:only-of-type {\n        vertical-align: middle;\n    }\n\n    .dataframe tbody tr th {\n        vertical-align: top;\n    }\n\n    .dataframe thead th {\n        text-align: right;\n    }\n</style>\n<table border=\"1\" class=\"dataframe\">\n  <thead>\n    <tr style=\"text-align: right;\">\n      <th></th>\n      <th>YEAR</th>\n      <th>Borough</th>\n      <th>Neighborhood (U.H.F)</th>\n      <th>SEX</th>\n      <th>RACE/ETHNICITY</th>\n      <th>TOTAL NUMBER OF HIV DIAGNOSES</th>\n      <th>HIV DIAGNOSES PER 100,000 POPULATION</th>\n      <th>TOTAL NUMBER OF CONCURRENT HIV/AIDS DIAGNOSES</th>\n      <th>PROPORTION OF CONCURRENT HIV/AIDS DIAGNOSES AMONG ALL HIV DIAGNOSES</th>\n      <th>TOTAL NUMBER OF AIDS DIAGNOSES</th>\n      <th>AIDS DIAGNOSES PER 100,000 POPULATION</th>\n    </tr>\n  </thead>\n  <tbody>\n    <tr>\n      <th>6980</th>\n      <td>2020</td>\n      <td>Queens</td>\n      <td>Bayside - Little Neck</td>\n      <td>All</td>\n      <td>All</td>\n      <td>0</td>\n      <td>0</td>\n      <td>0</td>\n      <td>NaN</td>\n      <td>0</td>\n      <td>0</td>\n    </tr>\n    <tr>\n      <th>6981</th>\n      <td>2020</td>\n      <td>Queens</td>\n      <td>Bayside - Little Neck</td>\n      <td>All</td>\n      <td>Asian/Pacific\\nIslander</td>\n      <td>0</td>\n      <td>0</td>\n      <td>0</td>\n      <td>NaN</td>\n      <td>0</td>\n      <td>0</td>\n    </tr>\n    <tr>\n      <th>6982</th>\n      <td>2020</td>\n      <td>Queens</td>\n      <td>Bayside - Little Neck</td>\n      <td>All</td>\n      <td>Black</td>\n      <td>0</td>\n      <td>0</td>\n      <td>0</td>\n      <td>NaN</td>\n      <td>0</td>\n      <td>0</td>\n    </tr>\n    <tr>\n      <th>6983</th>\n      <td>2020</td>\n      <td>Queens</td>\n      <td>Bayside - Little Neck</td>\n      <td>All</td>\n      <td>Latino/Hispanic</td>\n      <td>0</td>\n      <td>0</td>\n      <td>0</td>\n      <td>NaN</td>\n      <td>0</td>\n      <td>0</td>\n    </tr>\n    <tr>\n      <th>6984</th>\n      <td>2020</td>\n      <td>Queens</td>\n      <td>Bayside - Little Neck</td>\n      <td>All</td>\n      <td>Other/Unknown</td>\n      <td>0</td>\n      <td>0</td>\n      <td>0</td>\n      <td>NaN</td>\n      <td>0</td>\n      <td>0</td>\n    </tr>\n    <tr>\n      <th>6985</th>\n      <td>2020</td>\n      <td>Queens</td>\n      <td>Bayside - Little Neck</td>\n      <td>All</td>\n      <td>White</td>\n      <td>0</td>\n      <td>0</td>\n      <td>0</td>\n      <td>NaN</td>\n      <td>0</td>\n      <td>0</td>\n    </tr>\n    <tr>\n      <th>6986</th>\n      <td>2020</td>\n      <td>Queens</td>\n      <td>Bayside - Little Neck</td>\n      <td>Female</td>\n      <td>All</td>\n      <td>0</td>\n      <td>0</td>\n      <td>0</td>\n      <td>NaN</td>\n      <td>0</td>\n      <td>0</td>\n    </tr>\n    <tr>\n      <th>6987</th>\n      <td>2020</td>\n      <td>Queens</td>\n      <td>Bayside - Little Neck</td>\n      <td>Female</td>\n      <td>Asian/Pacific\\nIslander</td>\n      <td>0</td>\n      <td>0</td>\n      <td>0</td>\n      <td>NaN</td>\n      <td>0</td>\n      <td>0</td>\n    </tr>\n    <tr>\n      <th>6988</th>\n      <td>2020</td>\n      <td>Queens</td>\n      <td>Bayside - Little Neck</td>\n      <td>Female</td>\n      <td>Black</td>\n      <td>0</td>\n      <td>0</td>\n      <td>0</td>\n      <td>NaN</td>\n      <td>0</td>\n      <td>0</td>\n    </tr>\n    <tr>\n      <th>6989</th>\n      <td>2020</td>\n      <td>Queens</td>\n      <td>Bayside - Little Neck</td>\n      <td>Female</td>\n      <td>Latino/Hispanic</td>\n      <td>0</td>\n      <td>0</td>\n      <td>0</td>\n      <td>NaN</td>\n      <td>0</td>\n      <td>0</td>\n    </tr>\n    <tr>\n      <th>6990</th>\n      <td>2020</td>\n      <td>Queens</td>\n      <td>Bayside - Little Neck</td>\n      <td>Female</td>\n      <td>Other/Unknown</td>\n      <td>0</td>\n      <td>0</td>\n      <td>0</td>\n      <td>NaN</td>\n      <td>0</td>\n      <td>0</td>\n    </tr>\n    <tr>\n      <th>6991</th>\n      <td>2020</td>\n      <td>Queens</td>\n      <td>Bayside - Little Neck</td>\n      <td>Female</td>\n      <td>White</td>\n      <td>0</td>\n      <td>0</td>\n      <td>0</td>\n      <td>NaN</td>\n      <td>0</td>\n      <td>0</td>\n    </tr>\n    <tr>\n      <th>6992</th>\n      <td>2020</td>\n      <td>Queens</td>\n      <td>Bayside - Little Neck</td>\n      <td>Male</td>\n      <td>All</td>\n      <td>0</td>\n      <td>0</td>\n      <td>0</td>\n      <td>NaN</td>\n      <td>0</td>\n      <td>0</td>\n    </tr>\n    <tr>\n      <th>6993</th>\n      <td>2020</td>\n      <td>Queens</td>\n      <td>Bayside - Little Neck</td>\n      <td>Male</td>\n      <td>Asian/Pacific\\nIslander</td>\n      <td>0</td>\n      <td>0</td>\n      <td>0</td>\n      <td>NaN</td>\n      <td>0</td>\n      <td>0</td>\n    </tr>\n    <tr>\n      <th>6994</th>\n      <td>2020</td>\n      <td>Queens</td>\n      <td>Bayside - Little Neck</td>\n      <td>Male</td>\n      <td>Black</td>\n      <td>0</td>\n      <td>0</td>\n      <td>0</td>\n      <td>NaN</td>\n      <td>0</td>\n      <td>0</td>\n    </tr>\n    <tr>\n      <th>6995</th>\n      <td>2020</td>\n      <td>Queens</td>\n      <td>Bayside - Little Neck</td>\n      <td>Male</td>\n      <td>Latino/Hispanic</td>\n      <td>0</td>\n      <td>0</td>\n      <td>0</td>\n      <td>NaN</td>\n      <td>0</td>\n      <td>0</td>\n    </tr>\n    <tr>\n      <th>6996</th>\n      <td>2020</td>\n      <td>Queens</td>\n      <td>Bayside - Little Neck</td>\n      <td>Male</td>\n      <td>Other/Unknown</td>\n      <td>0</td>\n      <td>0</td>\n      <td>0</td>\n      <td>NaN</td>\n      <td>0</td>\n      <td>0</td>\n    </tr>\n    <tr>\n      <th>6997</th>\n      <td>2020</td>\n      <td>Queens</td>\n      <td>Bayside - Little Neck</td>\n      <td>Male</td>\n      <td>White</td>\n      <td>0</td>\n      <td>0</td>\n      <td>0</td>\n      <td>NaN</td>\n      <td>0</td>\n      <td>0</td>\n    </tr>\n    <tr>\n      <th>7842</th>\n      <td>2020</td>\n      <td>Queens</td>\n      <td>Bayside - Little Neck</td>\n      <td>All</td>\n      <td>All</td>\n      <td>0</td>\n      <td>0</td>\n      <td>0</td>\n      <td>NaN</td>\n      <td>0</td>\n      <td>0</td>\n    </tr>\n    <tr>\n      <th>7843</th>\n      <td>2020</td>\n      <td>Queens</td>\n      <td>Bayside - Little Neck</td>\n      <td>All</td>\n      <td>Asian/Pacific\\nIslander</td>\n      <td>0</td>\n      <td>0</td>\n      <td>0</td>\n      <td>NaN</td>\n      <td>0</td>\n      <td>0</td>\n    </tr>\n    <tr>\n      <th>7844</th>\n      <td>2020</td>\n      <td>Queens</td>\n      <td>Bayside - Little Neck</td>\n      <td>All</td>\n      <td>Black</td>\n      <td>0</td>\n      <td>0</td>\n      <td>0</td>\n      <td>NaN</td>\n      <td>0</td>\n      <td>0</td>\n    </tr>\n    <tr>\n      <th>7845</th>\n      <td>2020</td>\n      <td>Queens</td>\n      <td>Bayside - Little Neck</td>\n      <td>All</td>\n      <td>Latino/Hispanic</td>\n      <td>0</td>\n      <td>0</td>\n      <td>0</td>\n      <td>NaN</td>\n      <td>0</td>\n      <td>0</td>\n    </tr>\n    <tr>\n      <th>7846</th>\n      <td>2020</td>\n      <td>Queens</td>\n      <td>Bayside - Little Neck</td>\n      <td>All</td>\n      <td>Other/Unknown</td>\n      <td>0</td>\n      <td>0</td>\n      <td>0</td>\n      <td>NaN</td>\n      <td>0</td>\n      <td>0</td>\n    </tr>\n    <tr>\n      <th>7847</th>\n      <td>2020</td>\n      <td>Queens</td>\n      <td>Bayside - Little Neck</td>\n      <td>All</td>\n      <td>White</td>\n      <td>0</td>\n      <td>0</td>\n      <td>0</td>\n      <td>NaN</td>\n      <td>0</td>\n      <td>0</td>\n    </tr>\n    <tr>\n      <th>7848</th>\n      <td>2020</td>\n      <td>Queens</td>\n      <td>Bayside - Little Neck</td>\n      <td>Female</td>\n      <td>All</td>\n      <td>0</td>\n      <td>0</td>\n      <td>0</td>\n      <td>NaN</td>\n      <td>0</td>\n      <td>0</td>\n    </tr>\n    <tr>\n      <th>7849</th>\n      <td>2020</td>\n      <td>Queens</td>\n      <td>Bayside - Little Neck</td>\n      <td>Female</td>\n      <td>Asian/Pacific\\nIslander</td>\n      <td>0</td>\n      <td>0</td>\n      <td>0</td>\n      <td>NaN</td>\n      <td>0</td>\n      <td>0</td>\n    </tr>\n    <tr>\n      <th>7850</th>\n      <td>2020</td>\n      <td>Queens</td>\n      <td>Bayside - Little Neck</td>\n      <td>Female</td>\n      <td>Black</td>\n      <td>0</td>\n      <td>0</td>\n      <td>0</td>\n      <td>NaN</td>\n      <td>0</td>\n      <td>0</td>\n    </tr>\n    <tr>\n      <th>7851</th>\n      <td>2020</td>\n      <td>Queens</td>\n      <td>Bayside - Little Neck</td>\n      <td>Female</td>\n      <td>Latino/Hispanic</td>\n      <td>0</td>\n      <td>0</td>\n      <td>0</td>\n      <td>NaN</td>\n      <td>0</td>\n      <td>0</td>\n    </tr>\n    <tr>\n      <th>7852</th>\n      <td>2020</td>\n      <td>Queens</td>\n      <td>Bayside - Little Neck</td>\n      <td>Female</td>\n      <td>Other/Unknown</td>\n      <td>0</td>\n      <td>0</td>\n      <td>0</td>\n      <td>NaN</td>\n      <td>0</td>\n      <td>0</td>\n    </tr>\n    <tr>\n      <th>7853</th>\n      <td>2020</td>\n      <td>Queens</td>\n      <td>Bayside - Little Neck</td>\n      <td>Female</td>\n      <td>White</td>\n      <td>0</td>\n      <td>0</td>\n      <td>0</td>\n      <td>NaN</td>\n      <td>0</td>\n      <td>0</td>\n    </tr>\n    <tr>\n      <th>7854</th>\n      <td>2020</td>\n      <td>Queens</td>\n      <td>Bayside - Little Neck</td>\n      <td>Male</td>\n      <td>All</td>\n      <td>0</td>\n      <td>0</td>\n      <td>0</td>\n      <td>NaN</td>\n      <td>0</td>\n      <td>0</td>\n    </tr>\n    <tr>\n      <th>7855</th>\n      <td>2020</td>\n      <td>Queens</td>\n      <td>Bayside - Little Neck</td>\n      <td>Male</td>\n      <td>Asian/Pacific\\nIslander</td>\n      <td>0</td>\n      <td>0</td>\n      <td>0</td>\n      <td>NaN</td>\n      <td>0</td>\n      <td>0</td>\n    </tr>\n    <tr>\n      <th>7856</th>\n      <td>2020</td>\n      <td>Queens</td>\n      <td>Bayside - Little Neck</td>\n      <td>Male</td>\n      <td>Black</td>\n      <td>0</td>\n      <td>0</td>\n      <td>0</td>\n      <td>NaN</td>\n      <td>0</td>\n      <td>0</td>\n    </tr>\n    <tr>\n      <th>7857</th>\n      <td>2020</td>\n      <td>Queens</td>\n      <td>Bayside - Little Neck</td>\n      <td>Male</td>\n      <td>Latino/Hispanic</td>\n      <td>0</td>\n      <td>0</td>\n      <td>0</td>\n      <td>NaN</td>\n      <td>0</td>\n      <td>0</td>\n    </tr>\n    <tr>\n      <th>7858</th>\n      <td>2020</td>\n      <td>Queens</td>\n      <td>Bayside - Little Neck</td>\n      <td>Male</td>\n      <td>Other/Unknown</td>\n      <td>0</td>\n      <td>0</td>\n      <td>0</td>\n      <td>NaN</td>\n      <td>0</td>\n      <td>0</td>\n    </tr>\n    <tr>\n      <th>7859</th>\n      <td>2020</td>\n      <td>Queens</td>\n      <td>Bayside - Little Neck</td>\n      <td>Male</td>\n      <td>White</td>\n      <td>0</td>\n      <td>0</td>\n      <td>0</td>\n      <td>NaN</td>\n      <td>0</td>\n      <td>0</td>\n    </tr>\n  </tbody>\n</table>\n</div>"
     },
     "execution_count": 52,
     "metadata": {},
     "output_type": "execute_result"
    }
   ],
   "source": [
    "\n",
    "data.loc[(data['Neighborhood (U.H.F)'] == 'Bayside - Little Neck') & (data['YEAR'] == 2020)]"
   ],
   "metadata": {
    "collapsed": false
   }
  },
  {
   "cell_type": "code",
   "execution_count": 57,
   "outputs": [
    {
     "data": {
      "text/plain": "      YEAR         Borough         Neighborhood (U.H.F)     SEX  \\\n2     2010             NaN             Southeast Queens    Male   \n9     2010             NaN         Flushing - Clearview     All   \n21    2013             NaN  Gramercy Park - Murray Hill  Female   \n23    2011             NaN    South Beach - Tottenville     All   \n28    2013             NaN                Port Richmond  Female   \n...    ...             ...                          ...     ...   \n8946  2021  Staten\\nIsland      Stapleton - St.\\nGeorge  Female   \n8952  2021  Staten\\nIsland      Stapleton - St.\\nGeorge    Male   \n8958  2021  Staten\\nIsland                  Willowbrook     All   \n8964  2021  Staten\\nIsland                  Willowbrook  Female   \n8970  2021  Staten\\nIsland                  Willowbrook    Male   \n\n     RACE/ETHNICITY TOTAL NUMBER OF HIV DIAGNOSES  \\\n2               All                            23   \n9               All                            14   \n21              All                             3   \n23              All                             4   \n28              All                             5   \n...             ...                           ...   \n8946            All                             4   \n8952            All                            13   \n8958            All                             4   \n8964            All                             1   \n8970            All                             3   \n\n     HIV DIAGNOSES PER 100,000 POPULATION  \\\n2                                    25.4   \n9                                     5.4   \n21                                    4.1   \n23                                    2.1   \n28                                   13.6   \n...                                   ...   \n8946                                  7.1   \n8952                                 24.5   \n8958                                  4.9   \n8964                                  2.4   \n8970                                  7.7   \n\n     TOTAL NUMBER OF CONCURRENT HIV/AIDS DIAGNOSES  \\\n2                                                5   \n9                                                5   \n21                                               0   \n23                                               2   \n28                                               1   \n...                                            ...   \n8946                                             1   \n8952                                             2   \n8958                                             0   \n8964                                             0   \n8970                                             0   \n\n     PROPORTION OF CONCURRENT HIV/AIDS DIAGNOSES AMONG ALL HIV DIAGNOSES  \\\n2                                                  21.7                    \n9                                                  35.7                    \n21                                                    0                    \n23                                                   50                    \n28                                                   20                    \n...                                                 ...                    \n8946                                                 25                    \n8952                                               15.4                    \n8958                                                  0                    \n8964                                                  0                    \n8970                                                  0                    \n\n     TOTAL NUMBER OF AIDS DIAGNOSES AIDS DIAGNOSES PER 100,000 POPULATION  \n2                                14                                  15.4  \n9                                12                                   4.6  \n21                                0                                     0  \n23                                4                                   2.1  \n28                                4                                  10.9  \n...                             ...                                   ...  \n8946                              8                                  14.2  \n8952                              5                                   9.4  \n8958                              4                                   4.9  \n8964                              0                                     0  \n8970                              4                                  10.2  \n\n[1528 rows x 11 columns]",
      "text/html": "<div>\n<style scoped>\n    .dataframe tbody tr th:only-of-type {\n        vertical-align: middle;\n    }\n\n    .dataframe tbody tr th {\n        vertical-align: top;\n    }\n\n    .dataframe thead th {\n        text-align: right;\n    }\n</style>\n<table border=\"1\" class=\"dataframe\">\n  <thead>\n    <tr style=\"text-align: right;\">\n      <th></th>\n      <th>YEAR</th>\n      <th>Borough</th>\n      <th>Neighborhood (U.H.F)</th>\n      <th>SEX</th>\n      <th>RACE/ETHNICITY</th>\n      <th>TOTAL NUMBER OF HIV DIAGNOSES</th>\n      <th>HIV DIAGNOSES PER 100,000 POPULATION</th>\n      <th>TOTAL NUMBER OF CONCURRENT HIV/AIDS DIAGNOSES</th>\n      <th>PROPORTION OF CONCURRENT HIV/AIDS DIAGNOSES AMONG ALL HIV DIAGNOSES</th>\n      <th>TOTAL NUMBER OF AIDS DIAGNOSES</th>\n      <th>AIDS DIAGNOSES PER 100,000 POPULATION</th>\n    </tr>\n  </thead>\n  <tbody>\n    <tr>\n      <th>2</th>\n      <td>2010</td>\n      <td>NaN</td>\n      <td>Southeast Queens</td>\n      <td>Male</td>\n      <td>All</td>\n      <td>23</td>\n      <td>25.4</td>\n      <td>5</td>\n      <td>21.7</td>\n      <td>14</td>\n      <td>15.4</td>\n    </tr>\n    <tr>\n      <th>9</th>\n      <td>2010</td>\n      <td>NaN</td>\n      <td>Flushing - Clearview</td>\n      <td>All</td>\n      <td>All</td>\n      <td>14</td>\n      <td>5.4</td>\n      <td>5</td>\n      <td>35.7</td>\n      <td>12</td>\n      <td>4.6</td>\n    </tr>\n    <tr>\n      <th>21</th>\n      <td>2013</td>\n      <td>NaN</td>\n      <td>Gramercy Park - Murray Hill</td>\n      <td>Female</td>\n      <td>All</td>\n      <td>3</td>\n      <td>4.1</td>\n      <td>0</td>\n      <td>0</td>\n      <td>0</td>\n      <td>0</td>\n    </tr>\n    <tr>\n      <th>23</th>\n      <td>2011</td>\n      <td>NaN</td>\n      <td>South Beach - Tottenville</td>\n      <td>All</td>\n      <td>All</td>\n      <td>4</td>\n      <td>2.1</td>\n      <td>2</td>\n      <td>50</td>\n      <td>4</td>\n      <td>2.1</td>\n    </tr>\n    <tr>\n      <th>28</th>\n      <td>2013</td>\n      <td>NaN</td>\n      <td>Port Richmond</td>\n      <td>Female</td>\n      <td>All</td>\n      <td>5</td>\n      <td>13.6</td>\n      <td>1</td>\n      <td>20</td>\n      <td>4</td>\n      <td>10.9</td>\n    </tr>\n    <tr>\n      <th>...</th>\n      <td>...</td>\n      <td>...</td>\n      <td>...</td>\n      <td>...</td>\n      <td>...</td>\n      <td>...</td>\n      <td>...</td>\n      <td>...</td>\n      <td>...</td>\n      <td>...</td>\n      <td>...</td>\n    </tr>\n    <tr>\n      <th>8946</th>\n      <td>2021</td>\n      <td>Staten\\nIsland</td>\n      <td>Stapleton - St.\\nGeorge</td>\n      <td>Female</td>\n      <td>All</td>\n      <td>4</td>\n      <td>7.1</td>\n      <td>1</td>\n      <td>25</td>\n      <td>8</td>\n      <td>14.2</td>\n    </tr>\n    <tr>\n      <th>8952</th>\n      <td>2021</td>\n      <td>Staten\\nIsland</td>\n      <td>Stapleton - St.\\nGeorge</td>\n      <td>Male</td>\n      <td>All</td>\n      <td>13</td>\n      <td>24.5</td>\n      <td>2</td>\n      <td>15.4</td>\n      <td>5</td>\n      <td>9.4</td>\n    </tr>\n    <tr>\n      <th>8958</th>\n      <td>2021</td>\n      <td>Staten\\nIsland</td>\n      <td>Willowbrook</td>\n      <td>All</td>\n      <td>All</td>\n      <td>4</td>\n      <td>4.9</td>\n      <td>0</td>\n      <td>0</td>\n      <td>4</td>\n      <td>4.9</td>\n    </tr>\n    <tr>\n      <th>8964</th>\n      <td>2021</td>\n      <td>Staten\\nIsland</td>\n      <td>Willowbrook</td>\n      <td>Female</td>\n      <td>All</td>\n      <td>1</td>\n      <td>2.4</td>\n      <td>0</td>\n      <td>0</td>\n      <td>0</td>\n      <td>0</td>\n    </tr>\n    <tr>\n      <th>8970</th>\n      <td>2021</td>\n      <td>Staten\\nIsland</td>\n      <td>Willowbrook</td>\n      <td>Male</td>\n      <td>All</td>\n      <td>3</td>\n      <td>7.7</td>\n      <td>0</td>\n      <td>0</td>\n      <td>4</td>\n      <td>10.2</td>\n    </tr>\n  </tbody>\n</table>\n<p>1528 rows × 11 columns</p>\n</div>"
     },
     "execution_count": 57,
     "metadata": {},
     "output_type": "execute_result"
    }
   ],
   "source": [
    "data.loc[data['RACE/ETHNICITY'] == 'All']"
   ],
   "metadata": {
    "collapsed": false
   }
  },
  {
   "cell_type": "code",
   "execution_count": 58,
   "outputs": [
    {
     "data": {
      "text/plain": "      YEAR Borough  Neighborhood (U.H.F)     SEX           RACE/ETHNICITY  \\\n9     2010     NaN  Flushing - Clearview     All                      All   \n16    2012     NaN  Flushing - Clearview    Male   Asian/Pacific Islander   \n58    2013     NaN  Flushing - Clearview  Female          Native American   \n88    2010     NaN  Flushing - Clearview  Female                    White   \n131   2011     NaN  Flushing - Clearview    Male                  Unknown   \n...    ...     ...                   ...     ...                      ...   \n8737  2021  Queens  Flushing - Clearview    Male  Asian/Pacific\\nIslander   \n8738  2021  Queens  Flushing - Clearview    Male                    Black   \n8739  2021  Queens  Flushing - Clearview    Male          Latino/Hispanic   \n8740  2021  Queens  Flushing - Clearview    Male            Other/Unknown   \n8741  2021  Queens  Flushing - Clearview    Male                    White   \n\n     TOTAL NUMBER OF HIV DIAGNOSES HIV DIAGNOSES PER 100,000 POPULATION  \\\n9                               14                                  5.4   \n16                               7                                 11.1   \n58                               0                                    0   \n88                               1                                  2.3   \n131                              0                                    0   \n...                            ...                                  ...   \n8737                             3                                  5.4   \n8738                             3                                161.2   \n8739                             5                                 25.7   \n8740                             0                                    0   \n8741                             1                                  3.4   \n\n     TOTAL NUMBER OF CONCURRENT HIV/AIDS DIAGNOSES  \\\n9                                                5   \n16                                               5   \n58                                               0   \n88                                               0   \n131                                              0   \n...                                            ...   \n8737                                             1   \n8738                                             0   \n8739                                             2   \n8740                                             0   \n8741                                             0   \n\n     PROPORTION OF CONCURRENT HIV/AIDS DIAGNOSES AMONG ALL HIV DIAGNOSES  \\\n9                                                  35.7                    \n16                                                 71.4                    \n58                                                    0                    \n88                                                    0                    \n131                                                   0                    \n...                                                 ...                    \n8737                                               33.3                    \n8738                                                  0                    \n8739                                                 40                    \n8740                                                NaN                    \n8741                                                  0                    \n\n     TOTAL NUMBER OF AIDS DIAGNOSES AIDS DIAGNOSES PER 100,000 POPULATION  \n9                                12                                   4.6  \n16                                5                                   7.9  \n58                                0                                     0  \n88                                0                                     0  \n131                               0                                     0  \n...                             ...                                   ...  \n8737                              3                                   5.4  \n8738                              0                                     0  \n8739                              4                                  20.6  \n8740                              0                                     0  \n8741                              2                                   6.9  \n\n[194 rows x 11 columns]",
      "text/html": "<div>\n<style scoped>\n    .dataframe tbody tr th:only-of-type {\n        vertical-align: middle;\n    }\n\n    .dataframe tbody tr th {\n        vertical-align: top;\n    }\n\n    .dataframe thead th {\n        text-align: right;\n    }\n</style>\n<table border=\"1\" class=\"dataframe\">\n  <thead>\n    <tr style=\"text-align: right;\">\n      <th></th>\n      <th>YEAR</th>\n      <th>Borough</th>\n      <th>Neighborhood (U.H.F)</th>\n      <th>SEX</th>\n      <th>RACE/ETHNICITY</th>\n      <th>TOTAL NUMBER OF HIV DIAGNOSES</th>\n      <th>HIV DIAGNOSES PER 100,000 POPULATION</th>\n      <th>TOTAL NUMBER OF CONCURRENT HIV/AIDS DIAGNOSES</th>\n      <th>PROPORTION OF CONCURRENT HIV/AIDS DIAGNOSES AMONG ALL HIV DIAGNOSES</th>\n      <th>TOTAL NUMBER OF AIDS DIAGNOSES</th>\n      <th>AIDS DIAGNOSES PER 100,000 POPULATION</th>\n    </tr>\n  </thead>\n  <tbody>\n    <tr>\n      <th>9</th>\n      <td>2010</td>\n      <td>NaN</td>\n      <td>Flushing - Clearview</td>\n      <td>All</td>\n      <td>All</td>\n      <td>14</td>\n      <td>5.4</td>\n      <td>5</td>\n      <td>35.7</td>\n      <td>12</td>\n      <td>4.6</td>\n    </tr>\n    <tr>\n      <th>16</th>\n      <td>2012</td>\n      <td>NaN</td>\n      <td>Flushing - Clearview</td>\n      <td>Male</td>\n      <td>Asian/Pacific Islander</td>\n      <td>7</td>\n      <td>11.1</td>\n      <td>5</td>\n      <td>71.4</td>\n      <td>5</td>\n      <td>7.9</td>\n    </tr>\n    <tr>\n      <th>58</th>\n      <td>2013</td>\n      <td>NaN</td>\n      <td>Flushing - Clearview</td>\n      <td>Female</td>\n      <td>Native American</td>\n      <td>0</td>\n      <td>0</td>\n      <td>0</td>\n      <td>0</td>\n      <td>0</td>\n      <td>0</td>\n    </tr>\n    <tr>\n      <th>88</th>\n      <td>2010</td>\n      <td>NaN</td>\n      <td>Flushing - Clearview</td>\n      <td>Female</td>\n      <td>White</td>\n      <td>1</td>\n      <td>2.3</td>\n      <td>0</td>\n      <td>0</td>\n      <td>0</td>\n      <td>0</td>\n    </tr>\n    <tr>\n      <th>131</th>\n      <td>2011</td>\n      <td>NaN</td>\n      <td>Flushing - Clearview</td>\n      <td>Male</td>\n      <td>Unknown</td>\n      <td>0</td>\n      <td>0</td>\n      <td>0</td>\n      <td>0</td>\n      <td>0</td>\n      <td>0</td>\n    </tr>\n    <tr>\n      <th>...</th>\n      <td>...</td>\n      <td>...</td>\n      <td>...</td>\n      <td>...</td>\n      <td>...</td>\n      <td>...</td>\n      <td>...</td>\n      <td>...</td>\n      <td>...</td>\n      <td>...</td>\n      <td>...</td>\n    </tr>\n    <tr>\n      <th>8737</th>\n      <td>2021</td>\n      <td>Queens</td>\n      <td>Flushing - Clearview</td>\n      <td>Male</td>\n      <td>Asian/Pacific\\nIslander</td>\n      <td>3</td>\n      <td>5.4</td>\n      <td>1</td>\n      <td>33.3</td>\n      <td>3</td>\n      <td>5.4</td>\n    </tr>\n    <tr>\n      <th>8738</th>\n      <td>2021</td>\n      <td>Queens</td>\n      <td>Flushing - Clearview</td>\n      <td>Male</td>\n      <td>Black</td>\n      <td>3</td>\n      <td>161.2</td>\n      <td>0</td>\n      <td>0</td>\n      <td>0</td>\n      <td>0</td>\n    </tr>\n    <tr>\n      <th>8739</th>\n      <td>2021</td>\n      <td>Queens</td>\n      <td>Flushing - Clearview</td>\n      <td>Male</td>\n      <td>Latino/Hispanic</td>\n      <td>5</td>\n      <td>25.7</td>\n      <td>2</td>\n      <td>40</td>\n      <td>4</td>\n      <td>20.6</td>\n    </tr>\n    <tr>\n      <th>8740</th>\n      <td>2021</td>\n      <td>Queens</td>\n      <td>Flushing - Clearview</td>\n      <td>Male</td>\n      <td>Other/Unknown</td>\n      <td>0</td>\n      <td>0</td>\n      <td>0</td>\n      <td>NaN</td>\n      <td>0</td>\n      <td>0</td>\n    </tr>\n    <tr>\n      <th>8741</th>\n      <td>2021</td>\n      <td>Queens</td>\n      <td>Flushing - Clearview</td>\n      <td>Male</td>\n      <td>White</td>\n      <td>1</td>\n      <td>3.4</td>\n      <td>0</td>\n      <td>0</td>\n      <td>2</td>\n      <td>6.9</td>\n    </tr>\n  </tbody>\n</table>\n<p>194 rows × 11 columns</p>\n</div>"
     },
     "execution_count": 58,
     "metadata": {},
     "output_type": "execute_result"
    }
   ],
   "source": [
    "data.loc[data['Neighborhood (U.H.F)'] == 'Flushing - Clearview'].isna()"
   ],
   "metadata": {
    "collapsed": false
   }
  },
  {
   "cell_type": "code",
   "execution_count": null,
   "outputs": [],
   "source": [],
   "metadata": {
    "collapsed": false
   }
  }
 ],
 "metadata": {
  "kernelspec": {
   "display_name": "Python 3",
   "language": "python",
   "name": "python3"
  },
  "language_info": {
   "codemirror_mode": {
    "name": "ipython",
    "version": 2
   },
   "file_extension": ".py",
   "mimetype": "text/x-python",
   "name": "python",
   "nbconvert_exporter": "python",
   "pygments_lexer": "ipython2",
   "version": "2.7.6"
  }
 },
 "nbformat": 4,
 "nbformat_minor": 0
}
