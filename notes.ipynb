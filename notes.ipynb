{
 "cells": [
  {
   "cell_type": "code",
   "execution_count": 1,
   "metadata": {
    "collapsed": true
   },
   "outputs": [],
   "source": [
    "import numpy as np\n",
    "import pandas as pd\n",
    "from IPython.display import display"
   ]
  },
  {
   "cell_type": "code",
   "execution_count": 2,
   "outputs": [],
   "source": [
    "data = pd.read_csv(\"HIV_AIDS_Diagnoses_by_Neighborhood__Sex__and_Race_Ethnicity.csv\")"
   ],
   "metadata": {
    "collapsed": false
   }
  },
  {
   "cell_type": "code",
   "execution_count": 3,
   "outputs": [
    {
     "data": {
      "text/plain": "    YEAR Borough      Neighborhood (U.H.F)     SEX          RACE/ETHNICITY  \\\n0   2010     NaN                Greenpoint    Male                   Black   \n1   2011     NaN    Stapleton - St. George  Female         Native American   \n2   2010     NaN          Southeast Queens    Male                     All   \n3   2012     NaN            Upper Westside  Female                 Unknown   \n4   2013     NaN               Willowbrook    Male                 Unknown   \n..   ...     ...                       ...     ...                     ...   \n95  2011     NaN                   Unknown  Female  Asian/Pacific Islander   \n96  2013     NaN               Sunset Park     All                     All   \n97  2010     NaN  Hunts Point - Mott Haven  Female         Native American   \n98  2013     NaN          Southwest Queens    Male  Asian/Pacific Islander   \n99  2013     NaN           Northeast Bronx  Female                 Unknown   \n\n   TOTAL NUMBER OF HIV DIAGNOSES HIV DIAGNOSES PER 100,000 POPULATION  \\\n0                              6                                330.4   \n1                              0                                    0   \n2                             23                                 25.4   \n3                              0                                    0   \n4                              0                                    0   \n..                           ...                                  ...   \n95                             0                                  NaN   \n96                            17                                 12.7   \n97                             0                                    0   \n98                             6                                 17.2   \n99                             0                                    0   \n\n   TOTAL NUMBER OF CONCURRENT HIV/AIDS DIAGNOSES  \\\n0                                              0   \n1                                              0   \n2                                              5   \n3                                              0   \n4                                              0   \n..                                           ...   \n95                                             0   \n96                                             2   \n97                                             0   \n98                                             1   \n99                                             0   \n\n   PROPORTION OF CONCURRENT HIV/AIDS DIAGNOSES AMONG ALL HIV DIAGNOSES  \\\n0                                                   0                    \n1                                                   0                    \n2                                                21.7                    \n3                                                   0                    \n4                                                   0                    \n..                                                ...                    \n95                                                NaN                    \n96                                               11.8                    \n97                                                  0                    \n98                                               16.7                    \n99                                                  0                    \n\n   TOTAL NUMBER OF AIDS DIAGNOSES AIDS DIAGNOSES PER 100,000 POPULATION  \n0                               5                                 275.3  \n1                               0                                     0  \n2                              14                                  15.4  \n3                               0                                     0  \n4                               0                                     0  \n..                            ...                                   ...  \n95                              0                                   NaN  \n96                             12                                   8.9  \n97                              0                                     0  \n98                              2                                   5.7  \n99                              0                                     0  \n\n[100 rows x 11 columns]",
      "text/html": "<div>\n<style scoped>\n    .dataframe tbody tr th:only-of-type {\n        vertical-align: middle;\n    }\n\n    .dataframe tbody tr th {\n        vertical-align: top;\n    }\n\n    .dataframe thead th {\n        text-align: right;\n    }\n</style>\n<table border=\"1\" class=\"dataframe\">\n  <thead>\n    <tr style=\"text-align: right;\">\n      <th></th>\n      <th>YEAR</th>\n      <th>Borough</th>\n      <th>Neighborhood (U.H.F)</th>\n      <th>SEX</th>\n      <th>RACE/ETHNICITY</th>\n      <th>TOTAL NUMBER OF HIV DIAGNOSES</th>\n      <th>HIV DIAGNOSES PER 100,000 POPULATION</th>\n      <th>TOTAL NUMBER OF CONCURRENT HIV/AIDS DIAGNOSES</th>\n      <th>PROPORTION OF CONCURRENT HIV/AIDS DIAGNOSES AMONG ALL HIV DIAGNOSES</th>\n      <th>TOTAL NUMBER OF AIDS DIAGNOSES</th>\n      <th>AIDS DIAGNOSES PER 100,000 POPULATION</th>\n    </tr>\n  </thead>\n  <tbody>\n    <tr>\n      <th>0</th>\n      <td>2010</td>\n      <td>NaN</td>\n      <td>Greenpoint</td>\n      <td>Male</td>\n      <td>Black</td>\n      <td>6</td>\n      <td>330.4</td>\n      <td>0</td>\n      <td>0</td>\n      <td>5</td>\n      <td>275.3</td>\n    </tr>\n    <tr>\n      <th>1</th>\n      <td>2011</td>\n      <td>NaN</td>\n      <td>Stapleton - St. George</td>\n      <td>Female</td>\n      <td>Native American</td>\n      <td>0</td>\n      <td>0</td>\n      <td>0</td>\n      <td>0</td>\n      <td>0</td>\n      <td>0</td>\n    </tr>\n    <tr>\n      <th>2</th>\n      <td>2010</td>\n      <td>NaN</td>\n      <td>Southeast Queens</td>\n      <td>Male</td>\n      <td>All</td>\n      <td>23</td>\n      <td>25.4</td>\n      <td>5</td>\n      <td>21.7</td>\n      <td>14</td>\n      <td>15.4</td>\n    </tr>\n    <tr>\n      <th>3</th>\n      <td>2012</td>\n      <td>NaN</td>\n      <td>Upper Westside</td>\n      <td>Female</td>\n      <td>Unknown</td>\n      <td>0</td>\n      <td>0</td>\n      <td>0</td>\n      <td>0</td>\n      <td>0</td>\n      <td>0</td>\n    </tr>\n    <tr>\n      <th>4</th>\n      <td>2013</td>\n      <td>NaN</td>\n      <td>Willowbrook</td>\n      <td>Male</td>\n      <td>Unknown</td>\n      <td>0</td>\n      <td>0</td>\n      <td>0</td>\n      <td>0</td>\n      <td>0</td>\n      <td>0</td>\n    </tr>\n    <tr>\n      <th>...</th>\n      <td>...</td>\n      <td>...</td>\n      <td>...</td>\n      <td>...</td>\n      <td>...</td>\n      <td>...</td>\n      <td>...</td>\n      <td>...</td>\n      <td>...</td>\n      <td>...</td>\n      <td>...</td>\n    </tr>\n    <tr>\n      <th>95</th>\n      <td>2011</td>\n      <td>NaN</td>\n      <td>Unknown</td>\n      <td>Female</td>\n      <td>Asian/Pacific Islander</td>\n      <td>0</td>\n      <td>NaN</td>\n      <td>0</td>\n      <td>NaN</td>\n      <td>0</td>\n      <td>NaN</td>\n    </tr>\n    <tr>\n      <th>96</th>\n      <td>2013</td>\n      <td>NaN</td>\n      <td>Sunset Park</td>\n      <td>All</td>\n      <td>All</td>\n      <td>17</td>\n      <td>12.7</td>\n      <td>2</td>\n      <td>11.8</td>\n      <td>12</td>\n      <td>8.9</td>\n    </tr>\n    <tr>\n      <th>97</th>\n      <td>2010</td>\n      <td>NaN</td>\n      <td>Hunts Point - Mott Haven</td>\n      <td>Female</td>\n      <td>Native American</td>\n      <td>0</td>\n      <td>0</td>\n      <td>0</td>\n      <td>0</td>\n      <td>0</td>\n      <td>0</td>\n    </tr>\n    <tr>\n      <th>98</th>\n      <td>2013</td>\n      <td>NaN</td>\n      <td>Southwest Queens</td>\n      <td>Male</td>\n      <td>Asian/Pacific Islander</td>\n      <td>6</td>\n      <td>17.2</td>\n      <td>1</td>\n      <td>16.7</td>\n      <td>2</td>\n      <td>5.7</td>\n    </tr>\n    <tr>\n      <th>99</th>\n      <td>2013</td>\n      <td>NaN</td>\n      <td>Northeast Bronx</td>\n      <td>Female</td>\n      <td>Unknown</td>\n      <td>0</td>\n      <td>0</td>\n      <td>0</td>\n      <td>0</td>\n      <td>0</td>\n      <td>0</td>\n    </tr>\n  </tbody>\n</table>\n<p>100 rows × 11 columns</p>\n</div>"
     },
     "execution_count": 3,
     "metadata": {},
     "output_type": "execute_result"
    }
   ],
   "source": [
    "data.head(100)"
   ],
   "metadata": {
    "collapsed": false
   }
  },
  {
   "cell_type": "code",
   "execution_count": 4,
   "outputs": [
    {
     "data": {
      "text/plain": "      YEAR         Borough Neighborhood (U.H.F)     SEX  \\\n8876  2021          Queens          West Queens  Female   \n8877  2021          Queens          West Queens  Female   \n8878  2021          Queens          West Queens  Female   \n8879  2021          Queens          West Queens  Female   \n8880  2021          Queens          West Queens    Male   \n...    ...             ...                  ...     ...   \n8971  2021  Staten\\nIsland          Willowbrook    Male   \n8972  2021  Staten\\nIsland          Willowbrook    Male   \n8973  2021  Staten\\nIsland          Willowbrook    Male   \n8974  2021  Staten\\nIsland          Willowbrook    Male   \n8975  2021  Staten\\nIsland          Willowbrook    Male   \n\n               RACE/ETHNICITY TOTAL NUMBER OF HIV DIAGNOSES  \\\n8876                    Black                             1   \n8877          Latino/Hispanic                             7   \n8878            Other/Unknown                             0   \n8879                    White                             0   \n8880                      All                            76   \n...                       ...                           ...   \n8971  Asian/Pacific\\nIslander                             2   \n8972                    Black                             0   \n8973          Latino/Hispanic                             1   \n8974            Other/Unknown                             0   \n8975                    White                             0   \n\n     HIV DIAGNOSES PER 100,000 POPULATION  \\\n8876                                 10.6   \n8877                                  7.6   \n8878                                    0   \n8879                                    0   \n8880                                 37.6   \n...                                   ...   \n8971                                 24.2   \n8972                                    0   \n8973                                 18.2   \n8974                                    0   \n8975                                    0   \n\n     TOTAL NUMBER OF CONCURRENT HIV/AIDS DIAGNOSES  \\\n8876                                             0   \n8877                                             0   \n8878                                             0   \n8879                                             0   \n8880                                            18   \n...                                            ...   \n8971                                             0   \n8972                                             0   \n8973                                             0   \n8974                                             0   \n8975                                             0   \n\n     PROPORTION OF CONCURRENT HIV/AIDS DIAGNOSES AMONG ALL HIV DIAGNOSES  \\\n8876                                                  0                    \n8877                                                  0                    \n8878                                                NaN                    \n8879                                                NaN                    \n8880                                               23.7                    \n...                                                 ...                    \n8971                                                  0                    \n8972                                                NaN                    \n8973                                                  0                    \n8974                                                NaN                    \n8975                                                NaN                    \n\n     TOTAL NUMBER OF AIDS DIAGNOSES AIDS DIAGNOSES PER 100,000 POPULATION  \n8876                              1                                  10.6  \n8877                              0                                     0  \n8878                              0                                     0  \n8879                              0                                     0  \n8880                             52                                  25.7  \n...                             ...                                   ...  \n8971                              0                                     0  \n8972                              0                                     0  \n8973                              0                                     0  \n8974                              1                                   153  \n8975                              3                                  12.8  \n\n[100 rows x 11 columns]",
      "text/html": "<div>\n<style scoped>\n    .dataframe tbody tr th:only-of-type {\n        vertical-align: middle;\n    }\n\n    .dataframe tbody tr th {\n        vertical-align: top;\n    }\n\n    .dataframe thead th {\n        text-align: right;\n    }\n</style>\n<table border=\"1\" class=\"dataframe\">\n  <thead>\n    <tr style=\"text-align: right;\">\n      <th></th>\n      <th>YEAR</th>\n      <th>Borough</th>\n      <th>Neighborhood (U.H.F)</th>\n      <th>SEX</th>\n      <th>RACE/ETHNICITY</th>\n      <th>TOTAL NUMBER OF HIV DIAGNOSES</th>\n      <th>HIV DIAGNOSES PER 100,000 POPULATION</th>\n      <th>TOTAL NUMBER OF CONCURRENT HIV/AIDS DIAGNOSES</th>\n      <th>PROPORTION OF CONCURRENT HIV/AIDS DIAGNOSES AMONG ALL HIV DIAGNOSES</th>\n      <th>TOTAL NUMBER OF AIDS DIAGNOSES</th>\n      <th>AIDS DIAGNOSES PER 100,000 POPULATION</th>\n    </tr>\n  </thead>\n  <tbody>\n    <tr>\n      <th>8876</th>\n      <td>2021</td>\n      <td>Queens</td>\n      <td>West Queens</td>\n      <td>Female</td>\n      <td>Black</td>\n      <td>1</td>\n      <td>10.6</td>\n      <td>0</td>\n      <td>0</td>\n      <td>1</td>\n      <td>10.6</td>\n    </tr>\n    <tr>\n      <th>8877</th>\n      <td>2021</td>\n      <td>Queens</td>\n      <td>West Queens</td>\n      <td>Female</td>\n      <td>Latino/Hispanic</td>\n      <td>7</td>\n      <td>7.6</td>\n      <td>0</td>\n      <td>0</td>\n      <td>0</td>\n      <td>0</td>\n    </tr>\n    <tr>\n      <th>8878</th>\n      <td>2021</td>\n      <td>Queens</td>\n      <td>West Queens</td>\n      <td>Female</td>\n      <td>Other/Unknown</td>\n      <td>0</td>\n      <td>0</td>\n      <td>0</td>\n      <td>NaN</td>\n      <td>0</td>\n      <td>0</td>\n    </tr>\n    <tr>\n      <th>8879</th>\n      <td>2021</td>\n      <td>Queens</td>\n      <td>West Queens</td>\n      <td>Female</td>\n      <td>White</td>\n      <td>0</td>\n      <td>0</td>\n      <td>0</td>\n      <td>NaN</td>\n      <td>0</td>\n      <td>0</td>\n    </tr>\n    <tr>\n      <th>8880</th>\n      <td>2021</td>\n      <td>Queens</td>\n      <td>West Queens</td>\n      <td>Male</td>\n      <td>All</td>\n      <td>76</td>\n      <td>37.6</td>\n      <td>18</td>\n      <td>23.7</td>\n      <td>52</td>\n      <td>25.7</td>\n    </tr>\n    <tr>\n      <th>...</th>\n      <td>...</td>\n      <td>...</td>\n      <td>...</td>\n      <td>...</td>\n      <td>...</td>\n      <td>...</td>\n      <td>...</td>\n      <td>...</td>\n      <td>...</td>\n      <td>...</td>\n      <td>...</td>\n    </tr>\n    <tr>\n      <th>8971</th>\n      <td>2021</td>\n      <td>Staten\\nIsland</td>\n      <td>Willowbrook</td>\n      <td>Male</td>\n      <td>Asian/Pacific\\nIslander</td>\n      <td>2</td>\n      <td>24.2</td>\n      <td>0</td>\n      <td>0</td>\n      <td>0</td>\n      <td>0</td>\n    </tr>\n    <tr>\n      <th>8972</th>\n      <td>2021</td>\n      <td>Staten\\nIsland</td>\n      <td>Willowbrook</td>\n      <td>Male</td>\n      <td>Black</td>\n      <td>0</td>\n      <td>0</td>\n      <td>0</td>\n      <td>NaN</td>\n      <td>0</td>\n      <td>0</td>\n    </tr>\n    <tr>\n      <th>8973</th>\n      <td>2021</td>\n      <td>Staten\\nIsland</td>\n      <td>Willowbrook</td>\n      <td>Male</td>\n      <td>Latino/Hispanic</td>\n      <td>1</td>\n      <td>18.2</td>\n      <td>0</td>\n      <td>0</td>\n      <td>0</td>\n      <td>0</td>\n    </tr>\n    <tr>\n      <th>8974</th>\n      <td>2021</td>\n      <td>Staten\\nIsland</td>\n      <td>Willowbrook</td>\n      <td>Male</td>\n      <td>Other/Unknown</td>\n      <td>0</td>\n      <td>0</td>\n      <td>0</td>\n      <td>NaN</td>\n      <td>1</td>\n      <td>153</td>\n    </tr>\n    <tr>\n      <th>8975</th>\n      <td>2021</td>\n      <td>Staten\\nIsland</td>\n      <td>Willowbrook</td>\n      <td>Male</td>\n      <td>White</td>\n      <td>0</td>\n      <td>0</td>\n      <td>0</td>\n      <td>NaN</td>\n      <td>3</td>\n      <td>12.8</td>\n    </tr>\n  </tbody>\n</table>\n<p>100 rows × 11 columns</p>\n</div>"
     },
     "execution_count": 4,
     "metadata": {},
     "output_type": "execute_result"
    }
   ],
   "source": [
    "data.tail(100)"
   ],
   "metadata": {
    "collapsed": false
   }
  },
  {
   "cell_type": "code",
   "execution_count": 5,
   "outputs": [
    {
     "data": {
      "text/plain": "      YEAR Borough Neighborhood (U.H.F)     SEX          RACE/ETHNICITY  \\\n14    2013     NaN              Unknown    Male             Multiracial   \n45    2013     NaN              Unknown  Female                 Unknown   \n95    2011     NaN              Unknown  Female  Asian/Pacific Islander   \n105   2012     NaN              Unknown    Male         Native American   \n242   2011     NaN              Unknown    Male                Hispanic   \n...    ...     ...                  ...     ...                     ...   \n2760  2010     NaN              Unknown    Male                   Black   \n2833  2012     NaN              Unknown    Male                     All   \n2888  2011     NaN              Unknown    Male                 Unknown   \n2917  2013     NaN              Unknown  Female                     All   \n2922  2010     NaN              Unknown    Male             Multiracial   \n\n     TOTAL NUMBER OF HIV DIAGNOSES HIV DIAGNOSES PER 100,000 POPULATION  \\\n14                               7                                  NaN   \n45                               0                                  NaN   \n95                               0                                  NaN   \n105                              0                                  NaN   \n242                             74                                  NaN   \n...                            ...                                  ...   \n2760                           101                                  NaN   \n2833                           275                                  NaN   \n2888                             0                                  NaN   \n2917                            32                                  NaN   \n2922                             2                                  NaN   \n\n     TOTAL NUMBER OF CONCURRENT HIV/AIDS DIAGNOSES  \\\n14                                               0   \n45                                               0   \n95                                               0   \n105                                              0   \n242                                              4   \n...                                            ...   \n2760                                            13   \n2833                                            36   \n2888                                             0   \n2917                                             2   \n2922                                             0   \n\n     PROPORTION OF CONCURRENT HIV/AIDS DIAGNOSES AMONG ALL HIV DIAGNOSES  \\\n14                                                  NaN                    \n45                                                  NaN                    \n95                                                  NaN                    \n105                                                 NaN                    \n242                                                 NaN                    \n...                                                 ...                    \n2760                                                NaN                    \n2833                                                NaN                    \n2888                                                NaN                    \n2917                                                NaN                    \n2922                                                NaN                    \n\n     TOTAL NUMBER OF AIDS DIAGNOSES AIDS DIAGNOSES PER 100,000 POPULATION  \n14                                1                                   NaN  \n45                                0                                   NaN  \n95                                0                                   NaN  \n105                               0                                   NaN  \n242                              42                                   NaN  \n...                             ...                                   ...  \n2760                             70                                   NaN  \n2833                            168                                   NaN  \n2888                              0                                   NaN  \n2917                             42                                   NaN  \n2922                              1                                   NaN  \n\n[68 rows x 11 columns]",
      "text/html": "<div>\n<style scoped>\n    .dataframe tbody tr th:only-of-type {\n        vertical-align: middle;\n    }\n\n    .dataframe tbody tr th {\n        vertical-align: top;\n    }\n\n    .dataframe thead th {\n        text-align: right;\n    }\n</style>\n<table border=\"1\" class=\"dataframe\">\n  <thead>\n    <tr style=\"text-align: right;\">\n      <th></th>\n      <th>YEAR</th>\n      <th>Borough</th>\n      <th>Neighborhood (U.H.F)</th>\n      <th>SEX</th>\n      <th>RACE/ETHNICITY</th>\n      <th>TOTAL NUMBER OF HIV DIAGNOSES</th>\n      <th>HIV DIAGNOSES PER 100,000 POPULATION</th>\n      <th>TOTAL NUMBER OF CONCURRENT HIV/AIDS DIAGNOSES</th>\n      <th>PROPORTION OF CONCURRENT HIV/AIDS DIAGNOSES AMONG ALL HIV DIAGNOSES</th>\n      <th>TOTAL NUMBER OF AIDS DIAGNOSES</th>\n      <th>AIDS DIAGNOSES PER 100,000 POPULATION</th>\n    </tr>\n  </thead>\n  <tbody>\n    <tr>\n      <th>14</th>\n      <td>2013</td>\n      <td>NaN</td>\n      <td>Unknown</td>\n      <td>Male</td>\n      <td>Multiracial</td>\n      <td>7</td>\n      <td>NaN</td>\n      <td>0</td>\n      <td>NaN</td>\n      <td>1</td>\n      <td>NaN</td>\n    </tr>\n    <tr>\n      <th>45</th>\n      <td>2013</td>\n      <td>NaN</td>\n      <td>Unknown</td>\n      <td>Female</td>\n      <td>Unknown</td>\n      <td>0</td>\n      <td>NaN</td>\n      <td>0</td>\n      <td>NaN</td>\n      <td>0</td>\n      <td>NaN</td>\n    </tr>\n    <tr>\n      <th>95</th>\n      <td>2011</td>\n      <td>NaN</td>\n      <td>Unknown</td>\n      <td>Female</td>\n      <td>Asian/Pacific Islander</td>\n      <td>0</td>\n      <td>NaN</td>\n      <td>0</td>\n      <td>NaN</td>\n      <td>0</td>\n      <td>NaN</td>\n    </tr>\n    <tr>\n      <th>105</th>\n      <td>2012</td>\n      <td>NaN</td>\n      <td>Unknown</td>\n      <td>Male</td>\n      <td>Native American</td>\n      <td>0</td>\n      <td>NaN</td>\n      <td>0</td>\n      <td>NaN</td>\n      <td>0</td>\n      <td>NaN</td>\n    </tr>\n    <tr>\n      <th>242</th>\n      <td>2011</td>\n      <td>NaN</td>\n      <td>Unknown</td>\n      <td>Male</td>\n      <td>Hispanic</td>\n      <td>74</td>\n      <td>NaN</td>\n      <td>4</td>\n      <td>NaN</td>\n      <td>42</td>\n      <td>NaN</td>\n    </tr>\n    <tr>\n      <th>...</th>\n      <td>...</td>\n      <td>...</td>\n      <td>...</td>\n      <td>...</td>\n      <td>...</td>\n      <td>...</td>\n      <td>...</td>\n      <td>...</td>\n      <td>...</td>\n      <td>...</td>\n      <td>...</td>\n    </tr>\n    <tr>\n      <th>2760</th>\n      <td>2010</td>\n      <td>NaN</td>\n      <td>Unknown</td>\n      <td>Male</td>\n      <td>Black</td>\n      <td>101</td>\n      <td>NaN</td>\n      <td>13</td>\n      <td>NaN</td>\n      <td>70</td>\n      <td>NaN</td>\n    </tr>\n    <tr>\n      <th>2833</th>\n      <td>2012</td>\n      <td>NaN</td>\n      <td>Unknown</td>\n      <td>Male</td>\n      <td>All</td>\n      <td>275</td>\n      <td>NaN</td>\n      <td>36</td>\n      <td>NaN</td>\n      <td>168</td>\n      <td>NaN</td>\n    </tr>\n    <tr>\n      <th>2888</th>\n      <td>2011</td>\n      <td>NaN</td>\n      <td>Unknown</td>\n      <td>Male</td>\n      <td>Unknown</td>\n      <td>0</td>\n      <td>NaN</td>\n      <td>0</td>\n      <td>NaN</td>\n      <td>0</td>\n      <td>NaN</td>\n    </tr>\n    <tr>\n      <th>2917</th>\n      <td>2013</td>\n      <td>NaN</td>\n      <td>Unknown</td>\n      <td>Female</td>\n      <td>All</td>\n      <td>32</td>\n      <td>NaN</td>\n      <td>2</td>\n      <td>NaN</td>\n      <td>42</td>\n      <td>NaN</td>\n    </tr>\n    <tr>\n      <th>2922</th>\n      <td>2010</td>\n      <td>NaN</td>\n      <td>Unknown</td>\n      <td>Male</td>\n      <td>Multiracial</td>\n      <td>2</td>\n      <td>NaN</td>\n      <td>0</td>\n      <td>NaN</td>\n      <td>1</td>\n      <td>NaN</td>\n    </tr>\n  </tbody>\n</table>\n<p>68 rows × 11 columns</p>\n</div>"
     },
     "execution_count": 5,
     "metadata": {},
     "output_type": "execute_result"
    }
   ],
   "source": [
    "data.loc[data['Neighborhood (U.H.F)'] == 'Unknown']"
   ],
   "metadata": {
    "collapsed": false
   }
  },
  {
   "cell_type": "code",
   "execution_count": 8,
   "outputs": [],
   "source": [
    "#data['Borough'] = data['Borough'].fillna(np.where(data['Neighborhood (U.H.F)'] == 'Unknown', 'Unknown',np.nan))\n",
    "#data['Borough'] = data['Borough'].fillna(np.where(data['Neighborhood (U.H.F)'] == 'Unknown', 'Unknown', np.nan))\n",
    "#data['Borough'] = data.apply(lambda row: np.where(row['Neighborhood (U.H.F)'] == 'Unknown', 'Unknown', row['Borough']), axis=1)\n",
    "def fill_borough(row):\n",
    "    if row['Neighborhood (U.H.F)'] == 'Unknown':\n",
    "        return 'Unknown'\n",
    "    else:\n",
    "        return np.nan\n",
    "\n",
    "# use the apply method to fill in missing values in the Borough column\n",
    "data['Borough'] = data.apply(fill_borough, axis=1)\n"
   ],
   "metadata": {
    "collapsed": false
   }
  },
  {
   "cell_type": "code",
   "execution_count": 14,
   "outputs": [
    {
     "data": {
      "text/plain": "      YEAR Borough    Neighborhood (U.H.F)     SEX           RACE/ETHNICITY  \\\n0     2010     NaN              Greenpoint    Male                    Black   \n1     2011     NaN  Stapleton - St. George  Female          Native American   \n2     2010     NaN        Southeast Queens    Male                      All   \n3     2012     NaN          Upper Westside  Female                  Unknown   \n4     2013     NaN             Willowbrook    Male                  Unknown   \n...    ...     ...                     ...     ...                      ...   \n8971  2021     NaN             Willowbrook    Male  Asian/Pacific\\nIslander   \n8972  2021     NaN             Willowbrook    Male                    Black   \n8973  2021     NaN             Willowbrook    Male          Latino/Hispanic   \n8974  2021     NaN             Willowbrook    Male            Other/Unknown   \n8975  2021     NaN             Willowbrook    Male                    White   \n\n     TOTAL NUMBER OF HIV DIAGNOSES HIV DIAGNOSES PER 100,000 POPULATION  \\\n0                                6                                330.4   \n1                                0                                    0   \n2                               23                                 25.4   \n3                                0                                    0   \n4                                0                                    0   \n...                            ...                                  ...   \n8971                             2                                 24.2   \n8972                             0                                    0   \n8973                             1                                 18.2   \n8974                             0                                    0   \n8975                             0                                    0   \n\n     TOTAL NUMBER OF CONCURRENT HIV/AIDS DIAGNOSES  \\\n0                                                0   \n1                                                0   \n2                                                5   \n3                                                0   \n4                                                0   \n...                                            ...   \n8971                                             0   \n8972                                             0   \n8973                                             0   \n8974                                             0   \n8975                                             0   \n\n     PROPORTION OF CONCURRENT HIV/AIDS DIAGNOSES AMONG ALL HIV DIAGNOSES  \\\n0                                                     0                    \n1                                                     0                    \n2                                                  21.7                    \n3                                                     0                    \n4                                                     0                    \n...                                                 ...                    \n8971                                                  0                    \n8972                                                NaN                    \n8973                                                  0                    \n8974                                                NaN                    \n8975                                                NaN                    \n\n     TOTAL NUMBER OF AIDS DIAGNOSES AIDS DIAGNOSES PER 100,000 POPULATION  \n0                                 5                                 275.3  \n1                                 0                                     0  \n2                                14                                  15.4  \n3                                 0                                     0  \n4                                 0                                     0  \n...                             ...                                   ...  \n8971                              0                                     0  \n8972                              0                                     0  \n8973                              0                                     0  \n8974                              1                                   153  \n8975                              3                                  12.8  \n\n[8976 rows x 11 columns]",
      "text/html": "<div>\n<style scoped>\n    .dataframe tbody tr th:only-of-type {\n        vertical-align: middle;\n    }\n\n    .dataframe tbody tr th {\n        vertical-align: top;\n    }\n\n    .dataframe thead th {\n        text-align: right;\n    }\n</style>\n<table border=\"1\" class=\"dataframe\">\n  <thead>\n    <tr style=\"text-align: right;\">\n      <th></th>\n      <th>YEAR</th>\n      <th>Borough</th>\n      <th>Neighborhood (U.H.F)</th>\n      <th>SEX</th>\n      <th>RACE/ETHNICITY</th>\n      <th>TOTAL NUMBER OF HIV DIAGNOSES</th>\n      <th>HIV DIAGNOSES PER 100,000 POPULATION</th>\n      <th>TOTAL NUMBER OF CONCURRENT HIV/AIDS DIAGNOSES</th>\n      <th>PROPORTION OF CONCURRENT HIV/AIDS DIAGNOSES AMONG ALL HIV DIAGNOSES</th>\n      <th>TOTAL NUMBER OF AIDS DIAGNOSES</th>\n      <th>AIDS DIAGNOSES PER 100,000 POPULATION</th>\n    </tr>\n  </thead>\n  <tbody>\n    <tr>\n      <th>0</th>\n      <td>2010</td>\n      <td>NaN</td>\n      <td>Greenpoint</td>\n      <td>Male</td>\n      <td>Black</td>\n      <td>6</td>\n      <td>330.4</td>\n      <td>0</td>\n      <td>0</td>\n      <td>5</td>\n      <td>275.3</td>\n    </tr>\n    <tr>\n      <th>1</th>\n      <td>2011</td>\n      <td>NaN</td>\n      <td>Stapleton - St. George</td>\n      <td>Female</td>\n      <td>Native American</td>\n      <td>0</td>\n      <td>0</td>\n      <td>0</td>\n      <td>0</td>\n      <td>0</td>\n      <td>0</td>\n    </tr>\n    <tr>\n      <th>2</th>\n      <td>2010</td>\n      <td>NaN</td>\n      <td>Southeast Queens</td>\n      <td>Male</td>\n      <td>All</td>\n      <td>23</td>\n      <td>25.4</td>\n      <td>5</td>\n      <td>21.7</td>\n      <td>14</td>\n      <td>15.4</td>\n    </tr>\n    <tr>\n      <th>3</th>\n      <td>2012</td>\n      <td>NaN</td>\n      <td>Upper Westside</td>\n      <td>Female</td>\n      <td>Unknown</td>\n      <td>0</td>\n      <td>0</td>\n      <td>0</td>\n      <td>0</td>\n      <td>0</td>\n      <td>0</td>\n    </tr>\n    <tr>\n      <th>4</th>\n      <td>2013</td>\n      <td>NaN</td>\n      <td>Willowbrook</td>\n      <td>Male</td>\n      <td>Unknown</td>\n      <td>0</td>\n      <td>0</td>\n      <td>0</td>\n      <td>0</td>\n      <td>0</td>\n      <td>0</td>\n    </tr>\n    <tr>\n      <th>...</th>\n      <td>...</td>\n      <td>...</td>\n      <td>...</td>\n      <td>...</td>\n      <td>...</td>\n      <td>...</td>\n      <td>...</td>\n      <td>...</td>\n      <td>...</td>\n      <td>...</td>\n      <td>...</td>\n    </tr>\n    <tr>\n      <th>8971</th>\n      <td>2021</td>\n      <td>NaN</td>\n      <td>Willowbrook</td>\n      <td>Male</td>\n      <td>Asian/Pacific\\nIslander</td>\n      <td>2</td>\n      <td>24.2</td>\n      <td>0</td>\n      <td>0</td>\n      <td>0</td>\n      <td>0</td>\n    </tr>\n    <tr>\n      <th>8972</th>\n      <td>2021</td>\n      <td>NaN</td>\n      <td>Willowbrook</td>\n      <td>Male</td>\n      <td>Black</td>\n      <td>0</td>\n      <td>0</td>\n      <td>0</td>\n      <td>NaN</td>\n      <td>0</td>\n      <td>0</td>\n    </tr>\n    <tr>\n      <th>8973</th>\n      <td>2021</td>\n      <td>NaN</td>\n      <td>Willowbrook</td>\n      <td>Male</td>\n      <td>Latino/Hispanic</td>\n      <td>1</td>\n      <td>18.2</td>\n      <td>0</td>\n      <td>0</td>\n      <td>0</td>\n      <td>0</td>\n    </tr>\n    <tr>\n      <th>8974</th>\n      <td>2021</td>\n      <td>NaN</td>\n      <td>Willowbrook</td>\n      <td>Male</td>\n      <td>Other/Unknown</td>\n      <td>0</td>\n      <td>0</td>\n      <td>0</td>\n      <td>NaN</td>\n      <td>1</td>\n      <td>153</td>\n    </tr>\n    <tr>\n      <th>8975</th>\n      <td>2021</td>\n      <td>NaN</td>\n      <td>Willowbrook</td>\n      <td>Male</td>\n      <td>White</td>\n      <td>0</td>\n      <td>0</td>\n      <td>0</td>\n      <td>NaN</td>\n      <td>3</td>\n      <td>12.8</td>\n    </tr>\n  </tbody>\n</table>\n<p>8976 rows × 11 columns</p>\n</div>"
     },
     "execution_count": 14,
     "metadata": {},
     "output_type": "execute_result"
    }
   ],
   "source": [
    "data[data.notna()]"
   ],
   "metadata": {
    "collapsed": false
   }
  },
  {
   "cell_type": "code",
   "execution_count": 15,
   "outputs": [
    {
     "data": {
      "text/plain": "YEAR                                                                      0\nBorough                                                                8908\nNeighborhood (U.H.F)                                                      0\nSEX                                                                       0\nRACE/ETHNICITY                                                            0\nTOTAL NUMBER OF HIV DIAGNOSES                                             6\nHIV DIAGNOSES PER 100,000 POPULATION                                     74\nTOTAL NUMBER OF CONCURRENT HIV/AIDS DIAGNOSES                             2\nPROPORTION OF CONCURRENT HIV/AIDS DIAGNOSES AMONG ALL HIV DIAGNOSES    1893\nTOTAL NUMBER OF AIDS DIAGNOSES                                            3\nAIDS DIAGNOSES PER 100,000 POPULATION                                    71\ndtype: int64"
     },
     "execution_count": 15,
     "metadata": {},
     "output_type": "execute_result"
    }
   ],
   "source": [
    "data.isna().sum()"
   ],
   "metadata": {
    "collapsed": false
   }
  },
  {
   "cell_type": "code",
   "execution_count": null,
   "outputs": [],
   "source": [
    "def fill_borough(row):\n",
    "    if row['Neighborhood (U.H.F)'] == 'Unknown':\n",
    "        return 'Unknown'\n",
    "    else:\n",
    "        return np.nan\n",
    "\n",
    "# use the apply method to fill in missing values in the Borough column\n",
    "data['Borough'] = data.apply(fill_borough, axis=1)"
   ],
   "metadata": {
    "collapsed": false
   }
  }
 ],
 "metadata": {
  "kernelspec": {
   "display_name": "Python 3",
   "language": "python",
   "name": "python3"
  },
  "language_info": {
   "codemirror_mode": {
    "name": "ipython",
    "version": 2
   },
   "file_extension": ".py",
   "mimetype": "text/x-python",
   "name": "python",
   "nbconvert_exporter": "python",
   "pygments_lexer": "ipython2",
   "version": "2.7.6"
  }
 },
 "nbformat": 4,
 "nbformat_minor": 0
}
